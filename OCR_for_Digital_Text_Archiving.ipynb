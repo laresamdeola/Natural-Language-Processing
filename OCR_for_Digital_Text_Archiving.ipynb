{
  "nbformat": 4,
  "nbformat_minor": 0,
  "metadata": {
    "colab": {
      "provenance": [],
      "authorship_tag": "ABX9TyMOj6xkVGNDss6wVoVLklE0"
    },
    "kernelspec": {
      "name": "python3",
      "display_name": "Python 3"
    },
    "language_info": {
      "name": "python"
    }
  },
  "cells": [
    {
      "cell_type": "code",
      "source": [
        "!sudo apt-get install -y tesseract-ocr\n",
        "!pip install pytesseract Pillow"
      ],
      "metadata": {
        "colab": {
          "base_uri": "https://localhost:8080/"
        },
        "id": "NExKZjExWl0h",
        "outputId": "b29b96bc-5ada-4414-d63a-2c29279b7f68"
      },
      "execution_count": 9,
      "outputs": [
        {
          "output_type": "stream",
          "name": "stdout",
          "text": [
            "Reading package lists... Done\n",
            "Building dependency tree... Done\n",
            "Reading state information... Done\n",
            "The following additional packages will be installed:\n",
            "  tesseract-ocr-eng tesseract-ocr-osd\n",
            "The following NEW packages will be installed:\n",
            "  tesseract-ocr tesseract-ocr-eng tesseract-ocr-osd\n",
            "0 upgraded, 3 newly installed, 0 to remove and 49 not upgraded.\n",
            "Need to get 4,816 kB of archives.\n",
            "After this operation, 15.6 MB of additional disk space will be used.\n",
            "Get:1 http://archive.ubuntu.com/ubuntu jammy/universe amd64 tesseract-ocr-eng all 1:4.00~git30-7274cfa-1.1 [1,591 kB]\n",
            "Get:2 http://archive.ubuntu.com/ubuntu jammy/universe amd64 tesseract-ocr-osd all 1:4.00~git30-7274cfa-1.1 [2,990 kB]\n",
            "Get:3 http://archive.ubuntu.com/ubuntu jammy/universe amd64 tesseract-ocr amd64 4.1.1-2.1build1 [236 kB]\n",
            "Fetched 4,816 kB in 1s (4,274 kB/s)\n",
            "debconf: unable to initialize frontend: Dialog\n",
            "debconf: (No usable dialog-like program is installed, so the dialog based frontend cannot be used. at /usr/share/perl5/Debconf/FrontEnd/Dialog.pm line 78, <> line 3.)\n",
            "debconf: falling back to frontend: Readline\n",
            "debconf: unable to initialize frontend: Readline\n",
            "debconf: (This frontend requires a controlling tty.)\n",
            "debconf: falling back to frontend: Teletype\n",
            "dpkg-preconfigure: unable to re-open stdin: \n",
            "Selecting previously unselected package tesseract-ocr-eng.\n",
            "(Reading database ... 123632 files and directories currently installed.)\n",
            "Preparing to unpack .../tesseract-ocr-eng_1%3a4.00~git30-7274cfa-1.1_all.deb ...\n",
            "Unpacking tesseract-ocr-eng (1:4.00~git30-7274cfa-1.1) ...\n",
            "Selecting previously unselected package tesseract-ocr-osd.\n",
            "Preparing to unpack .../tesseract-ocr-osd_1%3a4.00~git30-7274cfa-1.1_all.deb ...\n",
            "Unpacking tesseract-ocr-osd (1:4.00~git30-7274cfa-1.1) ...\n",
            "Selecting previously unselected package tesseract-ocr.\n",
            "Preparing to unpack .../tesseract-ocr_4.1.1-2.1build1_amd64.deb ...\n",
            "Unpacking tesseract-ocr (4.1.1-2.1build1) ...\n",
            "Setting up tesseract-ocr-eng (1:4.00~git30-7274cfa-1.1) ...\n",
            "Setting up tesseract-ocr-osd (1:4.00~git30-7274cfa-1.1) ...\n",
            "Setting up tesseract-ocr (4.1.1-2.1build1) ...\n",
            "Processing triggers for man-db (2.10.2-1) ...\n",
            "Requirement already satisfied: pytesseract in /usr/local/lib/python3.10/dist-packages (0.3.13)\n",
            "Requirement already satisfied: Pillow in /usr/local/lib/python3.10/dist-packages (11.0.0)\n",
            "Requirement already satisfied: packaging>=21.3 in /usr/local/lib/python3.10/dist-packages (from pytesseract) (24.2)\n"
          ]
        }
      ]
    },
    {
      "cell_type": "code",
      "source": [
        "from PIL import Image\n",
        "import pytesseract as pyt\n",
        "\n",
        "image_path = \"william blake poem 2.jpg\"\n",
        "image = Image.open(image_path)\n",
        "\n",
        "extracted_text = pyt.image_to_string(image)\n",
        "\n",
        "print(extracted_text)"
      ],
      "metadata": {
        "colab": {
          "base_uri": "https://localhost:8080/"
        },
        "id": "tlSkJUHEVGXy",
        "outputId": "9ac46515-10ac-4c41-e420-e56c803a16b0"
      },
      "execution_count": 13,
      "outputs": [
        {
          "output_type": "stream",
          "name": "stdout",
          "text": [
            "THE DIVINE IMAGE\n",
            "\n",
            "William Blake\n",
            "\n",
            "To Mercy, Pity, Peace, and Love,\n",
            "All pray in their distress,\n",
            "\n",
            "And to these virtues of delight\n",
            "Return their thankfulness.\n",
            "\n",
            "For Mercy, Pity, Peace, and Love,\n",
            "Is God our Father dear;\n",
            "\n",
            "And Mercy, Pity, Peace, and Love,\n",
            "Is man, His child and care.\n",
            "\n",
            "For Mercy has a human heart;\n",
            "Pity, a human face;\n",
            "\n",
            "And Love, the human form divine:\n",
            "And Peace, the human dress.\n",
            "\n",
            "Then every man, of every clime,\n",
            "That prays in his distress,\n",
            "Prays to the human form divine:\n",
            "Love, Mercy, Pity, Peace.\n",
            "\n",
            "And all must love the human form,\n",
            "In heathen, Turk, or Jew.\n",
            "\n",
            "Where Mercy, Love, and Pity dwell,\n",
            "There God is dwelling too.\n",
            "\f\n"
          ]
        }
      ]
    },
    {
      "cell_type": "code",
      "source": [
        "def zoom_image(image_path, zoom_factor, output_path='zoomed_image.jpg'):\n",
        "  image = Image.open(image_path)\n",
        "  width, height = image.size\n",
        "\n",
        "  new_width = int(width * zoom_factor)\n",
        "  new_height = int(height * zoom_factor)\n",
        "\n",
        "  zoomed_image = image.resize((new_width, new_height), Image.LANCZOS)\n",
        "  zoomed_image.save(output_path)\n",
        "\n",
        "  return output_path"
      ],
      "metadata": {
        "id": "Omv8Yb4uYZDy"
      },
      "execution_count": 26,
      "outputs": []
    },
    {
      "cell_type": "code",
      "source": [
        "zoom_image('tyger by william blake.jpg', zoom_factor=2, output_path='zoomed william blake.jpg')"
      ],
      "metadata": {
        "colab": {
          "base_uri": "https://localhost:8080/",
          "height": 35
        },
        "id": "R0kViuGqlYzW",
        "outputId": "a9d1474e-067f-4968-c23e-ed16ab319d91"
      },
      "execution_count": 15,
      "outputs": [
        {
          "output_type": "execute_result",
          "data": {
            "text/plain": [
              "'zoomed william blake.jpg'"
            ],
            "application/vnd.google.colaboratory.intrinsic+json": {
              "type": "string"
            }
          },
          "metadata": {},
          "execution_count": 15
        }
      ]
    },
    {
      "cell_type": "code",
      "source": [
        "extracted_zoom_image = pyt.image_to_string(zoom_image('tyger by william blake.jpg', zoom_factor=2, output_path='zoomed william blake.jpg'))"
      ],
      "metadata": {
        "id": "3G-LyLyolppm"
      },
      "execution_count": 27,
      "outputs": []
    },
    {
      "cell_type": "code",
      "source": [
        "print(extracted_zoom_image)"
      ],
      "metadata": {
        "colab": {
          "base_uri": "https://localhost:8080/"
        },
        "id": "k1pWql63lwSn",
        "outputId": "ec32a30d-59bc-4291-f3b2-390e289c47ce"
      },
      "execution_count": 28,
      "outputs": [
        {
          "output_type": "stream",
          "name": "stdout",
          "text": [
            "The Tyger\n",
            "\n",
            "by William Blake\n",
            "\n",
            "Tyger er, burning bright,\n",
            "\n",
            "In the forests of the night:\n",
            "\n",
            "What immortal hand or eye,\n",
            "\n",
            "Could frame thy fearful symmetry?\n",
            "\n",
            "In what distant deeps or skies,\n",
            "Burnt the fire of thine eyes?\n",
            "\n",
            "On what wings dare he aspire?\n",
            "What the hand, dare steze the frre?\n",
            "\n",
            "And what shoulder, & what art,\n",
            "Could twist the sinews of thy heart?\n",
            "And when thy heart began to beat,\n",
            "What dread hand? & what dread feet?\n",
            "\n",
            "What the hammer? what the chain,\n",
            "In what furnace was thy brain?\n",
            "What the anvil? what dread grasp.\n",
            "Dare its deadly terrors clasp!\n",
            "\n",
            "When the stars threw down their spears\n",
            "And water heaven with their tears:\n",
            "Did he smile his work to see?\n",
            "\n",
            "Did fe who made the Lamb make thee?\n",
            "\n",
            "Tyger Tyger burning bright,\n",
            "\n",
            "In the forests of the night:\n",
            "\n",
            "‘What immortal hand or eye,\n",
            "\n",
            "Dare frame thy fearful symmetry?\n",
            "\f\n"
          ]
        }
      ]
    }
  ]
}