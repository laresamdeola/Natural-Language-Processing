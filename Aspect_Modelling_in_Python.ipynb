{
  "nbformat": 4,
  "nbformat_minor": 0,
  "metadata": {
    "colab": {
      "provenance": [],
      "authorship_tag": "ABX9TyN8NjTeBefbLSyaHq2I9o4o",
      "include_colab_link": true
    },
    "kernelspec": {
      "name": "python3",
      "display_name": "Python 3"
    },
    "language_info": {
      "name": "python"
    }
  },
  "cells": [
    {
      "cell_type": "markdown",
      "metadata": {
        "id": "view-in-github",
        "colab_type": "text"
      },
      "source": [
        "<a href=\"https://colab.research.google.com/github/laresamdeola/Natural-Language-Processing/blob/main/Aspect_Modelling_in_Python.ipynb\" target=\"_parent\"><img src=\"https://colab.research.google.com/assets/colab-badge.svg\" alt=\"Open In Colab\"/></a>"
      ]
    },
    {
      "cell_type": "code",
      "execution_count": null,
      "metadata": {
        "id": "F9KJQ_Rc0PPF"
      },
      "outputs": [],
      "source": [
        "import nltk\n",
        "from nltk.tokenize import word_tokenize\n",
        "from nltk.corpus import stopwords\n",
        "from nltk.stem import WordNetLemmatizer\n",
        "from nltk import pos_tag\n",
        "from collections import defaultdict"
      ]
    },
    {
      "cell_type": "code",
      "source": [
        "nltk.download('punkt')"
      ],
      "metadata": {
        "colab": {
          "base_uri": "https://localhost:8080/"
        },
        "id": "Pq2h6hK70apK",
        "outputId": "9362c54c-629b-42a2-f456-7e8c73d09226"
      },
      "execution_count": null,
      "outputs": [
        {
          "output_type": "stream",
          "name": "stderr",
          "text": [
            "[nltk_data] Downloading package punkt to /root/nltk_data...\n",
            "[nltk_data]   Unzipping tokenizers/punkt.zip.\n"
          ]
        },
        {
          "output_type": "execute_result",
          "data": {
            "text/plain": [
              "True"
            ]
          },
          "metadata": {},
          "execution_count": 5
        }
      ]
    },
    {
      "cell_type": "code",
      "source": [
        "nltk.download('wordnet')"
      ],
      "metadata": {
        "colab": {
          "base_uri": "https://localhost:8080/"
        },
        "id": "Mfoe2Y1d15G3",
        "outputId": "eea502dd-8aff-4479-c127-5f0b73a7eb97"
      },
      "execution_count": null,
      "outputs": [
        {
          "output_type": "stream",
          "name": "stderr",
          "text": [
            "[nltk_data] Downloading package wordnet to /root/nltk_data...\n"
          ]
        },
        {
          "output_type": "execute_result",
          "data": {
            "text/plain": [
              "True"
            ]
          },
          "metadata": {},
          "execution_count": 7
        }
      ]
    },
    {
      "cell_type": "code",
      "source": [
        "nltk.download('averaged_perceptron_tagger')"
      ],
      "metadata": {
        "colab": {
          "base_uri": "https://localhost:8080/"
        },
        "id": "qkE8ZJDi1-_C",
        "outputId": "f0124143-e23d-4ee8-f4dc-f96132e71b5b"
      },
      "execution_count": null,
      "outputs": [
        {
          "output_type": "stream",
          "name": "stderr",
          "text": [
            "[nltk_data] Downloading package averaged_perceptron_tagger to\n",
            "[nltk_data]     /root/nltk_data...\n",
            "[nltk_data]   Unzipping taggers/averaged_perceptron_tagger.zip.\n"
          ]
        },
        {
          "output_type": "execute_result",
          "data": {
            "text/plain": [
              "True"
            ]
          },
          "metadata": {},
          "execution_count": 9
        }
      ]
    },
    {
      "cell_type": "code",
      "source": [
        "# Sample reviews\n",
        "reviews = [\n",
        "    \"The battery life of this phone is excellent.\",\n",
        "    \"The camera quality could be better, but the battery life is great.\",\n",
        "    \"The screen resolution is amazing, but the phone feels a bit bulky.\",\n",
        "    \"The performance of this laptop is disappointing.\"\n",
        "]\n",
        "\n",
        "# Tokenization and preprocessing\n",
        "lemmatizer = WordNetLemmatizer()\n",
        "stop_words = set(stopwords.words('english'))\n",
        "\n",
        "def preprocess_text(text):\n",
        "    tokens = word_tokenize(text.lower())  # Tokenization and convert to lowercase\n",
        "    tokens = [token for token in tokens if token.isalnum()]  # Remove non-alphanumeric tokens\n",
        "    tokens = [token for token in tokens if token not in stop_words]  # Remove stop words\n",
        "    tokens = [lemmatizer.lemmatize(token) for token in tokens]  # Lemmatization\n",
        "    return tokens\n",
        "\n",
        "# Aspect modeling\n",
        "aspect_terms = defaultdict(list)\n",
        "\n",
        "for review in reviews:\n",
        "    tokens = preprocess_text(review)\n",
        "    tagged_tokens = pos_tag(tokens)  # Part-of-speech tagging\n",
        "    for word, pos in tagged_tokens:\n",
        "        if pos.startswith('NN'):  # Consider only nouns as aspects\n",
        "            aspect_terms[word].append(review)\n",
        "\n",
        "# Print aspect terms and associated reviews\n",
        "for aspect, associated_reviews in aspect_terms.items():\n",
        "    print(f\"Aspect: {aspect}\")\n",
        "    print(\"Associated Reviews:\")\n",
        "    for review in associated_reviews:\n",
        "        print(\"-\", review)\n",
        "    print()"
      ],
      "metadata": {
        "colab": {
          "base_uri": "https://localhost:8080/"
        },
        "id": "EearHki-2MP6",
        "outputId": "2d5cf9ac-ff64-4f83-ff5a-f1436a7872a7"
      },
      "execution_count": null,
      "outputs": [
        {
          "output_type": "stream",
          "name": "stdout",
          "text": [
            "Aspect: battery\n",
            "Associated Reviews:\n",
            "- The battery life of this phone is excellent.\n",
            "- The camera quality could be better, but the battery life is great.\n",
            "\n",
            "Aspect: life\n",
            "Associated Reviews:\n",
            "- The battery life of this phone is excellent.\n",
            "- The camera quality could be better, but the battery life is great.\n",
            "\n",
            "Aspect: phone\n",
            "Associated Reviews:\n",
            "- The battery life of this phone is excellent.\n",
            "- The screen resolution is amazing, but the phone feels a bit bulky.\n",
            "\n",
            "Aspect: excellent\n",
            "Associated Reviews:\n",
            "- The battery life of this phone is excellent.\n",
            "\n",
            "Aspect: camera\n",
            "Associated Reviews:\n",
            "- The camera quality could be better, but the battery life is great.\n",
            "\n",
            "Aspect: quality\n",
            "Associated Reviews:\n",
            "- The camera quality could be better, but the battery life is great.\n",
            "\n",
            "Aspect: resolution\n",
            "Associated Reviews:\n",
            "- The screen resolution is amazing, but the phone feels a bit bulky.\n",
            "\n",
            "Aspect: feel\n",
            "Associated Reviews:\n",
            "- The screen resolution is amazing, but the phone feels a bit bulky.\n",
            "\n",
            "Aspect: bit\n",
            "Associated Reviews:\n",
            "- The screen resolution is amazing, but the phone feels a bit bulky.\n",
            "\n",
            "Aspect: performance\n",
            "Associated Reviews:\n",
            "- The performance of this laptop is disappointing.\n",
            "\n",
            "Aspect: disappointing\n",
            "Associated Reviews:\n",
            "- The performance of this laptop is disappointing.\n",
            "\n"
          ]
        }
      ]
    },
    {
      "cell_type": "code",
      "source": [
        "# aspect_terms"
      ],
      "metadata": {
        "id": "4tU0N5le2YIk"
      },
      "execution_count": 1,
      "outputs": []
    },
    {
      "cell_type": "markdown",
      "source": [
        "# Sample reviews\n",
        "reviews = [\n",
        "    \"The battery life of this phone is excellent.\",\n",
        "    \"The camera quality could be better, but the battery life is great.\",\n",
        "    \"The screen resolution is amazing, but the phone feels a bit bulky.\",\n",
        "    \"The performance of this laptop is disappointing.\"\n",
        "]\n",
        "\n",
        "# Tokenization and preprocessing\n",
        "lemmatizer = WordNetLemmatizer()\n",
        "stop_words = set(stopwords.words('english'))\n",
        "\n",
        "def preprocess_text(text):\n",
        "    tokens = word_tokenize(text.lower())  # Tokenization and convert to lowercase\n",
        "    tokens = [token for token in tokens if token.isalnum()]  # Remove non-alphanumeric tokens\n",
        "    tokens = [token for token in tokens if token not in stop_words]  # Remove stop words\n",
        "    tokens = [lemmatizer.lemmatize(token) for token in tokens]  # Lemmatization\n",
        "    return tokens\n",
        "\n",
        "# Aspect modeling\n",
        "aspect_terms = defaultdict(list)\n",
        "\n",
        "for review in reviews:\n",
        "    tokens = preprocess_text(review)\n",
        "    tagged_tokens = pos_tag(tokens)  # Part-of-speech tagging\n",
        "    for word, pos in tagged_tokens:\n",
        "        if pos.startswith('NN'):  # Consider only nouns as aspects\n",
        "            aspect_terms[word].append(review)\n",
        "\n",
        "# Print aspect terms and associated reviews\n",
        "for aspect, associated_reviews in aspect_terms.items():\n",
        "    print(f\"Aspect: {aspect}\")\n",
        "    print(\"Associated Reviews:\")\n",
        "    for review in associated_reviews:\n",
        "        print(\"-\", review)\n",
        "    print()"
      ],
      "metadata": {
        "id": "JkFT0eAj0SpB"
      }
    }
  ]
}