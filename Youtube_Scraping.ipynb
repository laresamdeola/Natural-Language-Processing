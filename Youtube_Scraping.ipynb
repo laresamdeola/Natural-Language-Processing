{
  "nbformat": 4,
  "nbformat_minor": 0,
  "metadata": {
    "colab": {
      "provenance": [],
      "authorship_tag": "ABX9TyO63swniLVjNq6qpwefE26K"
    },
    "kernelspec": {
      "name": "python3",
      "display_name": "Python 3"
    },
    "language_info": {
      "name": "python"
    }
  },
  "cells": [
    {
      "cell_type": "code",
      "execution_count": 63,
      "metadata": {
        "id": "RRpULwn5DrJJ"
      },
      "outputs": [],
      "source": [
        "import os\n",
        "import numpy as np\n",
        "import pandas as pd\n",
        "import googleapiclient.discovery"
      ]
    },
    {
      "cell_type": "code",
      "source": [
        "os.getcwd()"
      ],
      "metadata": {
        "colab": {
          "base_uri": "https://localhost:8080/",
          "height": 35
        },
        "id": "cQqD5sMsEEvw",
        "outputId": "9d860ed5-4eae-4cbb-b52b-e5937689d950"
      },
      "execution_count": 64,
      "outputs": [
        {
          "output_type": "execute_result",
          "data": {
            "text/plain": [
              "'/content'"
            ],
            "application/vnd.google.colaboratory.intrinsic+json": {
              "type": "string"
            }
          },
          "metadata": {},
          "execution_count": 64
        }
      ]
    },
    {
      "cell_type": "code",
      "source": [
        "api_service_name = 'youtube'\n",
        "api_version = 'v3'\n",
        "DEVELOPER_KEY = 'API_KEY'\n",
        "video_id = 'ugibTbiQLVw'\n",
        "\n",
        "youtube = googleapiclient.discovery.build(\n",
        "    api_service_name, api_version, developerKey=DEVELOPER_KEY\n",
        ")"
      ],
      "metadata": {
        "id": "nhnrsol8D6dA"
      },
      "execution_count": 65,
      "outputs": []
    },
    {
      "cell_type": "code",
      "source": [
        "def get_comments(video, amount):\n",
        "  request = youtube.commentThreads().list(\n",
        "      part='snippet',\n",
        "      videoId=video,\n",
        "      maxResults=amount\n",
        "      )\n",
        "\n",
        "  response = request.execute()\n",
        "\n",
        "  comments = []\n",
        "  count = 0\n",
        "\n",
        "  while(count < amount):\n",
        "    for item in response['items']:\n",
        "      comment = item['snippet']['topLevelComment']['snippet']\n",
        "      public = item['snippet']['isPublic']\n",
        "      comments.append([\n",
        "          comment['authorDisplayName'],\n",
        "          comment['publishedAt'],\n",
        "          comment['likeCount'],\n",
        "          comment['textOriginal'],\n",
        "          comment['videoId'],\n",
        "          public\n",
        "      ])\n",
        "      count += 1\n",
        "\n",
        "  return comments"
      ],
      "metadata": {
        "id": "urU5Z9XbEzLI"
      },
      "execution_count": 66,
      "outputs": []
    },
    {
      "cell_type": "code",
      "source": [
        "comments_data_frame = pd.DataFrame(get_comments(video_id, 350), columns=['author', 'publish_date', 'amount_of_likes', 'comment', 'video_id', 'public'])"
      ],
      "metadata": {
        "id": "eMPXT8cCFa4n"
      },
      "execution_count": 67,
      "outputs": []
    },
    {
      "cell_type": "code",
      "source": [
        "comments_data_frame"
      ],
      "metadata": {
        "colab": {
          "base_uri": "https://localhost:8080/",
          "height": 424
        },
        "id": "R4927t7rLVhC",
        "outputId": "38662a91-e243-4faa-f61f-9925d9dd00d5"
      },
      "execution_count": 68,
      "outputs": [
        {
          "output_type": "execute_result",
          "data": {
            "text/plain": [
              "                author          publish_date  amount_of_likes  \\\n",
              "0           @xo.Kawaii  2024-02-10T00:29:34Z                1   \n",
              "1            @wurskind  2024-02-09T22:36:31Z                0   \n",
              "2          @tonyfoxley  2024-02-09T17:35:47Z                0   \n",
              "3            @rfrancoi  2024-02-08T05:56:57Z                1   \n",
              "4       @sportsdude430  2024-02-04T20:18:35Z                0   \n",
              "..                 ...                   ...              ...   \n",
              "395      @earwaxntoast  2023-10-30T00:56:06Z                2   \n",
              "396         @paul28177  2023-10-29T08:25:31Z                7   \n",
              "397       @Houdini8299  2023-10-29T06:35:02Z                0   \n",
              "398          @thok2032  2023-10-27T18:11:05Z                0   \n",
              "399  @EyeForKnowledge.  2023-10-26T02:24:42Z               10   \n",
              "\n",
              "                                               comment     video_id  public  \n",
              "0    Can i ask what its like to play non vr games w...  ugibTbiQLVw    True  \n",
              "1    Dear PlayStation I bought a PS VR2 earlier in ...  ugibTbiQLVw    True  \n",
              "2              plug it into your pc  break the form :P  ugibTbiQLVw    True  \n",
              "3    Great information Sir.  What if your wear pres...  ugibTbiQLVw    True  \n",
              "4    What wheel and setup did you get, looking to g...  ugibTbiQLVw    True  \n",
              "..                                                 ...          ...     ...  \n",
              "395  Exclusives is what is killing VR. Having stuff...  ugibTbiQLVw    True  \n",
              "396  i really like VR... i go excited for this but ...  ugibTbiQLVw    True  \n",
              "397  Well, im disappointed from the Games….. especi...  ugibTbiQLVw    True  \n",
              "398  A small sweet spot goes hand in hand with bad ...  ugibTbiQLVw    True  \n",
              "399  Mine has become a $600 paperweight. Horrible p...  ugibTbiQLVw    True  \n",
              "\n",
              "[400 rows x 6 columns]"
            ],
            "text/html": [
              "\n",
              "  <div id=\"df-49f590f3-cc1a-41cb-ba6d-7f8a705d19db\" class=\"colab-df-container\">\n",
              "    <div>\n",
              "<style scoped>\n",
              "    .dataframe tbody tr th:only-of-type {\n",
              "        vertical-align: middle;\n",
              "    }\n",
              "\n",
              "    .dataframe tbody tr th {\n",
              "        vertical-align: top;\n",
              "    }\n",
              "\n",
              "    .dataframe thead th {\n",
              "        text-align: right;\n",
              "    }\n",
              "</style>\n",
              "<table border=\"1\" class=\"dataframe\">\n",
              "  <thead>\n",
              "    <tr style=\"text-align: right;\">\n",
              "      <th></th>\n",
              "      <th>author</th>\n",
              "      <th>publish_date</th>\n",
              "      <th>amount_of_likes</th>\n",
              "      <th>comment</th>\n",
              "      <th>video_id</th>\n",
              "      <th>public</th>\n",
              "    </tr>\n",
              "  </thead>\n",
              "  <tbody>\n",
              "    <tr>\n",
              "      <th>0</th>\n",
              "      <td>@xo.Kawaii</td>\n",
              "      <td>2024-02-10T00:29:34Z</td>\n",
              "      <td>1</td>\n",
              "      <td>Can i ask what its like to play non vr games w...</td>\n",
              "      <td>ugibTbiQLVw</td>\n",
              "      <td>True</td>\n",
              "    </tr>\n",
              "    <tr>\n",
              "      <th>1</th>\n",
              "      <td>@wurskind</td>\n",
              "      <td>2024-02-09T22:36:31Z</td>\n",
              "      <td>0</td>\n",
              "      <td>Dear PlayStation I bought a PS VR2 earlier in ...</td>\n",
              "      <td>ugibTbiQLVw</td>\n",
              "      <td>True</td>\n",
              "    </tr>\n",
              "    <tr>\n",
              "      <th>2</th>\n",
              "      <td>@tonyfoxley</td>\n",
              "      <td>2024-02-09T17:35:47Z</td>\n",
              "      <td>0</td>\n",
              "      <td>plug it into your pc  break the form :P</td>\n",
              "      <td>ugibTbiQLVw</td>\n",
              "      <td>True</td>\n",
              "    </tr>\n",
              "    <tr>\n",
              "      <th>3</th>\n",
              "      <td>@rfrancoi</td>\n",
              "      <td>2024-02-08T05:56:57Z</td>\n",
              "      <td>1</td>\n",
              "      <td>Great information Sir.  What if your wear pres...</td>\n",
              "      <td>ugibTbiQLVw</td>\n",
              "      <td>True</td>\n",
              "    </tr>\n",
              "    <tr>\n",
              "      <th>4</th>\n",
              "      <td>@sportsdude430</td>\n",
              "      <td>2024-02-04T20:18:35Z</td>\n",
              "      <td>0</td>\n",
              "      <td>What wheel and setup did you get, looking to g...</td>\n",
              "      <td>ugibTbiQLVw</td>\n",
              "      <td>True</td>\n",
              "    </tr>\n",
              "    <tr>\n",
              "      <th>...</th>\n",
              "      <td>...</td>\n",
              "      <td>...</td>\n",
              "      <td>...</td>\n",
              "      <td>...</td>\n",
              "      <td>...</td>\n",
              "      <td>...</td>\n",
              "    </tr>\n",
              "    <tr>\n",
              "      <th>395</th>\n",
              "      <td>@earwaxntoast</td>\n",
              "      <td>2023-10-30T00:56:06Z</td>\n",
              "      <td>2</td>\n",
              "      <td>Exclusives is what is killing VR. Having stuff...</td>\n",
              "      <td>ugibTbiQLVw</td>\n",
              "      <td>True</td>\n",
              "    </tr>\n",
              "    <tr>\n",
              "      <th>396</th>\n",
              "      <td>@paul28177</td>\n",
              "      <td>2023-10-29T08:25:31Z</td>\n",
              "      <td>7</td>\n",
              "      <td>i really like VR... i go excited for this but ...</td>\n",
              "      <td>ugibTbiQLVw</td>\n",
              "      <td>True</td>\n",
              "    </tr>\n",
              "    <tr>\n",
              "      <th>397</th>\n",
              "      <td>@Houdini8299</td>\n",
              "      <td>2023-10-29T06:35:02Z</td>\n",
              "      <td>0</td>\n",
              "      <td>Well, im disappointed from the Games….. especi...</td>\n",
              "      <td>ugibTbiQLVw</td>\n",
              "      <td>True</td>\n",
              "    </tr>\n",
              "    <tr>\n",
              "      <th>398</th>\n",
              "      <td>@thok2032</td>\n",
              "      <td>2023-10-27T18:11:05Z</td>\n",
              "      <td>0</td>\n",
              "      <td>A small sweet spot goes hand in hand with bad ...</td>\n",
              "      <td>ugibTbiQLVw</td>\n",
              "      <td>True</td>\n",
              "    </tr>\n",
              "    <tr>\n",
              "      <th>399</th>\n",
              "      <td>@EyeForKnowledge.</td>\n",
              "      <td>2023-10-26T02:24:42Z</td>\n",
              "      <td>10</td>\n",
              "      <td>Mine has become a $600 paperweight. Horrible p...</td>\n",
              "      <td>ugibTbiQLVw</td>\n",
              "      <td>True</td>\n",
              "    </tr>\n",
              "  </tbody>\n",
              "</table>\n",
              "<p>400 rows × 6 columns</p>\n",
              "</div>\n",
              "    <div class=\"colab-df-buttons\">\n",
              "\n",
              "  <div class=\"colab-df-container\">\n",
              "    <button class=\"colab-df-convert\" onclick=\"convertToInteractive('df-49f590f3-cc1a-41cb-ba6d-7f8a705d19db')\"\n",
              "            title=\"Convert this dataframe to an interactive table.\"\n",
              "            style=\"display:none;\">\n",
              "\n",
              "  <svg xmlns=\"http://www.w3.org/2000/svg\" height=\"24px\" viewBox=\"0 -960 960 960\">\n",
              "    <path d=\"M120-120v-720h720v720H120Zm60-500h600v-160H180v160Zm220 220h160v-160H400v160Zm0 220h160v-160H400v160ZM180-400h160v-160H180v160Zm440 0h160v-160H620v160ZM180-180h160v-160H180v160Zm440 0h160v-160H620v160Z\"/>\n",
              "  </svg>\n",
              "    </button>\n",
              "\n",
              "  <style>\n",
              "    .colab-df-container {\n",
              "      display:flex;\n",
              "      gap: 12px;\n",
              "    }\n",
              "\n",
              "    .colab-df-convert {\n",
              "      background-color: #E8F0FE;\n",
              "      border: none;\n",
              "      border-radius: 50%;\n",
              "      cursor: pointer;\n",
              "      display: none;\n",
              "      fill: #1967D2;\n",
              "      height: 32px;\n",
              "      padding: 0 0 0 0;\n",
              "      width: 32px;\n",
              "    }\n",
              "\n",
              "    .colab-df-convert:hover {\n",
              "      background-color: #E2EBFA;\n",
              "      box-shadow: 0px 1px 2px rgba(60, 64, 67, 0.3), 0px 1px 3px 1px rgba(60, 64, 67, 0.15);\n",
              "      fill: #174EA6;\n",
              "    }\n",
              "\n",
              "    .colab-df-buttons div {\n",
              "      margin-bottom: 4px;\n",
              "    }\n",
              "\n",
              "    [theme=dark] .colab-df-convert {\n",
              "      background-color: #3B4455;\n",
              "      fill: #D2E3FC;\n",
              "    }\n",
              "\n",
              "    [theme=dark] .colab-df-convert:hover {\n",
              "      background-color: #434B5C;\n",
              "      box-shadow: 0px 1px 3px 1px rgba(0, 0, 0, 0.15);\n",
              "      filter: drop-shadow(0px 1px 2px rgba(0, 0, 0, 0.3));\n",
              "      fill: #FFFFFF;\n",
              "    }\n",
              "  </style>\n",
              "\n",
              "    <script>\n",
              "      const buttonEl =\n",
              "        document.querySelector('#df-49f590f3-cc1a-41cb-ba6d-7f8a705d19db button.colab-df-convert');\n",
              "      buttonEl.style.display =\n",
              "        google.colab.kernel.accessAllowed ? 'block' : 'none';\n",
              "\n",
              "      async function convertToInteractive(key) {\n",
              "        const element = document.querySelector('#df-49f590f3-cc1a-41cb-ba6d-7f8a705d19db');\n",
              "        const dataTable =\n",
              "          await google.colab.kernel.invokeFunction('convertToInteractive',\n",
              "                                                    [key], {});\n",
              "        if (!dataTable) return;\n",
              "\n",
              "        const docLinkHtml = 'Like what you see? Visit the ' +\n",
              "          '<a target=\"_blank\" href=https://colab.research.google.com/notebooks/data_table.ipynb>data table notebook</a>'\n",
              "          + ' to learn more about interactive tables.';\n",
              "        element.innerHTML = '';\n",
              "        dataTable['output_type'] = 'display_data';\n",
              "        await google.colab.output.renderOutput(dataTable, element);\n",
              "        const docLink = document.createElement('div');\n",
              "        docLink.innerHTML = docLinkHtml;\n",
              "        element.appendChild(docLink);\n",
              "      }\n",
              "    </script>\n",
              "  </div>\n",
              "\n",
              "\n",
              "<div id=\"df-fd8a6c3f-65ea-48ac-8e75-0772d81df6b3\">\n",
              "  <button class=\"colab-df-quickchart\" onclick=\"quickchart('df-fd8a6c3f-65ea-48ac-8e75-0772d81df6b3')\"\n",
              "            title=\"Suggest charts\"\n",
              "            style=\"display:none;\">\n",
              "\n",
              "<svg xmlns=\"http://www.w3.org/2000/svg\" height=\"24px\"viewBox=\"0 0 24 24\"\n",
              "     width=\"24px\">\n",
              "    <g>\n",
              "        <path d=\"M19 3H5c-1.1 0-2 .9-2 2v14c0 1.1.9 2 2 2h14c1.1 0 2-.9 2-2V5c0-1.1-.9-2-2-2zM9 17H7v-7h2v7zm4 0h-2V7h2v10zm4 0h-2v-4h2v4z\"/>\n",
              "    </g>\n",
              "</svg>\n",
              "  </button>\n",
              "\n",
              "<style>\n",
              "  .colab-df-quickchart {\n",
              "      --bg-color: #E8F0FE;\n",
              "      --fill-color: #1967D2;\n",
              "      --hover-bg-color: #E2EBFA;\n",
              "      --hover-fill-color: #174EA6;\n",
              "      --disabled-fill-color: #AAA;\n",
              "      --disabled-bg-color: #DDD;\n",
              "  }\n",
              "\n",
              "  [theme=dark] .colab-df-quickchart {\n",
              "      --bg-color: #3B4455;\n",
              "      --fill-color: #D2E3FC;\n",
              "      --hover-bg-color: #434B5C;\n",
              "      --hover-fill-color: #FFFFFF;\n",
              "      --disabled-bg-color: #3B4455;\n",
              "      --disabled-fill-color: #666;\n",
              "  }\n",
              "\n",
              "  .colab-df-quickchart {\n",
              "    background-color: var(--bg-color);\n",
              "    border: none;\n",
              "    border-radius: 50%;\n",
              "    cursor: pointer;\n",
              "    display: none;\n",
              "    fill: var(--fill-color);\n",
              "    height: 32px;\n",
              "    padding: 0;\n",
              "    width: 32px;\n",
              "  }\n",
              "\n",
              "  .colab-df-quickchart:hover {\n",
              "    background-color: var(--hover-bg-color);\n",
              "    box-shadow: 0 1px 2px rgba(60, 64, 67, 0.3), 0 1px 3px 1px rgba(60, 64, 67, 0.15);\n",
              "    fill: var(--button-hover-fill-color);\n",
              "  }\n",
              "\n",
              "  .colab-df-quickchart-complete:disabled,\n",
              "  .colab-df-quickchart-complete:disabled:hover {\n",
              "    background-color: var(--disabled-bg-color);\n",
              "    fill: var(--disabled-fill-color);\n",
              "    box-shadow: none;\n",
              "  }\n",
              "\n",
              "  .colab-df-spinner {\n",
              "    border: 2px solid var(--fill-color);\n",
              "    border-color: transparent;\n",
              "    border-bottom-color: var(--fill-color);\n",
              "    animation:\n",
              "      spin 1s steps(1) infinite;\n",
              "  }\n",
              "\n",
              "  @keyframes spin {\n",
              "    0% {\n",
              "      border-color: transparent;\n",
              "      border-bottom-color: var(--fill-color);\n",
              "      border-left-color: var(--fill-color);\n",
              "    }\n",
              "    20% {\n",
              "      border-color: transparent;\n",
              "      border-left-color: var(--fill-color);\n",
              "      border-top-color: var(--fill-color);\n",
              "    }\n",
              "    30% {\n",
              "      border-color: transparent;\n",
              "      border-left-color: var(--fill-color);\n",
              "      border-top-color: var(--fill-color);\n",
              "      border-right-color: var(--fill-color);\n",
              "    }\n",
              "    40% {\n",
              "      border-color: transparent;\n",
              "      border-right-color: var(--fill-color);\n",
              "      border-top-color: var(--fill-color);\n",
              "    }\n",
              "    60% {\n",
              "      border-color: transparent;\n",
              "      border-right-color: var(--fill-color);\n",
              "    }\n",
              "    80% {\n",
              "      border-color: transparent;\n",
              "      border-right-color: var(--fill-color);\n",
              "      border-bottom-color: var(--fill-color);\n",
              "    }\n",
              "    90% {\n",
              "      border-color: transparent;\n",
              "      border-bottom-color: var(--fill-color);\n",
              "    }\n",
              "  }\n",
              "</style>\n",
              "\n",
              "  <script>\n",
              "    async function quickchart(key) {\n",
              "      const quickchartButtonEl =\n",
              "        document.querySelector('#' + key + ' button');\n",
              "      quickchartButtonEl.disabled = true;  // To prevent multiple clicks.\n",
              "      quickchartButtonEl.classList.add('colab-df-spinner');\n",
              "      try {\n",
              "        const charts = await google.colab.kernel.invokeFunction(\n",
              "            'suggestCharts', [key], {});\n",
              "      } catch (error) {\n",
              "        console.error('Error during call to suggestCharts:', error);\n",
              "      }\n",
              "      quickchartButtonEl.classList.remove('colab-df-spinner');\n",
              "      quickchartButtonEl.classList.add('colab-df-quickchart-complete');\n",
              "    }\n",
              "    (() => {\n",
              "      let quickchartButtonEl =\n",
              "        document.querySelector('#df-fd8a6c3f-65ea-48ac-8e75-0772d81df6b3 button');\n",
              "      quickchartButtonEl.style.display =\n",
              "        google.colab.kernel.accessAllowed ? 'block' : 'none';\n",
              "    })();\n",
              "  </script>\n",
              "</div>\n",
              "    </div>\n",
              "  </div>\n"
            ],
            "application/vnd.google.colaboratory.intrinsic+json": {
              "type": "dataframe",
              "variable_name": "comments_data_frame",
              "summary": "{\n  \"name\": \"comments_data_frame\",\n  \"rows\": 400,\n  \"fields\": [\n    {\n      \"column\": \"author\",\n      \"properties\": {\n        \"dtype\": \"category\",\n        \"samples\": [\n          \"@fkreis760\",\n          \"@getinthespace7715\",\n          \"@dr.sam.zaki.1\"\n        ],\n        \"num_unique_values\": 94,\n        \"semantic_type\": \"\",\n        \"description\": \"\"\n      }\n    },\n    {\n      \"column\": \"publish_date\",\n      \"properties\": {\n        \"dtype\": \"object\",\n        \"min\": \"2023-10-26T02:24:42Z\",\n        \"max\": \"2024-02-10T00:29:34Z\",\n        \"samples\": [\n          \"2023-11-06T11:24:50Z\",\n          \"2023-11-24T02:34:47Z\",\n          \"2023-11-16T21:58:01Z\"\n        ],\n        \"num_unique_values\": 100,\n        \"semantic_type\": \"\",\n        \"description\": \"\"\n      }\n    },\n    {\n      \"column\": \"amount_of_likes\",\n      \"properties\": {\n        \"dtype\": \"number\",\n        \"std\": 5,\n        \"min\": 0,\n        \"max\": 54,\n        \"samples\": [\n          3,\n          1,\n          14\n        ],\n        \"num_unique_values\": 11,\n        \"semantic_type\": \"\",\n        \"description\": \"\"\n      }\n    },\n    {\n      \"column\": \"comment\",\n      \"properties\": {\n        \"dtype\": \"category\",\n        \"samples\": [\n          \"I thought Horizon Dawn on the PSVR2 was going to be like the non VR games\\u2014that it would be an active experience where I'd be moving around a bunch, swinging a spear, dodging huge robot dinosaurs, and shooting arrows and stuff and when I found out it wasn't going to be that AFTER I bought it, that kinda broke my heart. \\n\\nI've had it since the beginning too and I haven't even played the Horizon VR game because I'm so bummed about it being this dumbed down \\\"introduction to VR and Sony VR2\\\" showpiece. So It's been sitting there on the system unplayed. I've been playing GTR 7 VR this whole time instead and while that experience is incredible, it's not good enough for me to recommend someone dropping the over a thousand dollars on a PS5 and the PSVR2 to get it. No way. ESPECIALLY with the lack of games and experiences. \\n\\nDisappointed? I hate to say it, but YES. Cyberpunk 2077 in VR. GTA in VR. Innovative creative experiences that push the limits of the hardware and the software as well as the creative possibilities of the medium. That's what I was hoping for and kind of expected from Sony, but what I think we got was...something else. \\n\\nIt's hard to say what happened because I'm sure Sony invested a ton into the PSVR 2, but I can also see how it doesn't make sense to invest what I think it would take to create true nextgen translations of titles like Horizon or Cyberpunk 2077 much less create new titles. It'd be a HUGE risk dumping tens, if not hundreds of millions of dollars or, who knows, maybe over a billion dollars into the PSRV2 and it's games with such a small market. I've never ran a multi billion dollar company and I don't know what kind of choices they were facing, but I am disappointed.\\n\\nI guess it's still not VR's time to shine. Still too much of a tech nerd's funny looking little goggles market. The last thing I'll say is that looking back on the Quest 2 vs. the PSVR2, I'm surprised at how well the Quest holds up. I LOVE The way the Quest is self contained and untethered and one of the most exciting things to me about the medium is its potential to revolutionize fitness. Also, being able to move around in 3D without having worry about a cable is kinda the way it should be. So big wins for the Quest there as well as being designed for activity. The PSVR2 feels fragile and like it's gonna fly off my head or move out of place if I move my head too fast, but I feel like I can practically do gymnastics with the Quest 2 on which is DOPE. I'd love to see multiplayer VR games that involved running, jumping, dodging, shooting, etc. and could be played in large spaces like indoor soccer fields so you could run around and have giant VR bosses that were like 30 feet tall trying to stomp on you or something and you have to run or jump out of the way...\\n\\nThe PSVR2 needs software. It needs games and experiences and maybe even apps. I'd say call to devs to get on it, but devs gotta eat, so I'm not sure what the solution is. Maybe devs can be subsidized by Sony or crowdfunding? New business model maybe? I don't know, but I still have hope and I'm still not selling my PSVR 2.\",\n          \"Maybe I\\u2019ll get my vr2 with the acorn card \\ud83d\\ude02\",\n          \"It's hard to justify spending $550 for so few games. VR can be amazing (I've tried it) but 90% of the titles are glorified tech demos. I'd love to be able to play Half Life: Alyx on it (I know that'd never happen). But surely they could make The Last of Us happen? Uncharted? Sony is rich with award-winning 1st party games.\"\n        ],\n        \"num_unique_values\": 100,\n        \"semantic_type\": \"\",\n        \"description\": \"\"\n      }\n    },\n    {\n      \"column\": \"video_id\",\n      \"properties\": {\n        \"dtype\": \"category\",\n        \"samples\": [\n          \"ugibTbiQLVw\"\n        ],\n        \"num_unique_values\": 1,\n        \"semantic_type\": \"\",\n        \"description\": \"\"\n      }\n    },\n    {\n      \"column\": \"public\",\n      \"properties\": {\n        \"dtype\": \"boolean\",\n        \"samples\": [\n          true\n        ],\n        \"num_unique_values\": 1,\n        \"semantic_type\": \"\",\n        \"description\": \"\"\n      }\n    }\n  ]\n}"
            }
          },
          "metadata": {},
          "execution_count": 68
        }
      ]
    },
    {
      "cell_type": "code",
      "source": [
        "len(comments_data_frame)"
      ],
      "metadata": {
        "colab": {
          "base_uri": "https://localhost:8080/"
        },
        "id": "nTS4JVnCLjyq",
        "outputId": "bebc6942-5866-4e93-8cce-3bdc7733a511"
      },
      "execution_count": 69,
      "outputs": [
        {
          "output_type": "execute_result",
          "data": {
            "text/plain": [
              "400"
            ]
          },
          "metadata": {},
          "execution_count": 69
        }
      ]
    },
    {
      "cell_type": "code",
      "source": [
        "#comments_data_frame.to_csv('wireless_electricity_vid_1', encoding='utf-8', index=False)"
      ],
      "metadata": {
        "id": "7qCSK0VHQZNY"
      },
      "execution_count": 70,
      "outputs": []
    },
    {
      "cell_type": "code",
      "source": [
        "type(comments_data_frame)"
      ],
      "metadata": {
        "colab": {
          "base_uri": "https://localhost:8080/"
        },
        "id": "RT3suW2ZSxRf",
        "outputId": "f2978525-4fa9-4795-9d90-2e4e7968abf8"
      },
      "execution_count": 71,
      "outputs": [
        {
          "output_type": "execute_result",
          "data": {
            "text/plain": [
              "pandas.core.frame.DataFrame"
            ]
          },
          "metadata": {},
          "execution_count": 71
        }
      ]
    },
    {
      "cell_type": "code",
      "source": [
        "only_comments = comments_data_frame['comment']"
      ],
      "metadata": {
        "id": "HXhf767SPuCO"
      },
      "execution_count": 72,
      "outputs": []
    },
    {
      "cell_type": "code",
      "source": [
        "only_comments"
      ],
      "metadata": {
        "colab": {
          "base_uri": "https://localhost:8080/"
        },
        "id": "a_ydECGxPyhi",
        "outputId": "c0875ac9-0855-4d70-94b9-20be58f0ac92"
      },
      "execution_count": 73,
      "outputs": [
        {
          "output_type": "execute_result",
          "data": {
            "text/plain": [
              "0      Can i ask what its like to play non vr games w...\n",
              "1      Dear PlayStation I bought a PS VR2 earlier in ...\n",
              "2                plug it into your pc  break the form :P\n",
              "3      Great information Sir.  What if your wear pres...\n",
              "4      What wheel and setup did you get, looking to g...\n",
              "                             ...                        \n",
              "395    Exclusives is what is killing VR. Having stuff...\n",
              "396    i really like VR... i go excited for this but ...\n",
              "397    Well, im disappointed from the Games….. especi...\n",
              "398    A small sweet spot goes hand in hand with bad ...\n",
              "399    Mine has become a $600 paperweight. Horrible p...\n",
              "Name: comment, Length: 400, dtype: object"
            ]
          },
          "metadata": {},
          "execution_count": 73
        }
      ]
    },
    {
      "cell_type": "code",
      "source": [
        "import re\n",
        "import nltk\n",
        "nltk.download('stopwords')\n",
        "from nltk.corpus import stopwords\n",
        "from nltk.stem.porter import PorterStemmer"
      ],
      "metadata": {
        "colab": {
          "base_uri": "https://localhost:8080/"
        },
        "id": "lRv4bPtoQ-mI",
        "outputId": "0d20fd2b-a974-4a8f-aa77-e424f226e73d"
      },
      "execution_count": 74,
      "outputs": [
        {
          "output_type": "stream",
          "name": "stderr",
          "text": [
            "[nltk_data] Downloading package stopwords to /root/nltk_data...\n",
            "[nltk_data]   Package stopwords is already up-to-date!\n"
          ]
        }
      ]
    },
    {
      "cell_type": "code",
      "source": [
        "ps = PorterStemmer()\n",
        "clean_comments = []\n",
        "\n",
        "for i in range(0, len(comments_data_frame)):\n",
        "  comments = re.sub('[^a-zA-Z]', ' ', comments_data_frame['comment'][i])\n",
        "  comments = comments.lower()\n",
        "  comments = comments.split()\n",
        "  comments = [ps.stem(comment) for comment in comments if not comment in set(stopwords.words('english'))]\n",
        "  comments = ' '.join(comments)\n",
        "  clean_comments.append(comments)"
      ],
      "metadata": {
        "id": "lW7J1prLP0VU"
      },
      "execution_count": 75,
      "outputs": []
    },
    {
      "cell_type": "code",
      "source": [
        "#clean_comments"
      ],
      "metadata": {
        "id": "0Z3TUnFYRg6U"
      },
      "execution_count": 76,
      "outputs": []
    },
    {
      "cell_type": "code",
      "source": [
        "clean_comments = pd.DataFrame({'comments': clean_comments})"
      ],
      "metadata": {
        "id": "9S2zHIVrTDzk"
      },
      "execution_count": 77,
      "outputs": []
    },
    {
      "cell_type": "code",
      "source": [
        "type(clean_comments)"
      ],
      "metadata": {
        "colab": {
          "base_uri": "https://localhost:8080/"
        },
        "id": "_gHsJZtHTenM",
        "outputId": "a9659900-fa74-42ec-c34c-6b0664b45458"
      },
      "execution_count": 78,
      "outputs": [
        {
          "output_type": "execute_result",
          "data": {
            "text/plain": [
              "pandas.core.frame.DataFrame"
            ]
          },
          "metadata": {},
          "execution_count": 78
        }
      ]
    },
    {
      "cell_type": "code",
      "source": [
        "clean_comments.to_csv('samuel_jones_tech_psvr_2', encoding='utf-8', index=False)"
      ],
      "metadata": {
        "id": "h1VK8O6SSdrK"
      },
      "execution_count": 79,
      "outputs": []
    },
    {
      "cell_type": "code",
      "source": [
        "len(clean_comments)"
      ],
      "metadata": {
        "colab": {
          "base_uri": "https://localhost:8080/"
        },
        "id": "zVR6fD4xWcPi",
        "outputId": "207bc83b-75b1-41fe-e45c-82415d6dd589"
      },
      "execution_count": 80,
      "outputs": [
        {
          "output_type": "execute_result",
          "data": {
            "text/plain": [
              "400"
            ]
          },
          "metadata": {},
          "execution_count": 80
        }
      ]
    },
    {
      "cell_type": "code",
      "source": [
        "clean_comments[0:100]"
      ],
      "metadata": {
        "colab": {
          "base_uri": "https://localhost:8080/",
          "height": 424
        },
        "id": "NH6rgbgnWhRd",
        "outputId": "13c893ae-c746-448e-e153-8ce68ffeaa12"
      },
      "execution_count": 81,
      "outputs": [
        {
          "output_type": "execute_result",
          "data": {
            "text/plain": [
              "                                             comments\n",
              "0                      ask like play non vr game psvr\n",
              "1   dear playstat bought ps vr earlier year main r...\n",
              "2                                plug pc break form p\n",
              "3               great inform sir wear prescript glass\n",
              "4                      wheel setup get look get setup\n",
              "..                                                ...\n",
              "95  exclus kill vr stuff psvr run quest limit audi...\n",
              "96  realli like vr go excit held alreadi varieti g...\n",
              "97  well im disappoint game especi last releas im ...\n",
              "98  small sweet spot goe hand hand bad edg edg sha...\n",
              "99  mine becom paperweight horribl purchas great g...\n",
              "\n",
              "[100 rows x 1 columns]"
            ],
            "text/html": [
              "\n",
              "  <div id=\"df-73b8092f-4d29-4ee5-b73e-9ec20f5cba6e\" class=\"colab-df-container\">\n",
              "    <div>\n",
              "<style scoped>\n",
              "    .dataframe tbody tr th:only-of-type {\n",
              "        vertical-align: middle;\n",
              "    }\n",
              "\n",
              "    .dataframe tbody tr th {\n",
              "        vertical-align: top;\n",
              "    }\n",
              "\n",
              "    .dataframe thead th {\n",
              "        text-align: right;\n",
              "    }\n",
              "</style>\n",
              "<table border=\"1\" class=\"dataframe\">\n",
              "  <thead>\n",
              "    <tr style=\"text-align: right;\">\n",
              "      <th></th>\n",
              "      <th>comments</th>\n",
              "    </tr>\n",
              "  </thead>\n",
              "  <tbody>\n",
              "    <tr>\n",
              "      <th>0</th>\n",
              "      <td>ask like play non vr game psvr</td>\n",
              "    </tr>\n",
              "    <tr>\n",
              "      <th>1</th>\n",
              "      <td>dear playstat bought ps vr earlier year main r...</td>\n",
              "    </tr>\n",
              "    <tr>\n",
              "      <th>2</th>\n",
              "      <td>plug pc break form p</td>\n",
              "    </tr>\n",
              "    <tr>\n",
              "      <th>3</th>\n",
              "      <td>great inform sir wear prescript glass</td>\n",
              "    </tr>\n",
              "    <tr>\n",
              "      <th>4</th>\n",
              "      <td>wheel setup get look get setup</td>\n",
              "    </tr>\n",
              "    <tr>\n",
              "      <th>...</th>\n",
              "      <td>...</td>\n",
              "    </tr>\n",
              "    <tr>\n",
              "      <th>95</th>\n",
              "      <td>exclus kill vr stuff psvr run quest limit audi...</td>\n",
              "    </tr>\n",
              "    <tr>\n",
              "      <th>96</th>\n",
              "      <td>realli like vr go excit held alreadi varieti g...</td>\n",
              "    </tr>\n",
              "    <tr>\n",
              "      <th>97</th>\n",
              "      <td>well im disappoint game especi last releas im ...</td>\n",
              "    </tr>\n",
              "    <tr>\n",
              "      <th>98</th>\n",
              "      <td>small sweet spot goe hand hand bad edg edg sha...</td>\n",
              "    </tr>\n",
              "    <tr>\n",
              "      <th>99</th>\n",
              "      <td>mine becom paperweight horribl purchas great g...</td>\n",
              "    </tr>\n",
              "  </tbody>\n",
              "</table>\n",
              "<p>100 rows × 1 columns</p>\n",
              "</div>\n",
              "    <div class=\"colab-df-buttons\">\n",
              "\n",
              "  <div class=\"colab-df-container\">\n",
              "    <button class=\"colab-df-convert\" onclick=\"convertToInteractive('df-73b8092f-4d29-4ee5-b73e-9ec20f5cba6e')\"\n",
              "            title=\"Convert this dataframe to an interactive table.\"\n",
              "            style=\"display:none;\">\n",
              "\n",
              "  <svg xmlns=\"http://www.w3.org/2000/svg\" height=\"24px\" viewBox=\"0 -960 960 960\">\n",
              "    <path d=\"M120-120v-720h720v720H120Zm60-500h600v-160H180v160Zm220 220h160v-160H400v160Zm0 220h160v-160H400v160ZM180-400h160v-160H180v160Zm440 0h160v-160H620v160ZM180-180h160v-160H180v160Zm440 0h160v-160H620v160Z\"/>\n",
              "  </svg>\n",
              "    </button>\n",
              "\n",
              "  <style>\n",
              "    .colab-df-container {\n",
              "      display:flex;\n",
              "      gap: 12px;\n",
              "    }\n",
              "\n",
              "    .colab-df-convert {\n",
              "      background-color: #E8F0FE;\n",
              "      border: none;\n",
              "      border-radius: 50%;\n",
              "      cursor: pointer;\n",
              "      display: none;\n",
              "      fill: #1967D2;\n",
              "      height: 32px;\n",
              "      padding: 0 0 0 0;\n",
              "      width: 32px;\n",
              "    }\n",
              "\n",
              "    .colab-df-convert:hover {\n",
              "      background-color: #E2EBFA;\n",
              "      box-shadow: 0px 1px 2px rgba(60, 64, 67, 0.3), 0px 1px 3px 1px rgba(60, 64, 67, 0.15);\n",
              "      fill: #174EA6;\n",
              "    }\n",
              "\n",
              "    .colab-df-buttons div {\n",
              "      margin-bottom: 4px;\n",
              "    }\n",
              "\n",
              "    [theme=dark] .colab-df-convert {\n",
              "      background-color: #3B4455;\n",
              "      fill: #D2E3FC;\n",
              "    }\n",
              "\n",
              "    [theme=dark] .colab-df-convert:hover {\n",
              "      background-color: #434B5C;\n",
              "      box-shadow: 0px 1px 3px 1px rgba(0, 0, 0, 0.15);\n",
              "      filter: drop-shadow(0px 1px 2px rgba(0, 0, 0, 0.3));\n",
              "      fill: #FFFFFF;\n",
              "    }\n",
              "  </style>\n",
              "\n",
              "    <script>\n",
              "      const buttonEl =\n",
              "        document.querySelector('#df-73b8092f-4d29-4ee5-b73e-9ec20f5cba6e button.colab-df-convert');\n",
              "      buttonEl.style.display =\n",
              "        google.colab.kernel.accessAllowed ? 'block' : 'none';\n",
              "\n",
              "      async function convertToInteractive(key) {\n",
              "        const element = document.querySelector('#df-73b8092f-4d29-4ee5-b73e-9ec20f5cba6e');\n",
              "        const dataTable =\n",
              "          await google.colab.kernel.invokeFunction('convertToInteractive',\n",
              "                                                    [key], {});\n",
              "        if (!dataTable) return;\n",
              "\n",
              "        const docLinkHtml = 'Like what you see? Visit the ' +\n",
              "          '<a target=\"_blank\" href=https://colab.research.google.com/notebooks/data_table.ipynb>data table notebook</a>'\n",
              "          + ' to learn more about interactive tables.';\n",
              "        element.innerHTML = '';\n",
              "        dataTable['output_type'] = 'display_data';\n",
              "        await google.colab.output.renderOutput(dataTable, element);\n",
              "        const docLink = document.createElement('div');\n",
              "        docLink.innerHTML = docLinkHtml;\n",
              "        element.appendChild(docLink);\n",
              "      }\n",
              "    </script>\n",
              "  </div>\n",
              "\n",
              "\n",
              "<div id=\"df-23cf53c4-b32d-4096-a603-743118a3f5bb\">\n",
              "  <button class=\"colab-df-quickchart\" onclick=\"quickchart('df-23cf53c4-b32d-4096-a603-743118a3f5bb')\"\n",
              "            title=\"Suggest charts\"\n",
              "            style=\"display:none;\">\n",
              "\n",
              "<svg xmlns=\"http://www.w3.org/2000/svg\" height=\"24px\"viewBox=\"0 0 24 24\"\n",
              "     width=\"24px\">\n",
              "    <g>\n",
              "        <path d=\"M19 3H5c-1.1 0-2 .9-2 2v14c0 1.1.9 2 2 2h14c1.1 0 2-.9 2-2V5c0-1.1-.9-2-2-2zM9 17H7v-7h2v7zm4 0h-2V7h2v10zm4 0h-2v-4h2v4z\"/>\n",
              "    </g>\n",
              "</svg>\n",
              "  </button>\n",
              "\n",
              "<style>\n",
              "  .colab-df-quickchart {\n",
              "      --bg-color: #E8F0FE;\n",
              "      --fill-color: #1967D2;\n",
              "      --hover-bg-color: #E2EBFA;\n",
              "      --hover-fill-color: #174EA6;\n",
              "      --disabled-fill-color: #AAA;\n",
              "      --disabled-bg-color: #DDD;\n",
              "  }\n",
              "\n",
              "  [theme=dark] .colab-df-quickchart {\n",
              "      --bg-color: #3B4455;\n",
              "      --fill-color: #D2E3FC;\n",
              "      --hover-bg-color: #434B5C;\n",
              "      --hover-fill-color: #FFFFFF;\n",
              "      --disabled-bg-color: #3B4455;\n",
              "      --disabled-fill-color: #666;\n",
              "  }\n",
              "\n",
              "  .colab-df-quickchart {\n",
              "    background-color: var(--bg-color);\n",
              "    border: none;\n",
              "    border-radius: 50%;\n",
              "    cursor: pointer;\n",
              "    display: none;\n",
              "    fill: var(--fill-color);\n",
              "    height: 32px;\n",
              "    padding: 0;\n",
              "    width: 32px;\n",
              "  }\n",
              "\n",
              "  .colab-df-quickchart:hover {\n",
              "    background-color: var(--hover-bg-color);\n",
              "    box-shadow: 0 1px 2px rgba(60, 64, 67, 0.3), 0 1px 3px 1px rgba(60, 64, 67, 0.15);\n",
              "    fill: var(--button-hover-fill-color);\n",
              "  }\n",
              "\n",
              "  .colab-df-quickchart-complete:disabled,\n",
              "  .colab-df-quickchart-complete:disabled:hover {\n",
              "    background-color: var(--disabled-bg-color);\n",
              "    fill: var(--disabled-fill-color);\n",
              "    box-shadow: none;\n",
              "  }\n",
              "\n",
              "  .colab-df-spinner {\n",
              "    border: 2px solid var(--fill-color);\n",
              "    border-color: transparent;\n",
              "    border-bottom-color: var(--fill-color);\n",
              "    animation:\n",
              "      spin 1s steps(1) infinite;\n",
              "  }\n",
              "\n",
              "  @keyframes spin {\n",
              "    0% {\n",
              "      border-color: transparent;\n",
              "      border-bottom-color: var(--fill-color);\n",
              "      border-left-color: var(--fill-color);\n",
              "    }\n",
              "    20% {\n",
              "      border-color: transparent;\n",
              "      border-left-color: var(--fill-color);\n",
              "      border-top-color: var(--fill-color);\n",
              "    }\n",
              "    30% {\n",
              "      border-color: transparent;\n",
              "      border-left-color: var(--fill-color);\n",
              "      border-top-color: var(--fill-color);\n",
              "      border-right-color: var(--fill-color);\n",
              "    }\n",
              "    40% {\n",
              "      border-color: transparent;\n",
              "      border-right-color: var(--fill-color);\n",
              "      border-top-color: var(--fill-color);\n",
              "    }\n",
              "    60% {\n",
              "      border-color: transparent;\n",
              "      border-right-color: var(--fill-color);\n",
              "    }\n",
              "    80% {\n",
              "      border-color: transparent;\n",
              "      border-right-color: var(--fill-color);\n",
              "      border-bottom-color: var(--fill-color);\n",
              "    }\n",
              "    90% {\n",
              "      border-color: transparent;\n",
              "      border-bottom-color: var(--fill-color);\n",
              "    }\n",
              "  }\n",
              "</style>\n",
              "\n",
              "  <script>\n",
              "    async function quickchart(key) {\n",
              "      const quickchartButtonEl =\n",
              "        document.querySelector('#' + key + ' button');\n",
              "      quickchartButtonEl.disabled = true;  // To prevent multiple clicks.\n",
              "      quickchartButtonEl.classList.add('colab-df-spinner');\n",
              "      try {\n",
              "        const charts = await google.colab.kernel.invokeFunction(\n",
              "            'suggestCharts', [key], {});\n",
              "      } catch (error) {\n",
              "        console.error('Error during call to suggestCharts:', error);\n",
              "      }\n",
              "      quickchartButtonEl.classList.remove('colab-df-spinner');\n",
              "      quickchartButtonEl.classList.add('colab-df-quickchart-complete');\n",
              "    }\n",
              "    (() => {\n",
              "      let quickchartButtonEl =\n",
              "        document.querySelector('#df-23cf53c4-b32d-4096-a603-743118a3f5bb button');\n",
              "      quickchartButtonEl.style.display =\n",
              "        google.colab.kernel.accessAllowed ? 'block' : 'none';\n",
              "    })();\n",
              "  </script>\n",
              "</div>\n",
              "    </div>\n",
              "  </div>\n"
            ],
            "application/vnd.google.colaboratory.intrinsic+json": {
              "type": "dataframe",
              "summary": "{\n  \"name\": \"clean_comments[0:100]\",\n  \"rows\": 100,\n  \"fields\": [\n    {\n      \"column\": \"comments\",\n      \"properties\": {\n        \"dtype\": \"string\",\n        \"samples\": [\n          \"thought horizon dawn psvr go like non vr game would activ experi move around bunch swing spear dodg huge robot dinosaur shoot arrow stuff found go bought kinda broke heart sinc begin even play horizon vr game bum dumb introduct vr soni vr showpiec sit system unplay play gtr vr whole time instead experi incred good enough recommend someon drop thousand dollar ps psvr get way especi lack game experi disappoint hate say ye cyberpunk vr gta vr innov creativ experi push limit hardwar softwar well creativ possibl medium hope kind expect soni think got someth els hard say happen sure soni invest ton psvr also see make sens invest think would take creat true nextgen translat titl like horizon cyberpunk much less creat new titl huge risk dump ten hundr million dollar know mayb billion dollar psrv game small market never ran multi billion dollar compani know kind choic face disappoint guess still vr time shine still much tech nerd funni look littl goggl market last thing say look back quest vs psvr surpris well quest hold love way quest self contain unteth one excit thing medium potenti revolution fit also abl move around without worri cabl kinda way big win quest well design activ psvr feel fragil like gonna fli head move place move head fast feel like practic gymnast quest dope love see multiplay vr game involv run jump dodg shoot etc could play larg space like indoor soccer field could run around giant vr boss like feet tall tri stomp someth run jump way psvr need softwar need game experi mayb even app say call dev get dev gotta eat sure solut mayb dev subsid soni crowdfund new busi model mayb know still hope still sell psvr\",\n          \"mayb get vr acorn card\",\n          \"hard justifi spend game vr amaz tri titl glorifi tech demo love abl play half life alyx know never happen sure could make last us happen unchart soni rich award win st parti game\"\n        ],\n        \"num_unique_values\": 100,\n        \"semantic_type\": \"\",\n        \"description\": \"\"\n      }\n    }\n  ]\n}"
            }
          },
          "metadata": {},
          "execution_count": 81
        }
      ]
    },
    {
      "cell_type": "code",
      "source": [
        "#Youtube Links\n",
        "'''\n",
        "Meta Quest 3\n",
        "https://www.youtube.com/watch?v=CyBcAm4mI6w\n",
        "https://www.youtube.com/watch?v=iM7aUi0Tork\n",
        "https://www.youtube.com/watch?v=XXGXQ1f57PY\n",
        "https://www.youtube.com/watch?v=W4W81mblxcs\n",
        "\n",
        "Apple Vision Pro\n",
        "https://www.youtube.com/watch?v=86Gy035z_KA\n",
        "https://www.youtube.com/watch?v=UvkgmyfMPks\n",
        "https://www.youtube.com/watch?v=BV9Xy6L_rlM\n",
        "\n",
        "PSVR 2\n",
        "https://www.youtube.com/watch?v=cGs85Rabm1M\n",
        "https://www.youtube.com/watch?v=Qh8a12QbFAs\n",
        "https://www.youtube.com/watch?v=3RMG5A3b_YQ\n",
        "https://www.youtube.com/watch?v=ugibTbiQLVw\n",
        "\n",
        "'''"
      ],
      "metadata": {
        "id": "SmVevID1AMRM",
        "colab": {
          "base_uri": "https://localhost:8080/",
          "height": 87
        },
        "outputId": "080bd2c8-94c1-4b38-afcf-c6b2f9cd2140"
      },
      "execution_count": 82,
      "outputs": [
        {
          "output_type": "execute_result",
          "data": {
            "text/plain": [
              "'\\nMeta Quest 3\\nhttps://www.youtube.com/watch?v=CyBcAm4mI6w\\nhttps://www.youtube.com/watch?v=iM7aUi0Tork\\nhttps://www.youtube.com/watch?v=XXGXQ1f57PY\\nhttps://www.youtube.com/watch?v=W4W81mblxcs\\n\\nApple Vision Pro\\nhttps://www.youtube.com/watch?v=86Gy035z_KA\\nhttps://www.youtube.com/watch?v=UvkgmyfMPks\\nhttps://www.youtube.com/watch?v=BV9Xy6L_rlM\\n\\nPSVR 2\\nhttps://www.youtube.com/watch?v=cGs85Rabm1M\\nhttps://www.youtube.com/watch?v=Qh8a12QbFAs\\nhttps://www.youtube.com/watch?v=3RMG5A3b_YQ\\nhttps://www.youtube.com/watch?v=ugibTbiQLVw\\n\\n'"
            ],
            "application/vnd.google.colaboratory.intrinsic+json": {
              "type": "string"
            }
          },
          "metadata": {},
          "execution_count": 82
        }
      ]
    }
  ]
}