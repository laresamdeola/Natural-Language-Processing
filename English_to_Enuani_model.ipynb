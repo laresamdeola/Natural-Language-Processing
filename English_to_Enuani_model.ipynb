{
  "nbformat": 4,
  "nbformat_minor": 0,
  "metadata": {
    "colab": {
      "provenance": [],
      "authorship_tag": "ABX9TyOqTOVm+7uTvBwW5mfrr2DK",
      "include_colab_link": true
    },
    "kernelspec": {
      "name": "python3",
      "display_name": "Python 3"
    },
    "language_info": {
      "name": "python"
    }
  },
  "cells": [
    {
      "cell_type": "markdown",
      "metadata": {
        "id": "view-in-github",
        "colab_type": "text"
      },
      "source": [
        "<a href=\"https://colab.research.google.com/github/laresamdeola/Natural-Language-Processing/blob/main/English_to_Enuani_model.ipynb\" target=\"_parent\"><img src=\"https://colab.research.google.com/assets/colab-badge.svg\" alt=\"Open In Colab\"/></a>"
      ]
    },
    {
      "cell_type": "code",
      "execution_count": 7,
      "metadata": {
        "id": "M3ojjjq17UNR"
      },
      "outputs": [],
      "source": [
        "import math\n",
        "import pandas as pd\n",
        "import numpy as np\n",
        "from matplotlib import pyplot as plt"
      ]
    },
    {
      "cell_type": "code",
      "source": [
        "data = pd.read_csv('Enuani to english .csv')"
      ],
      "metadata": {
        "id": "NHNKQ_ns7YiB"
      },
      "execution_count": 8,
      "outputs": []
    },
    {
      "cell_type": "code",
      "source": [
        "data.info()"
      ],
      "metadata": {
        "colab": {
          "base_uri": "https://localhost:8080/"
        },
        "id": "bohR3nSM7afU",
        "outputId": "66f85f31-a607-4b3c-995d-dd08813043c7"
      },
      "execution_count": 9,
      "outputs": [
        {
          "output_type": "stream",
          "name": "stdout",
          "text": [
            "<class 'pandas.core.frame.DataFrame'>\n",
            "RangeIndex: 299 entries, 0 to 298\n",
            "Data columns (total 3 columns):\n",
            " #   Column      Non-Null Count  Dtype \n",
            "---  ------      --------------  ----- \n",
            " 0   English     299 non-null    object\n",
            " 1   Enuani      299 non-null    object\n",
            " 2   Unnamed: 2  12 non-null     object\n",
            "dtypes: object(3)\n",
            "memory usage: 7.1+ KB\n"
          ]
        }
      ]
    },
    {
      "cell_type": "code",
      "source": [
        "data.columns"
      ],
      "metadata": {
        "colab": {
          "base_uri": "https://localhost:8080/"
        },
        "id": "3fFbvCgs7duB",
        "outputId": "d928d529-c671-413f-bfc3-c672a8d71085"
      },
      "execution_count": 10,
      "outputs": [
        {
          "output_type": "execute_result",
          "data": {
            "text/plain": [
              "Index(['English', 'Enuani', 'Unnamed: 2'], dtype='object')"
            ]
          },
          "metadata": {},
          "execution_count": 10
        }
      ]
    },
    {
      "cell_type": "code",
      "source": [
        "# use apply function to turn all the words to lower case\n",
        "\n",
        "def lower_case_words(word):\n",
        "  return word.strip().lower()\n",
        "\n",
        "def remove_spaces(word):\n",
        "  return word.strip()"
      ],
      "metadata": {
        "id": "oH5Krx6v7d1M"
      },
      "execution_count": 11,
      "outputs": []
    },
    {
      "cell_type": "code",
      "source": [
        "data['English'] = data['English'].apply(lower_case_words)"
      ],
      "metadata": {
        "id": "pJaN_UCd7d8T"
      },
      "execution_count": 12,
      "outputs": []
    },
    {
      "cell_type": "code",
      "source": [
        "data['Enuani'] = data['Enuani'].apply(remove_spaces)"
      ],
      "metadata": {
        "id": "QdG7PXfj7qbL"
      },
      "execution_count": 13,
      "outputs": []
    },
    {
      "cell_type": "code",
      "source": [
        "data['Enuani']"
      ],
      "metadata": {
        "colab": {
          "base_uri": "https://localhost:8080/"
        },
        "id": "x9LnxHaN7qkf",
        "outputId": "429c9e10-837c-4e87-c2db-b5eb49650aba"
      },
      "execution_count": 14,
      "outputs": [
        {
          "output_type": "execute_result",
          "data": {
            "text/plain": [
              "0            nkē\n",
              "1             di\n",
              "2             ka\n",
              "3            nke\n",
              "4             na\n",
              "         ...    \n",
              "294         nnuā\n",
              "295    ka chị fó\n",
              "296          ndo\n",
              "297           eh\n",
              "298          mba\n",
              "Name: Enuani, Length: 299, dtype: object"
            ]
          },
          "metadata": {},
          "execution_count": 14
        }
      ]
    },
    {
      "cell_type": "code",
      "source": [
        "english_to_enuani = data.set_index('English')['Enuani'].to_dict()"
      ],
      "metadata": {
        "id": "iGIksrGx7utf"
      },
      "execution_count": 15,
      "outputs": []
    },
    {
      "cell_type": "code",
      "source": [
        "english_to_enuani"
      ],
      "metadata": {
        "colab": {
          "base_uri": "https://localhost:8080/"
        },
        "id": "DFMPUzRf7u3f",
        "outputId": "070d4050-6f46-44e1-fbd3-70ef3d8ad558"
      },
      "execution_count": 16,
      "outputs": [
        {
          "output_type": "execute_result",
          "data": {
            "text/plain": [
              "{'the': 'nkē',\n",
              " 'be': 'di',\n",
              " 'to': 'ka',\n",
              " 'of': 'nke',\n",
              " 'and': 'na',\n",
              " 'a': 'a',\n",
              " 'in': 'imē',\n",
              " 'that': 'nkọ',\n",
              " 'have': 'nwe',\n",
              " 'i': 'nmu',\n",
              " 'it': 'iyà',\n",
              " 'for': 'ọbụ',\n",
              " 'not': 'ọbụna',\n",
              " 'on': 'naẹnụ',\n",
              " 'with': 'oso',\n",
              " 'he': 'ịya',\n",
              " 'as': 'dịka',\n",
              " 'you': 'ịyu',\n",
              " 'do': 'mé',\n",
              " 'at': 'nọ',\n",
              " 'this': 'nké',\n",
              " 'but': 'mąną',\n",
              " 'his': 'nkẹyé',\n",
              " 'by': 'nąụsọ',\n",
              " 'from': 'sị',\n",
              " 'they': 'wá',\n",
              " 'we': 'ąnyị',\n",
              " 'say': 'kwụ',\n",
              " 'her': 'ịya',\n",
              " 'she': 'ịya',\n",
              " 'or': 'mọbụ',\n",
              " 'an': 'ką',\n",
              " 'will': 'ngé',\n",
              " 'my': 'nkem',\n",
              " 'one': 'ofu',\n",
              " 'all': 'nwancha',\n",
              " 'would': 'nta',\n",
              " 'there': 'bẹnụ',\n",
              " 'their': 'nkẹwé',\n",
              " 'what': 'gị',\n",
              " 'so': 'ịyąbụ',\n",
              " 'up': 'ẹnụ',\n",
              " 'out': 'pú',\n",
              " 'if': 'ọbụną',\n",
              " 'about': 'mąką',\n",
              " 'who': 'onyẹ',\n",
              " 'get': 'nwe',\n",
              " 'which': 'kánkẹ ọbụ',\n",
              " 'go': 'jé',\n",
              " 'me': 'nmu',\n",
              " 'when': 'ką ogẹ ọbụ',\n",
              " 'make': 'mé',\n",
              " 'can': 'nwẹ ike',\n",
              " 'like': 'ọsọm',\n",
              " 'time': 'ogẹ',\n",
              " 'no': 'mba',\n",
              " 'just': 'sọsọ',\n",
              " 'him': 'ịya',\n",
              " 'know': 'ịmali',\n",
              " 'take': 'wẹlị',\n",
              " 'people': 'ndị mądụ',\n",
              " 'into': 'ną ịmẹ',\n",
              " 'year': 'ahọ',\n",
              " 'your': 'nkẹyị',\n",
              " 'good': 'nmą',\n",
              " 'some': 'ụfọdụ',\n",
              " 'could': 'nwẹ ike',\n",
              " 'them': 'wá',\n",
              " 'see': 'né',\n",
              " 'other': 'ndị ọzọ',\n",
              " 'than': 'kąlią',\n",
              " 'then': 'ogelewọ',\n",
              " 'now': 'kịtá',\n",
              " 'look': 'né',\n",
              " 'only': 'sọsọ',\n",
              " 'come': 'bịą',\n",
              " 'its': 'ọbụ',\n",
              " 'over': 'kalịą',\n",
              " 'think': 'ló',\n",
              " 'also': 'ọzọ',\n",
              " 'back': 'ązụ',\n",
              " 'after': 'omẹsié',\n",
              " 'use': 'ji',\n",
              " 'two': 'ąbua',\n",
              " 'how': 'kąką',\n",
              " 'our': 'nkẹ ąnyi',\n",
              " 'work': 'ọlụ',\n",
              " 'first': 'nke izịzị',\n",
              " 'well': 'ọfuma',\n",
              " 'may': 'onwẹikẹ.',\n",
              " 'even': 'ọbụna',\n",
              " 'new': 'ọfu',\n",
              " 'want': 'chọ',\n",
              " 'because': 'mąką',\n",
              " 'any': 'nke ọbuną',\n",
              " 'these': 'ndia',\n",
              " 'give': 'nyẹ',\n",
              " 'day': 'ụbọsi',\n",
              " 'most': 'nkẹ ką nką',\n",
              " 'us': 'ąnyị',\n",
              " 'is': 'dụ',\n",
              " 'are': 'wa',\n",
              " 'was': 'mbụ',\n",
              " 'were': 'bụ',\n",
              " 'being': 'ịbụ',\n",
              " 'been': 'otẹgẹ',\n",
              " 'has': 'nwẹ',\n",
              " 'does': 'mé',\n",
              " 'did': 'mé',\n",
              " 'having': 'ịnwe',\n",
              " 'doing': 'imẹ',\n",
              " 'saying': 'né kwụ',\n",
              " 'making': 'né mé',\n",
              " 'going': 'na eje',\n",
              " 'getting': 'nẹ nwé',\n",
              " 'seeing': 'ịfụ',\n",
              " 'thinking': 'na elo ilolo',\n",
              " 'using': 'na ẹwé',\n",
              " 'coming': 'na abịa',\n",
              " 'working': 'na alụ ọlụ',\n",
              " 'knowing': 'ịmali ifẹ',\n",
              " 'taking': 'ịweli',\n",
              " 'giving': 'inye',\n",
              " 'looking': 'na ene anya',\n",
              " 'playing': 'ịgwụẹgụ',\n",
              " 'running': 'igba ọsọ',\n",
              " 'speaking': 'ikwu okwu',\n",
              " 'eating': 'Iri nni',\n",
              " 'drinking': 'ịla nmanya',\n",
              " 'living': 'idindu',\n",
              " 'writing': 'idẹ',\n",
              " 'reading': 'ịgwu akwụkwọ',\n",
              " 'watching': 'naekili',\n",
              " 'sleeping': 'la hu ụla',\n",
              " 'walking': 'ije ije',\n",
              " 'studying': 'na amụ',\n",
              " 'learning': 'imuha ifẹ',\n",
              " 'teaching': 'nkuzi',\n",
              " 'understanding': 'nwọha',\n",
              " 'creating': 'okikẹ',\n",
              " 'building': 'ịlụ unọ',\n",
              " 'fixing': 'idozi',\n",
              " 'cleaning': 'nficha',\n",
              " 'buying': 'ịgohẹ ifẹ',\n",
              " 'paying': 'na-akwụ ụgwọ',\n",
              " 'finding': 'ịchọpuha',\n",
              " 'losing': 'losingna-efú',\n",
              " 'winning': 'nmeli',\n",
              " 'trying': 'na-nwá',\n",
              " 'cooking': 'is nni',\n",
              " 'driving': 'ịnya',\n",
              " 'travelling': 'ijẹ',\n",
              " 'visiting': 'nneta',\n",
              " 'talking': 'ikwu okwu',\n",
              " 'listening': 'na ẹgẹ ntị',\n",
              " 'face': 'ihu',\n",
              " 'drawing': 'isẹ ifẹ',\n",
              " 'dancing': 'te gwu',\n",
              " 'singing': 'ibụ abụ',\n",
              " 'painting': 'itete',\n",
              " 'laughing': 'na amụ amụ',\n",
              " 'crying': 'na akwa kwa',\n",
              " 'smiling': 'na amu ọnu amụ',\n",
              " 'frowning': 'na ewe iwe',\n",
              " 'person': 'mądụ',\n",
              " 'happy': 'obi anwuli',\n",
              " 'believing': 'ikweli',\n",
              " 'hoping': 'na atu anya',\n",
              " 'wishing': 'na achọ',\n",
              " 'praying': 'na ekpe ekpele',\n",
              " 'loving': 'ifunanya',\n",
              " 'hating': 'ịkpọ asi',\n",
              " 'liking': 'usọ',\n",
              " 'disliking': 'ịkpo asi',\n",
              " 'needing': 'ichọ',\n",
              " 'wanting': 'ichọ',\n",
              " 'baking': 'I mẹ achicha',\n",
              " 'helping': 'ịnye aka',\n",
              " 'saving': 'zọpuhą',\n",
              " 'protecting': 'nche',\n",
              " 'observing': 'na ekili',\n",
              " 'nothing': 'o nwe ne',\n",
              " 'trust': 'ntụkwasị obi',\n",
              " 'disrespect': 'ẹnwẹne nsọpulu',\n",
              " 'respect': 'nsọpulu',\n",
              " 'noticing': 'na chọpuha',\n",
              " 'failing': 'na ada ada',\n",
              " 'succeeding': 'na aganihu',\n",
              " 'starting': 'mbido',\n",
              " 'finishing': 'ọgugu',\n",
              " 'beginning': 'mbido',\n",
              " 'ending': 'ogugu',\n",
              " 'continuing': 'bido',\n",
              " 'stopping': 'nkwụsị',\n",
              " 'pausing': 'zuikẹ',\n",
              " 'mirror': 'ugegbe',\n",
              " 'resting': 'zuike',\n",
              " 'waking': 'na ete shi',\n",
              " 'dying': 'inwụ anwụ',\n",
              " 'life': 'ndu',\n",
              " 'existing': 'di adi',\n",
              " 'car': 'ụgbọ ąni',\n",
              " 'feeling': 'mmetụ',\n",
              " 'acting': 'imẹ fe',\n",
              " 'staying': 'na anọ',\n",
              " 'leaving': 'na apụ',\n",
              " 'arriving': 'na elụ elụ',\n",
              " 'departing': 'na apụ',\n",
              " 'flying': 'ifẹ fẹ',\n",
              " 'jumping': 'na awụni enu',\n",
              " 'swimming': 'igwu mmili',\n",
              " 'riding': 'ịnya',\n",
              " 'fighting': 'inu ọgụ',\n",
              " 'arguing': 'na alụ ụka',\n",
              " 'agreeing': 'ịkpa nyeni',\n",
              " 'disagreeing': 'ekwe ne',\n",
              " 'negotiating': 'ịkpa nkata',\n",
              " 'discussing': 'na apka nkata',\n",
              " 'whispering': 'nta pu',\n",
              " 'shouting': 'ikpọ mkpu',\n",
              " 'yelling': 'ikpọ mkpu',\n",
              " 'screaming': 'ikpọ mkpu',\n",
              " 'realise': 'ịwoha',\n",
              " 'rat': 'okẹ',\n",
              " 'door': 'ụzọ',\n",
              " 'eye': 'ąnyą',\n",
              " 'mouth': 'ọnụ',\n",
              " 'gun': 'ẹgbẹ',\n",
              " 'chair': 'ochẹ',\n",
              " 'moon': 'ọnwą',\n",
              " 'sun': 'ąnwụ',\n",
              " 'pear': 'ụbẹ',\n",
              " 'bed': 'ākwā',\n",
              " 'bag': 'ákpó',\n",
              " 'house': 'ụnọ',\n",
              " 'cloth': 'ákwá',\n",
              " 'money': 'ẹgo',\n",
              " 'floor': 'ąnị',\n",
              " 'fire': 'ókụ',\n",
              " 'knife': 'nmá',\n",
              " 'soup': 'ofẹ',\n",
              " 'teeth': 'ẹzẹ',\n",
              " 'give me': \"nye 'm\",\n",
              " 'oil': 'nmąnụ',\n",
              " 'water': 'mịlị',\n",
              " 'fish': 'ázù',\n",
              " 'sleep': 'ụla',\n",
              " 'welcome': 'nnuā',\n",
              " 'goodnight': 'ka chị fó',\n",
              " 'sorry': 'ndo',\n",
              " 'yes': 'eh'}"
            ]
          },
          "metadata": {},
          "execution_count": 16
        }
      ]
    },
    {
      "cell_type": "code",
      "source": [
        "enuani_to_english = { v : k for k, v in english_to_enuani.items() }"
      ],
      "metadata": {
        "id": "UoQ2EfpK7vAO"
      },
      "execution_count": 17,
      "outputs": []
    },
    {
      "cell_type": "code",
      "source": [
        "len(english_to_enuani)"
      ],
      "metadata": {
        "colab": {
          "base_uri": "https://localhost:8080/"
        },
        "id": "Awh8de2K7vIw",
        "outputId": "dae70854-ee50-40fc-b5f0-7f9888933980"
      },
      "execution_count": 18,
      "outputs": [
        {
          "output_type": "execute_result",
          "data": {
            "text/plain": [
              "251"
            ]
          },
          "metadata": {},
          "execution_count": 18
        }
      ]
    },
    {
      "cell_type": "code",
      "source": [
        "def translate(text, dictionary):\n",
        "    words = text.lower().split()\n",
        "    print(words)\n",
        "    translated_words = [dictionary.get(word, word) for word in words]\n",
        "    return ' '.join(translated_words)\n",
        "\n",
        "def translate_english_to_enuani(text):\n",
        "    return translate(text, english_to_enuani)\n",
        "\n",
        "def translate_enuani_to_english(text):\n",
        "    return translate(text, enuani_to_english)"
      ],
      "metadata": {
        "id": "5vodPJm77vRv"
      },
      "execution_count": 19,
      "outputs": []
    },
    {
      "cell_type": "code",
      "source": [
        "# no punctuations for now\n",
        "\n",
        "english_text = \"they have my people\"\n",
        "translated_text = translate_english_to_enuani(english_text)\n",
        "print(\"English to Enuani:\", translated_text)"
      ],
      "metadata": {
        "colab": {
          "base_uri": "https://localhost:8080/"
        },
        "id": "NF1j1Zuu79Fc",
        "outputId": "72f6b53b-d8a6-4d00-aa2a-b13934659c62"
      },
      "execution_count": 20,
      "outputs": [
        {
          "output_type": "stream",
          "name": "stdout",
          "text": [
            "['they', 'have', 'my', 'people']\n",
            "English to Enuani: wá nwe nkem ndị mądụ\n"
          ]
        }
      ]
    },
    {
      "cell_type": "code",
      "source": [
        "enuani_text = \"nkem ofu na mądụ\"\n",
        "translated_text = translate_enuani_to_english(enuani_text)\n",
        "print(\"Enuani to English:\", translated_text)"
      ],
      "metadata": {
        "colab": {
          "base_uri": "https://localhost:8080/"
        },
        "id": "7Gq1HKcV79Np",
        "outputId": "f1ed772f-1e5f-4ce6-d03f-347952cd051a"
      },
      "execution_count": 21,
      "outputs": [
        {
          "output_type": "stream",
          "name": "stdout",
          "text": [
            "['nkem', 'ofu', 'na', 'mądụ']\n",
            "Enuani to English: my one and person\n"
          ]
        }
      ]
    },
    {
      "cell_type": "code",
      "source": [],
      "metadata": {
        "id": "kDQnNzAX79XZ"
      },
      "execution_count": null,
      "outputs": []
    },
    {
      "cell_type": "code",
      "source": [],
      "metadata": {
        "id": "L7F79DDl79l3"
      },
      "execution_count": null,
      "outputs": []
    },
    {
      "cell_type": "code",
      "source": [],
      "metadata": {
        "id": "4ynIWV3I79wH"
      },
      "execution_count": null,
      "outputs": []
    }
  ]
}