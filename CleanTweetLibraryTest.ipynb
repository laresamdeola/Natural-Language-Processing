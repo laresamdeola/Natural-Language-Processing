{
  "nbformat": 4,
  "nbformat_minor": 0,
  "metadata": {
    "colab": {
      "provenance": [],
      "authorship_tag": "ABX9TyMm1ADiC1h/kIfsp+Xa3wX/",
      "include_colab_link": true
    },
    "kernelspec": {
      "name": "python3",
      "display_name": "Python 3"
    },
    "language_info": {
      "name": "python"
    }
  },
  "cells": [
    {
      "cell_type": "markdown",
      "metadata": {
        "id": "view-in-github",
        "colab_type": "text"
      },
      "source": [
        "<a href=\"https://colab.research.google.com/github/laresamdeola/Natural-Language-Processing/blob/main/CleanTweetLibraryTest.ipynb\" target=\"_parent\"><img src=\"https://colab.research.google.com/assets/colab-badge.svg\" alt=\"Open In Colab\"/></a>"
      ]
    },
    {
      "cell_type": "code",
      "execution_count": 1,
      "metadata": {
        "colab": {
          "base_uri": "https://localhost:8080/"
        },
        "id": "kTzyl456ibWt",
        "outputId": "e077784c-9ec3-4a2b-b211-ad1600ad1302"
      },
      "outputs": [
        {
          "output_type": "stream",
          "name": "stdout",
          "text": [
            "Collecting cleantweet\n",
            "  Downloading cleantweet-0.1.1-py3-none-any.whl.metadata (1.9 kB)\n",
            "Requirement already satisfied: nltk in /usr/local/lib/python3.10/dist-packages (from cleantweet) (3.8.1)\n",
            "Requirement already satisfied: click in /usr/local/lib/python3.10/dist-packages (from nltk->cleantweet) (8.1.7)\n",
            "Requirement already satisfied: joblib in /usr/local/lib/python3.10/dist-packages (from nltk->cleantweet) (1.4.2)\n",
            "Requirement already satisfied: regex>=2021.8.3 in /usr/local/lib/python3.10/dist-packages (from nltk->cleantweet) (2024.5.15)\n",
            "Requirement already satisfied: tqdm in /usr/local/lib/python3.10/dist-packages (from nltk->cleantweet) (4.66.4)\n",
            "Downloading cleantweet-0.1.1-py3-none-any.whl (2.4 kB)\n",
            "Installing collected packages: cleantweet\n",
            "Successfully installed cleantweet-0.1.1\n"
          ]
        }
      ],
      "source": [
        "pip install cleantweet"
      ]
    },
    {
      "cell_type": "code",
      "source": [
        "from cleantweet import CleanTweet"
      ],
      "metadata": {
        "id": "Ln-Ry4CPioZS"
      },
      "execution_count": 2,
      "outputs": []
    },
    {
      "cell_type": "code",
      "source": [
        "import nltk"
      ],
      "metadata": {
        "id": "4fj_xDaUiuDZ"
      },
      "execution_count": 3,
      "outputs": []
    },
    {
      "cell_type": "code",
      "source": [
        "nltk.download('punkt')"
      ],
      "metadata": {
        "colab": {
          "base_uri": "https://localhost:8080/"
        },
        "id": "MV9L5tlRixK_",
        "outputId": "099b6c56-670f-4ab1-f92b-51e77f3c8bb6"
      },
      "execution_count": 4,
      "outputs": [
        {
          "output_type": "stream",
          "name": "stderr",
          "text": [
            "[nltk_data] Downloading package punkt to /root/nltk_data...\n",
            "[nltk_data]   Unzipping tokenizers/punkt.zip.\n"
          ]
        },
        {
          "output_type": "execute_result",
          "data": {
            "text/plain": [
              "True"
            ]
          },
          "metadata": {},
          "execution_count": 4
        }
      ]
    },
    {
      "cell_type": "code",
      "source": [
        "data = CleanTweet('blocks.txt')"
      ],
      "metadata": {
        "id": "yfjHBEzdi1q5"
      },
      "execution_count": 7,
      "outputs": []
    },
    {
      "cell_type": "code",
      "source": [
        "print(data.clean())"
      ],
      "metadata": {
        "colab": {
          "base_uri": "https://localhost:8080/"
        },
        "id": "IyA7TAnOjEpZ",
        "outputId": "4a2ec22e-bd7c-48d9-9074-3264f4d0ed8c"
      },
      "execution_count": 8,
      "outputs": [
        {
          "output_type": "stream",
          "name": "stdout",
          "text": [
            "Blockworks Found out that QatarBet is the hden gem of football NFT betting games in the World Cup QatarBet has made traditional collectible football cards into NFTs to use in the betting game QatarBet going to be Moon\n"
          ]
        }
      ]
    }
  ]
}