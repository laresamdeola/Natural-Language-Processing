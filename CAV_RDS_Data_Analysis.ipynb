{
  "nbformat": 4,
  "nbformat_minor": 0,
  "metadata": {
    "colab": {
      "provenance": [],
      "authorship_tag": "ABX9TyOb4euQ4A/u38JYHXpZYX51"
    },
    "kernelspec": {
      "name": "python3",
      "display_name": "Python 3"
    },
    "language_info": {
      "name": "python"
    }
  },
  "cells": [
    {
      "cell_type": "code",
      "execution_count": null,
      "metadata": {
        "id": "fSAQzdrH3CYn"
      },
      "outputs": [],
      "source": [
        "import numpy as np\n",
        "import pandas as pd\n",
        "import matplotlib.pyplot as plt\n",
        "import nltk"
      ]
    },
    {
      "cell_type": "code",
      "source": [
        "nltk.download('punkt')"
      ],
      "metadata": {
        "colab": {
          "base_uri": "https://localhost:8080/"
        },
        "id": "OEG4TnEl3QW7",
        "outputId": "6ba53abb-a48e-4af1-cd66-2a7391cba903"
      },
      "execution_count": null,
      "outputs": [
        {
          "output_type": "stream",
          "name": "stderr",
          "text": [
            "[nltk_data] Downloading package punkt to /root/nltk_data...\n",
            "[nltk_data]   Unzipping tokenizers/punkt.zip.\n"
          ]
        },
        {
          "output_type": "execute_result",
          "data": {
            "text/plain": [
              "True"
            ]
          },
          "metadata": {},
          "execution_count": 3
        }
      ]
    },
    {
      "cell_type": "code",
      "source": [
        "nltk.download('stopwords')"
      ],
      "metadata": {
        "colab": {
          "base_uri": "https://localhost:8080/"
        },
        "id": "qJDAqGQIY4-D",
        "outputId": "2216465e-54d7-4f5e-ba6f-915daa151508"
      },
      "execution_count": 22,
      "outputs": [
        {
          "output_type": "stream",
          "name": "stderr",
          "text": [
            "[nltk_data] Downloading package stopwords to /root/nltk_data...\n",
            "[nltk_data]   Unzipping corpora/stopwords.zip.\n"
          ]
        },
        {
          "output_type": "execute_result",
          "data": {
            "text/plain": [
              "True"
            ]
          },
          "metadata": {},
          "execution_count": 22
        }
      ]
    },
    {
      "cell_type": "markdown",
      "source": [
        "APPLE VISION PRO"
      ],
      "metadata": {
        "id": "K7mSK8wP3ZhU"
      }
    },
    {
      "cell_type": "code",
      "source": [
        "vision_pro_comments = pd.read_csv('apple_vision_pro_one_comments.txt', delimiter=\"\\t\")"
      ],
      "metadata": {
        "id": "ud0S8vSj3VWK"
      },
      "execution_count": 13,
      "outputs": []
    },
    {
      "cell_type": "code",
      "source": [
        "vision_pro_comments"
      ],
      "metadata": {
        "id": "qCke1y9S3eit",
        "colab": {
          "base_uri": "https://localhost:8080/",
          "height": 424
        },
        "outputId": "362fe49b-32e0-420a-8126-b8e26b59e623"
      },
      "execution_count": 14,
      "outputs": [
        {
          "output_type": "execute_result",
          "data": {
            "text/plain": [
              "                                              comments\n",
              "0    am i the only one who is absolutely mortified ...\n",
              "1    check the glass trunk from sony i hink it came...\n",
              "2    always exciting with apple hate to reflect on ...\n",
              "3    does sombody know why i can play this video ou...\n",
              "4    in about a decade we ll all be walking around ...\n",
              "..                                                 ...\n",
              "395  this nonsense crazy expensive gear from apple ...\n",
              "396  pay per view at home love concert parties damn...\n",
              "397  wanna try it for sure gonna watch that breakdo...\n",
              "398  i returned mine after a couple of days the pri...\n",
              "399  it s risky and its new microssoft holones uhhh...\n",
              "\n",
              "[400 rows x 1 columns]"
            ],
            "text/html": [
              "\n",
              "  <div id=\"df-48ad5f97-2beb-44eb-8f2f-0424b48821cb\" class=\"colab-df-container\">\n",
              "    <div>\n",
              "<style scoped>\n",
              "    .dataframe tbody tr th:only-of-type {\n",
              "        vertical-align: middle;\n",
              "    }\n",
              "\n",
              "    .dataframe tbody tr th {\n",
              "        vertical-align: top;\n",
              "    }\n",
              "\n",
              "    .dataframe thead th {\n",
              "        text-align: right;\n",
              "    }\n",
              "</style>\n",
              "<table border=\"1\" class=\"dataframe\">\n",
              "  <thead>\n",
              "    <tr style=\"text-align: right;\">\n",
              "      <th></th>\n",
              "      <th>comments</th>\n",
              "    </tr>\n",
              "  </thead>\n",
              "  <tbody>\n",
              "    <tr>\n",
              "      <th>0</th>\n",
              "      <td>am i the only one who is absolutely mortified ...</td>\n",
              "    </tr>\n",
              "    <tr>\n",
              "      <th>1</th>\n",
              "      <td>check the glass trunk from sony i hink it came...</td>\n",
              "    </tr>\n",
              "    <tr>\n",
              "      <th>2</th>\n",
              "      <td>always exciting with apple hate to reflect on ...</td>\n",
              "    </tr>\n",
              "    <tr>\n",
              "      <th>3</th>\n",
              "      <td>does sombody know why i can play this video ou...</td>\n",
              "    </tr>\n",
              "    <tr>\n",
              "      <th>4</th>\n",
              "      <td>in about a decade we ll all be walking around ...</td>\n",
              "    </tr>\n",
              "    <tr>\n",
              "      <th>...</th>\n",
              "      <td>...</td>\n",
              "    </tr>\n",
              "    <tr>\n",
              "      <th>395</th>\n",
              "      <td>this nonsense crazy expensive gear from apple ...</td>\n",
              "    </tr>\n",
              "    <tr>\n",
              "      <th>396</th>\n",
              "      <td>pay per view at home love concert parties damn...</td>\n",
              "    </tr>\n",
              "    <tr>\n",
              "      <th>397</th>\n",
              "      <td>wanna try it for sure gonna watch that breakdo...</td>\n",
              "    </tr>\n",
              "    <tr>\n",
              "      <th>398</th>\n",
              "      <td>i returned mine after a couple of days the pri...</td>\n",
              "    </tr>\n",
              "    <tr>\n",
              "      <th>399</th>\n",
              "      <td>it s risky and its new microssoft holones uhhh...</td>\n",
              "    </tr>\n",
              "  </tbody>\n",
              "</table>\n",
              "<p>400 rows × 1 columns</p>\n",
              "</div>\n",
              "    <div class=\"colab-df-buttons\">\n",
              "\n",
              "  <div class=\"colab-df-container\">\n",
              "    <button class=\"colab-df-convert\" onclick=\"convertToInteractive('df-48ad5f97-2beb-44eb-8f2f-0424b48821cb')\"\n",
              "            title=\"Convert this dataframe to an interactive table.\"\n",
              "            style=\"display:none;\">\n",
              "\n",
              "  <svg xmlns=\"http://www.w3.org/2000/svg\" height=\"24px\" viewBox=\"0 -960 960 960\">\n",
              "    <path d=\"M120-120v-720h720v720H120Zm60-500h600v-160H180v160Zm220 220h160v-160H400v160Zm0 220h160v-160H400v160ZM180-400h160v-160H180v160Zm440 0h160v-160H620v160ZM180-180h160v-160H180v160Zm440 0h160v-160H620v160Z\"/>\n",
              "  </svg>\n",
              "    </button>\n",
              "\n",
              "  <style>\n",
              "    .colab-df-container {\n",
              "      display:flex;\n",
              "      gap: 12px;\n",
              "    }\n",
              "\n",
              "    .colab-df-convert {\n",
              "      background-color: #E8F0FE;\n",
              "      border: none;\n",
              "      border-radius: 50%;\n",
              "      cursor: pointer;\n",
              "      display: none;\n",
              "      fill: #1967D2;\n",
              "      height: 32px;\n",
              "      padding: 0 0 0 0;\n",
              "      width: 32px;\n",
              "    }\n",
              "\n",
              "    .colab-df-convert:hover {\n",
              "      background-color: #E2EBFA;\n",
              "      box-shadow: 0px 1px 2px rgba(60, 64, 67, 0.3), 0px 1px 3px 1px rgba(60, 64, 67, 0.15);\n",
              "      fill: #174EA6;\n",
              "    }\n",
              "\n",
              "    .colab-df-buttons div {\n",
              "      margin-bottom: 4px;\n",
              "    }\n",
              "\n",
              "    [theme=dark] .colab-df-convert {\n",
              "      background-color: #3B4455;\n",
              "      fill: #D2E3FC;\n",
              "    }\n",
              "\n",
              "    [theme=dark] .colab-df-convert:hover {\n",
              "      background-color: #434B5C;\n",
              "      box-shadow: 0px 1px 3px 1px rgba(0, 0, 0, 0.15);\n",
              "      filter: drop-shadow(0px 1px 2px rgba(0, 0, 0, 0.3));\n",
              "      fill: #FFFFFF;\n",
              "    }\n",
              "  </style>\n",
              "\n",
              "    <script>\n",
              "      const buttonEl =\n",
              "        document.querySelector('#df-48ad5f97-2beb-44eb-8f2f-0424b48821cb button.colab-df-convert');\n",
              "      buttonEl.style.display =\n",
              "        google.colab.kernel.accessAllowed ? 'block' : 'none';\n",
              "\n",
              "      async function convertToInteractive(key) {\n",
              "        const element = document.querySelector('#df-48ad5f97-2beb-44eb-8f2f-0424b48821cb');\n",
              "        const dataTable =\n",
              "          await google.colab.kernel.invokeFunction('convertToInteractive',\n",
              "                                                    [key], {});\n",
              "        if (!dataTable) return;\n",
              "\n",
              "        const docLinkHtml = 'Like what you see? Visit the ' +\n",
              "          '<a target=\"_blank\" href=https://colab.research.google.com/notebooks/data_table.ipynb>data table notebook</a>'\n",
              "          + ' to learn more about interactive tables.';\n",
              "        element.innerHTML = '';\n",
              "        dataTable['output_type'] = 'display_data';\n",
              "        await google.colab.output.renderOutput(dataTable, element);\n",
              "        const docLink = document.createElement('div');\n",
              "        docLink.innerHTML = docLinkHtml;\n",
              "        element.appendChild(docLink);\n",
              "      }\n",
              "    </script>\n",
              "  </div>\n",
              "\n",
              "\n",
              "<div id=\"df-b054a738-8901-45c0-88d0-33dfcf47d78b\">\n",
              "  <button class=\"colab-df-quickchart\" onclick=\"quickchart('df-b054a738-8901-45c0-88d0-33dfcf47d78b')\"\n",
              "            title=\"Suggest charts\"\n",
              "            style=\"display:none;\">\n",
              "\n",
              "<svg xmlns=\"http://www.w3.org/2000/svg\" height=\"24px\"viewBox=\"0 0 24 24\"\n",
              "     width=\"24px\">\n",
              "    <g>\n",
              "        <path d=\"M19 3H5c-1.1 0-2 .9-2 2v14c0 1.1.9 2 2 2h14c1.1 0 2-.9 2-2V5c0-1.1-.9-2-2-2zM9 17H7v-7h2v7zm4 0h-2V7h2v10zm4 0h-2v-4h2v4z\"/>\n",
              "    </g>\n",
              "</svg>\n",
              "  </button>\n",
              "\n",
              "<style>\n",
              "  .colab-df-quickchart {\n",
              "      --bg-color: #E8F0FE;\n",
              "      --fill-color: #1967D2;\n",
              "      --hover-bg-color: #E2EBFA;\n",
              "      --hover-fill-color: #174EA6;\n",
              "      --disabled-fill-color: #AAA;\n",
              "      --disabled-bg-color: #DDD;\n",
              "  }\n",
              "\n",
              "  [theme=dark] .colab-df-quickchart {\n",
              "      --bg-color: #3B4455;\n",
              "      --fill-color: #D2E3FC;\n",
              "      --hover-bg-color: #434B5C;\n",
              "      --hover-fill-color: #FFFFFF;\n",
              "      --disabled-bg-color: #3B4455;\n",
              "      --disabled-fill-color: #666;\n",
              "  }\n",
              "\n",
              "  .colab-df-quickchart {\n",
              "    background-color: var(--bg-color);\n",
              "    border: none;\n",
              "    border-radius: 50%;\n",
              "    cursor: pointer;\n",
              "    display: none;\n",
              "    fill: var(--fill-color);\n",
              "    height: 32px;\n",
              "    padding: 0;\n",
              "    width: 32px;\n",
              "  }\n",
              "\n",
              "  .colab-df-quickchart:hover {\n",
              "    background-color: var(--hover-bg-color);\n",
              "    box-shadow: 0 1px 2px rgba(60, 64, 67, 0.3), 0 1px 3px 1px rgba(60, 64, 67, 0.15);\n",
              "    fill: var(--button-hover-fill-color);\n",
              "  }\n",
              "\n",
              "  .colab-df-quickchart-complete:disabled,\n",
              "  .colab-df-quickchart-complete:disabled:hover {\n",
              "    background-color: var(--disabled-bg-color);\n",
              "    fill: var(--disabled-fill-color);\n",
              "    box-shadow: none;\n",
              "  }\n",
              "\n",
              "  .colab-df-spinner {\n",
              "    border: 2px solid var(--fill-color);\n",
              "    border-color: transparent;\n",
              "    border-bottom-color: var(--fill-color);\n",
              "    animation:\n",
              "      spin 1s steps(1) infinite;\n",
              "  }\n",
              "\n",
              "  @keyframes spin {\n",
              "    0% {\n",
              "      border-color: transparent;\n",
              "      border-bottom-color: var(--fill-color);\n",
              "      border-left-color: var(--fill-color);\n",
              "    }\n",
              "    20% {\n",
              "      border-color: transparent;\n",
              "      border-left-color: var(--fill-color);\n",
              "      border-top-color: var(--fill-color);\n",
              "    }\n",
              "    30% {\n",
              "      border-color: transparent;\n",
              "      border-left-color: var(--fill-color);\n",
              "      border-top-color: var(--fill-color);\n",
              "      border-right-color: var(--fill-color);\n",
              "    }\n",
              "    40% {\n",
              "      border-color: transparent;\n",
              "      border-right-color: var(--fill-color);\n",
              "      border-top-color: var(--fill-color);\n",
              "    }\n",
              "    60% {\n",
              "      border-color: transparent;\n",
              "      border-right-color: var(--fill-color);\n",
              "    }\n",
              "    80% {\n",
              "      border-color: transparent;\n",
              "      border-right-color: var(--fill-color);\n",
              "      border-bottom-color: var(--fill-color);\n",
              "    }\n",
              "    90% {\n",
              "      border-color: transparent;\n",
              "      border-bottom-color: var(--fill-color);\n",
              "    }\n",
              "  }\n",
              "</style>\n",
              "\n",
              "  <script>\n",
              "    async function quickchart(key) {\n",
              "      const quickchartButtonEl =\n",
              "        document.querySelector('#' + key + ' button');\n",
              "      quickchartButtonEl.disabled = true;  // To prevent multiple clicks.\n",
              "      quickchartButtonEl.classList.add('colab-df-spinner');\n",
              "      try {\n",
              "        const charts = await google.colab.kernel.invokeFunction(\n",
              "            'suggestCharts', [key], {});\n",
              "      } catch (error) {\n",
              "        console.error('Error during call to suggestCharts:', error);\n",
              "      }\n",
              "      quickchartButtonEl.classList.remove('colab-df-spinner');\n",
              "      quickchartButtonEl.classList.add('colab-df-quickchart-complete');\n",
              "    }\n",
              "    (() => {\n",
              "      let quickchartButtonEl =\n",
              "        document.querySelector('#df-b054a738-8901-45c0-88d0-33dfcf47d78b button');\n",
              "      quickchartButtonEl.style.display =\n",
              "        google.colab.kernel.accessAllowed ? 'block' : 'none';\n",
              "    })();\n",
              "  </script>\n",
              "</div>\n",
              "    </div>\n",
              "  </div>\n"
            ],
            "application/vnd.google.colaboratory.intrinsic+json": {
              "type": "dataframe",
              "variable_name": "vision_pro_comments",
              "summary": "{\n  \"name\": \"vision_pro_comments\",\n  \"rows\": 400,\n  \"fields\": [\n    {\n      \"column\": \"comments\",\n      \"properties\": {\n        \"dtype\": \"category\",\n        \"num_unique_values\": 98,\n        \"samples\": [\n          \"why is no one talking about battery life everything is useless without good battery life\",\n          \"damn\",\n          \"pay per view at home love concert parties damn scary yet fucking cool\"\n        ],\n        \"semantic_type\": \"\",\n        \"description\": \"\"\n      }\n    }\n  ]\n}"
            }
          },
          "metadata": {},
          "execution_count": 14
        }
      ]
    },
    {
      "cell_type": "code",
      "source": [
        "len(vision_pro_comments)"
      ],
      "metadata": {
        "id": "dpxSj1_i3loU",
        "colab": {
          "base_uri": "https://localhost:8080/"
        },
        "outputId": "eb473bf1-d18e-409d-928e-d0fe2b9007d3"
      },
      "execution_count": 15,
      "outputs": [
        {
          "output_type": "execute_result",
          "data": {
            "text/plain": [
              "400"
            ]
          },
          "metadata": {},
          "execution_count": 15
        }
      ]
    },
    {
      "cell_type": "code",
      "source": [
        "comments_vision_pro_one = vision_pro_comments['comments']"
      ],
      "metadata": {
        "id": "XH4peAddYCn4"
      },
      "execution_count": 16,
      "outputs": []
    },
    {
      "cell_type": "code",
      "source": [
        "comments_vision_pro_one[0:10]"
      ],
      "metadata": {
        "colab": {
          "base_uri": "https://localhost:8080/"
        },
        "id": "-SpC_quZYJEv",
        "outputId": "0abceecc-c6c1-41a8-93bf-6d084e27d4b1"
      },
      "execution_count": 17,
      "outputs": [
        {
          "output_type": "execute_result",
          "data": {
            "text/plain": [
              "0    am i the only one who is absolutely mortified ...\n",
              "1    check the glass trunk from sony i hink it came...\n",
              "2    always exciting with apple hate to reflect on ...\n",
              "3    does sombody know why i can play this video ou...\n",
              "4    in about a decade we ll all be walking around ...\n",
              "5               ill buy an vision pro if i get k likes\n",
              "6                                              so good\n",
              "7    question can you collaborate using apple visio...\n",
              "8    you thumbnail for this video is wrong check ag...\n",
              "9    never saw a review from marquee that sounds so...\n",
              "Name: comments, dtype: object"
            ]
          },
          "metadata": {},
          "execution_count": 17
        }
      ]
    },
    {
      "cell_type": "code",
      "source": [
        "freq_dist_vision_one = nltk.FreqDist(comments_vision_pro_one)"
      ],
      "metadata": {
        "id": "1wyUsbCYYMBf"
      },
      "execution_count": 18,
      "outputs": []
    },
    {
      "cell_type": "code",
      "source": [
        "print(freq_dist_vision_one)"
      ],
      "metadata": {
        "colab": {
          "base_uri": "https://localhost:8080/"
        },
        "id": "KnVmYXEqYMKf",
        "outputId": "ce83a6d9-4cd0-4186-8b7c-6638efd9a8ff"
      },
      "execution_count": 20,
      "outputs": [
        {
          "output_type": "stream",
          "name": "stdout",
          "text": [
            "<FreqDist with 99 samples and 400 outcomes>\n"
          ]
        }
      ]
    },
    {
      "cell_type": "code",
      "source": [
        "freq_dist_vision_one.most_common(10)"
      ],
      "metadata": {
        "colab": {
          "base_uri": "https://localhost:8080/"
        },
        "id": "8X9EuBLkYMRn",
        "outputId": "17347782-7148-4685-d150-ca305a34ef7a"
      },
      "execution_count": 21,
      "outputs": [
        {
          "output_type": "execute_result",
          "data": {
            "text/plain": [
              "[('i always thought this is what google glass was supposed to be years later we got these huge snow goggles',\n",
              "  8),\n",
              " ('am i the only one who is absolutely mortified by this am i the last sane person on earth',\n",
              "  4),\n",
              " ('check the glass trunk from sony i hink it came out on or', 4),\n",
              " ('always exciting with apple hate to reflect on how many apple products we have',\n",
              "  4),\n",
              " ('does sombody know why i can play this video out side of the youtube app without an youtube premium subscription',\n",
              "  4),\n",
              " ('in about a decade we ll all be walking around with a functional and well engineered e d i t h',\n",
              "  4),\n",
              " ('ill buy an vision pro if i get k likes', 4),\n",
              " ('so good', 4),\n",
              " ('question can you collaborate using apple vision pros i am thinking video editor and client like immersive screensharing and they don t have to be in the same room for that',\n",
              "  4),\n",
              " ('you thumbnail for this video is wrong check again apple ad is right', 4)]"
            ]
          },
          "metadata": {},
          "execution_count": 21
        }
      ]
    },
    {
      "cell_type": "code",
      "source": [
        "vision_pro_one_list = list(comments_vision_pro_one)"
      ],
      "metadata": {
        "id": "TVGvVR_mZ8hV"
      },
      "execution_count": 39,
      "outputs": []
    },
    {
      "cell_type": "code",
      "source": [
        "vision_pro_comments_strings = str(vision_pro_comments['comments'])"
      ],
      "metadata": {
        "id": "maPk7jDZfneg"
      },
      "execution_count": 86,
      "outputs": []
    },
    {
      "cell_type": "code",
      "source": [
        "vision_pro_comments_strings"
      ],
      "metadata": {
        "colab": {
          "base_uri": "https://localhost:8080/",
          "height": 87
        },
        "id": "KXcuRSnTguVu",
        "outputId": "6514385b-f8bc-4e39-d2e4-299d9ed9bf2e"
      },
      "execution_count": 87,
      "outputs": [
        {
          "output_type": "execute_result",
          "data": {
            "text/plain": [
              "'0      am i the only one who is absolutely mortified ...\\n1      check the glass trunk from sony i hink it came...\\n2      always exciting with apple hate to reflect on ...\\n3      does sombody know why i can play this video ou...\\n4      in about a decade we ll all be walking around ...\\n                             ...                        \\n395    this nonsense crazy expensive gear from apple ...\\n396    pay per view at home love concert parties damn...\\n397    wanna try it for sure gonna watch that breakdo...\\n398    i returned mine after a couple of days the pri...\\n399    it s risky and its new microssoft holones uhhh...\\nName: comments, Length: 400, dtype: object'"
            ],
            "application/vnd.google.colaboratory.intrinsic+json": {
              "type": "string"
            }
          },
          "metadata": {},
          "execution_count": 87
        }
      ]
    },
    {
      "cell_type": "code",
      "source": [
        "vision_one_tokens = nltk.tokenize.word_tokenize(vision_pro_comments_strings)"
      ],
      "metadata": {
        "id": "ZCqSpdTDgyyW"
      },
      "execution_count": 88,
      "outputs": []
    },
    {
      "cell_type": "code",
      "source": [
        "# vision_one_tokens"
      ],
      "metadata": {
        "id": "QbGnuyBbg7yq"
      },
      "execution_count": 90,
      "outputs": []
    },
    {
      "cell_type": "code",
      "source": [
        "\n",
        "\n",
        "# sites = []\n",
        "\n",
        "# for i in range(0, len(data[:25000])):\n",
        "#   links = re.sub('[^a-zA-Z]', ' ', data['url'][i])\n",
        "#   links = links.lower()\n",
        "#   links = links.split()\n",
        "#   #ps = PorterStemmer()\n",
        "#   #links = [ps.stem(word) for word in links if not word in set(stopwords.words('english'))]\n",
        "#   links = ' '.join(links)\n",
        "#   sites.append(links)"
      ],
      "metadata": {
        "id": "LFyYzALshRIO"
      },
      "execution_count": null,
      "outputs": []
    },
    {
      "cell_type": "code",
      "source": [
        "import re\n",
        "from nltk.corpus import stopwords\n",
        "from nltk.stem.porter import PorterStemmer\n",
        "\n",
        "ps = PorterStemmer()"
      ],
      "metadata": {
        "id": "rDLdsqo7hlC2"
      },
      "execution_count": 93,
      "outputs": []
    },
    {
      "cell_type": "code",
      "source": [
        "clean_vision_one_tokens = [ps.stem(word) for word in vision_one_tokens if word.isalpha() if not word in set(stopwords.words('english'))]"
      ],
      "metadata": {
        "id": "F7Z2gg9chAnx"
      },
      "execution_count": 94,
      "outputs": []
    },
    {
      "cell_type": "code",
      "source": [
        "clean_vision_one_tokens"
      ],
      "metadata": {
        "colab": {
          "base_uri": "https://localhost:8080/"
        },
        "id": "RRXU2THHg75p",
        "outputId": "dbd09cea-5d72-4f8f-8fe8-ecee13d7c87f"
      },
      "execution_count": 95,
      "outputs": [
        {
          "output_type": "execute_result",
          "data": {
            "text/plain": [
              "['one',\n",
              " 'absolut',\n",
              " 'mortifi',\n",
              " 'check',\n",
              " 'glass',\n",
              " 'trunk',\n",
              " 'soni',\n",
              " 'hink',\n",
              " 'came',\n",
              " 'alway',\n",
              " 'excit',\n",
              " 'appl',\n",
              " 'hate',\n",
              " 'reflect',\n",
              " 'sombodi',\n",
              " 'know',\n",
              " 'play',\n",
              " 'video',\n",
              " 'ou',\n",
              " 'decad',\n",
              " 'walk',\n",
              " 'around',\n",
              " 'nonsens',\n",
              " 'crazi',\n",
              " 'expens',\n",
              " 'gear',\n",
              " 'appl',\n",
              " 'pay',\n",
              " 'per',\n",
              " 'view',\n",
              " 'home',\n",
              " 'love',\n",
              " 'concert',\n",
              " 'parti',\n",
              " 'damn',\n",
              " 'wan',\n",
              " 'na',\n",
              " 'tri',\n",
              " 'sure',\n",
              " 'gon',\n",
              " 'na',\n",
              " 'watch',\n",
              " 'breakdo',\n",
              " 'return',\n",
              " 'mine',\n",
              " 'coupl',\n",
              " 'day',\n",
              " 'pri',\n",
              " 'riski',\n",
              " 'new',\n",
              " 'microssoft',\n",
              " 'holon',\n",
              " 'uhhh',\n",
              " 'name',\n",
              " 'comment',\n",
              " 'length',\n",
              " 'dtype',\n",
              " 'object']"
            ]
          },
          "metadata": {},
          "execution_count": 95
        }
      ]
    },
    {
      "cell_type": "code",
      "source": [
        "freq_dist_vision_one_tokens = nltk.FreqDist(clean_vision_one_tokens)"
      ],
      "metadata": {
        "id": "oDpnL55sa7r4"
      },
      "execution_count": 96,
      "outputs": []
    },
    {
      "cell_type": "code",
      "source": [
        "freq_dist_vision_one_tokens.most_common(50)"
      ],
      "metadata": {
        "colab": {
          "base_uri": "https://localhost:8080/"
        },
        "id": "CrUDOvTRewGQ",
        "outputId": "c38fd894-4025-4f8e-f154-225530cbb80c"
      },
      "execution_count": 97,
      "outputs": [
        {
          "output_type": "execute_result",
          "data": {
            "text/plain": [
              "[('appl', 2),\n",
              " ('na', 2),\n",
              " ('one', 1),\n",
              " ('absolut', 1),\n",
              " ('mortifi', 1),\n",
              " ('check', 1),\n",
              " ('glass', 1),\n",
              " ('trunk', 1),\n",
              " ('soni', 1),\n",
              " ('hink', 1),\n",
              " ('came', 1),\n",
              " ('alway', 1),\n",
              " ('excit', 1),\n",
              " ('hate', 1),\n",
              " ('reflect', 1),\n",
              " ('sombodi', 1),\n",
              " ('know', 1),\n",
              " ('play', 1),\n",
              " ('video', 1),\n",
              " ('ou', 1),\n",
              " ('decad', 1),\n",
              " ('walk', 1),\n",
              " ('around', 1),\n",
              " ('nonsens', 1),\n",
              " ('crazi', 1),\n",
              " ('expens', 1),\n",
              " ('gear', 1),\n",
              " ('pay', 1),\n",
              " ('per', 1),\n",
              " ('view', 1),\n",
              " ('home', 1),\n",
              " ('love', 1),\n",
              " ('concert', 1),\n",
              " ('parti', 1),\n",
              " ('damn', 1),\n",
              " ('wan', 1),\n",
              " ('tri', 1),\n",
              " ('sure', 1),\n",
              " ('gon', 1),\n",
              " ('watch', 1),\n",
              " ('breakdo', 1),\n",
              " ('return', 1),\n",
              " ('mine', 1),\n",
              " ('coupl', 1),\n",
              " ('day', 1),\n",
              " ('pri', 1),\n",
              " ('riski', 1),\n",
              " ('new', 1),\n",
              " ('microssoft', 1),\n",
              " ('holon', 1)]"
            ]
          },
          "metadata": {},
          "execution_count": 97
        }
      ]
    },
    {
      "cell_type": "code",
      "source": [
        "freq_dist_vision_one_tokens.plot(40, cumulative=True)"
      ],
      "metadata": {
        "colab": {
          "base_uri": "https://localhost:8080/",
          "height": 512
        },
        "id": "1Qzxqy1be9zO",
        "outputId": "6ea07eff-dfc5-4bfc-9447-3e60ab71fb59"
      },
      "execution_count": 98,
      "outputs": [
        {
          "output_type": "display_data",
          "data": {
            "text/plain": [
              "<Figure size 640x480 with 1 Axes>"
            ],
            "image/png": "[encoded data removed]"
          },
          "metadata": {}
        },
        {
          "output_type": "execute_result",
          "data": {
            "text/plain": [
              "<Axes: xlabel='Samples', ylabel='Cumulative Counts'>"
            ]
          },
          "metadata": {},
          "execution_count": 98
        }
      ]
    },
    {
      "cell_type": "markdown",
      "source": [
        "META QUEST"
      ],
      "metadata": {
        "id": "Y2ek6iII3fOr"
      }
    },
    {
      "cell_type": "code",
      "source": [],
      "metadata": {
        "id": "ipEUdHyb3Vex"
      },
      "execution_count": null,
      "outputs": []
    },
    {
      "cell_type": "code",
      "source": [],
      "metadata": {
        "id": "1jSRu-Qb3Vnh"
      },
      "execution_count": null,
      "outputs": []
    },
    {
      "cell_type": "markdown",
      "source": [
        "PSVR"
      ],
      "metadata": {
        "id": "n1IHxhEE3h8X"
      }
    },
    {
      "cell_type": "code",
      "source": [],
      "metadata": {
        "id": "-TpKx36g3VxB"
      },
      "execution_count": null,
      "outputs": []
    },
    {
      "cell_type": "code",
      "source": [],
      "metadata": {
        "id": "JaKZlD1O3kcu"
      },
      "execution_count": null,
      "outputs": []
    },
    {
      "cell_type": "code",
      "source": [],
      "metadata": {
        "id": "9b-fKXQH3kwl"
      },
      "execution_count": null,
      "outputs": []
    }
  ]
}