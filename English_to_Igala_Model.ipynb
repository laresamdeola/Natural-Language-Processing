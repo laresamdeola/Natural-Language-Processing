{
  "nbformat": 4,
  "nbformat_minor": 0,
  "metadata": {
    "colab": {
      "provenance": [],
      "authorship_tag": "ABX9TyOl3UFaP3AM6b1Cuf1dD38d"
    },
    "kernelspec": {
      "name": "python3",
      "display_name": "Python 3"
    },
    "language_info": {
      "name": "python"
    }
  },
  "cells": [
    {
      "cell_type": "code",
      "execution_count": null,
      "metadata": {
        "id": "oaohxp2e0XrW"
      },
      "outputs": [],
      "source": [
        "import math\n",
        "import pandas as pd\n",
        "import numpy as np\n",
        "from matplotlib import pyplot as plt"
      ]
    },
    {
      "cell_type": "code",
      "source": [
        "data = pd.read_csv('igala_dictionary_0.1.csv')"
      ],
      "metadata": {
        "id": "0cfHNdRE4Ck9"
      },
      "execution_count": null,
      "outputs": []
    },
    {
      "cell_type": "code",
      "source": [
        "data.info()"
      ],
      "metadata": {
        "colab": {
          "base_uri": "https://localhost:8080/"
        },
        "id": "VZBsRxxwfNhy",
        "outputId": "4d5d06db-13b3-4178-9b2c-20545403a0c0"
      },
      "execution_count": null,
      "outputs": [
        {
          "output_type": "stream",
          "name": "stdout",
          "text": [
            "<class 'pandas.core.frame.DataFrame'>\n",
            "RangeIndex: 399 entries, 0 to 398\n",
            "Data columns (total 2 columns):\n",
            " #   Column    Non-Null Count  Dtype \n",
            "---  ------    --------------  ----- \n",
            " 0   Igala     399 non-null    object\n",
            " 1   English   399 non-null    object\n",
            "dtypes: object(2)\n",
            "memory usage: 6.4+ KB\n"
          ]
        }
      ]
    },
    {
      "cell_type": "code",
      "source": [
        "data.columns"
      ],
      "metadata": {
        "colab": {
          "base_uri": "https://localhost:8080/"
        },
        "id": "yQ-Y33meh8KN",
        "outputId": "79db55ab-cab7-4c63-a92c-ddb91756fda7"
      },
      "execution_count": null,
      "outputs": [
        {
          "output_type": "execute_result",
          "data": {
            "text/plain": [
              "Index(['Igala', 'English '], dtype='object')"
            ]
          },
          "metadata": {},
          "execution_count": 144
        }
      ]
    },
    {
      "cell_type": "code",
      "source": [
        "# use apply function to turn all the words to lower case\n",
        "\n",
        "def lower_case_words(word):\n",
        "  return word.strip().lower()\n",
        "\n",
        "def remove_spaces(word):\n",
        "  return word.strip()"
      ],
      "metadata": {
        "id": "4aHJQyQ2lrQY"
      },
      "execution_count": null,
      "outputs": []
    },
    {
      "cell_type": "code",
      "source": [
        "data['English '] = data['English '].apply(lower_case_words)"
      ],
      "metadata": {
        "id": "QnX4Qm4-mKeZ"
      },
      "execution_count": null,
      "outputs": []
    },
    {
      "cell_type": "code",
      "source": [
        "data['Igala'] = data['Igala'].apply(remove_spaces)"
      ],
      "metadata": {
        "id": "7KoZtCRZmqXw"
      },
      "execution_count": null,
      "outputs": []
    },
    {
      "cell_type": "code",
      "source": [
        "data['Igala']"
      ],
      "metadata": {
        "colab": {
          "base_uri": "https://localhost:8080/"
        },
        "id": "S4Dj7e6Q4Csi",
        "outputId": "8e8b22b7-2615-429b-bf95-129b986a7ce8"
      },
      "execution_count": null,
      "outputs": [
        {
          "output_type": "execute_result",
          "data": {
            "text/plain": [
              "0         òkwúta\n",
              "1            ùwẹ\n",
              "2      ọ́nẹkẹ̀lẹ\n",
              "3            gbà\n",
              "4          ébíjè\n",
              "         ...    \n",
              "394        pótóó\n",
              "395        ráīlọ\n",
              "396        ràìlò\n",
              "397           ré\n",
              "398           ré\n",
              "Name: Igala, Length: 399, dtype: object"
            ]
          },
          "metadata": {},
          "execution_count": 148
        }
      ]
    },
    {
      "cell_type": "code",
      "source": [
        "english_to_igala = data.set_index('English ')['Igala'].to_dict()"
      ],
      "metadata": {
        "id": "fgtVC-CQ64nl"
      },
      "execution_count": null,
      "outputs": []
    },
    {
      "cell_type": "code",
      "source": [
        "english_to_igala"
      ],
      "metadata": {
        "colab": {
          "base_uri": "https://localhost:8080/"
        },
        "id": "Gp03mCbOeypa",
        "outputId": "302659b0-4f4a-442c-ac10-c1bf19a3c34b"
      },
      "execution_count": null,
      "outputs": [
        {
          "output_type": "execute_result",
          "data": {
            "text/plain": [
              "{'stone': 'òkwúta',\n",
              " 'you': 'ùwẹ',\n",
              " 'man': 'ọ́nẹkẹ̀lẹ',\n",
              " 'give': 'gbà',\n",
              " 'devil': 'ébíjè',\n",
              " 'we': 'à',\n",
              " 'house': 'únyí',\n",
              " 'fold': 'chẹ́',\n",
              " 'smell': 'lù',\n",
              " 'he': 'Ọnẹkẹlẹ',\n",
              " 'she': 'òñwu',\n",
              " 'it': 'ẹñwù',\n",
              " 'goat': 'éwó',\n",
              " 'sister': 'ọ́maye',\n",
              " 'brother': 'ọ́maye',\n",
              " 'strangers': 'ónonojò',\n",
              " 'visitors': 'ónonojò',\n",
              " 'i': 'òmi',\n",
              " 'steal': 'j’ójí',\n",
              " 'our father': 'Àtá wa',\n",
              " 'young man': 'òkólóbíáà',\n",
              " 'hunger': 'ébi',\n",
              " 'twins': 'èjìmá',\n",
              " 'ankle': 'èkìlì-ẹrẹ̀',\n",
              " 'question': 'ènè',\n",
              " 'hair': 'ílojí',\n",
              " 'hello': 'Agba',\n",
              " 'here': 'èmí',\n",
              " 'there': 'ọ̀mọ́',\n",
              " 'just now': 'fàáfáī',\n",
              " 'immediately': 'ẹ́rẹrẹ̀',\n",
              " 'initially': 'àbaba',\n",
              " 'take': 'du',\n",
              " 'all': 'hieele',\n",
              " 'chief': 'ájọfẹ',\n",
              " 'something': 'ẹ́ñwu',\n",
              " 'blood': 'ẹ̀bìẹ̀',\n",
              " 'stream': 'áji',\n",
              " 'nose': 'nẹpi',\n",
              " 'cheek': 'ìtì',\n",
              " 'pimple': 'úlo',\n",
              " 'fat': 'óyó',\n",
              " 'ditch': 'ọ́gọ́́lọ̄',\n",
              " 'to boast': 'bá',\n",
              " 'crawl': 'fà',\n",
              " 'receive': 'gbà',\n",
              " 'wash': 'gwẹ̀',\n",
              " 'cook': 'hì',\n",
              " 'burn': 'jó',\n",
              " 'say': 'kà',\n",
              " 'divide': 'kpẹ́rú',\n",
              " 'shout': 'kwà',\n",
              " 'see': 'lí',\n",
              " 'rest': 'ñmí',\n",
              " 'own': 'nẹ',\n",
              " 'create': 'nyí',\n",
              " 'drink': 'ñmọ',\n",
              " 'peel': 'ñwá',\n",
              " 'run': 'rá',\n",
              " 'sell': 'tà',\n",
              " 'they': 'mà',\n",
              " 'be': 'abalẹ',\n",
              " 'to': 'ta',\n",
              " 'of': 'óñwù',\n",
              " 'and': 'kpàí',\n",
              " 'a': 'a',\n",
              " 'in': 'nyú',\n",
              " 'that': 'elẹ',\n",
              " 'have': 'enẹ',\n",
              " 'for': 'ñwù',\n",
              " 'not': 'ìche',\n",
              " 'on': 'ójìñwù',\n",
              " 'with': 'kpai',\n",
              " 'as': 'abalẹ',\n",
              " 'do': 'chè',\n",
              " 'at': 'ugbo',\n",
              " 'this': 'eyì',\n",
              " 'joy': 'ùyọ̀',\n",
              " 'time': 'Íkòó',\n",
              " 'white': 'éfufu',\n",
              " 'grass': 'égbé',\n",
              " 'first': 'ejodudu',\n",
              " 'world': 'ile̩.',\n",
              " 'disarray': 'júgwúú',\n",
              " 'empty': 'òfòfo',\n",
              " 'darkness': 'ẹ̀chúbi',\n",
              " 'climax': 'ọ̀lùlù',\n",
              " 'divulge': 'kà dufù',\n",
              " 'happiness': 'ẹ̀dẹ̀bọ́',\n",
              " 'because': 'todú',\n",
              " 'but': 'ámáà',\n",
              " 'must be': 'bàkú',\n",
              " 'unless': 'cháí',\n",
              " 'school': 'ìchèkpúlù',\n",
              " 'even if': 'íchẹ́kà',\n",
              " 'remainder': 'ìchẹ̀kíbọ̀',\n",
              " 'may be': 'dágba',\n",
              " 'to go': 'lè',\n",
              " 'if': 'íchẹñwu',\n",
              " 'if so': 'ídábálẹ̄',\n",
              " 'however': 'múdáà',\n",
              " 'because of': 'nójí',\n",
              " 'corn': 'àákpà',\n",
              " 'will': 'á',\n",
              " 'beside': 'ìbá',\n",
              " 'mind': 'íbe',\n",
              " 'young girl': 'ìgbẹ̀lẹ́',\n",
              " 'sneeze': 'íhia',\n",
              " 'crab': 'íkáakàla',\n",
              " 'perhaps': 'íkáakàla',\n",
              " 'sore': 'íkétè',\n",
              " 'horror': 'íkọ́líkọ́',\n",
              " 'bag': 'ìkpà',\n",
              " 'container': 'íkpágolo',\n",
              " 'hiccup': 'íkpékēè',\n",
              " 'derision': 'íkwẹ́kwẹ́ẹ̀',\n",
              " 'clown': 'ẹ́nẹ ikwẹ́kwẹ́ẹ̀',\n",
              " 'mistake': 'ìlá',\n",
              " 'bell': 'ílo',\n",
              " 'foreigner': 'ìlówáà',\n",
              " 'child': 'ímọtọ',\n",
              " 'mosquito': 'ímú',\n",
              " 'insult': 'ínáà',\n",
              " 'dawn': 'ìnajọ́',\n",
              " 'tax': 'ínéè',\n",
              " 'pillow': 'ípílò',\n",
              " 'table': 'ítébùlù',\n",
              " 'ocean': 'ìtékwú',\n",
              " 'tray': 'ítélénì',\n",
              " 'teacher': 'ítíchà',\n",
              " 'wire': 'íwáyáà',\n",
              " 'joke': 'íyáà',\n",
              " 'mother': 'iye',\n",
              " 'grate': 'já',\n",
              " 'fight': 'já',\n",
              " 'vote': 'jàbe',\n",
              " 'cut': 'kọdá',\n",
              " 'untidy': 'jágajàga',\n",
              " 'very': 'jàjà',\n",
              " 'obviously': 'jálíí',\n",
              " 'collide': 'jámù',\n",
              " 'assemble': 'já-tō',\n",
              " 'agree': 'jẹ́',\n",
              " 'far away': 'jijì',\n",
              " 'touch': 'kàdó',\n",
              " 'profusely': 'kàtàà',\n",
              " 'which': 'kálí',\n",
              " 'only': 'katé',\n",
              " 'proud': 'ké',\n",
              " 'why': 'kéee',\n",
              " 'small': 'kékélé',\n",
              " 'push': 'kẹ̀chẹ̀',\n",
              " 'trust': 'kẹ́dọ̀nó',\n",
              " 'meet': 'kẹrẹ̀bọ́',\n",
              " 'heal': 'kò',\n",
              " 'please': 'kócho',\n",
              " 'replace': 'kojí',\n",
              " 'anxiously': 'kòjòkòjò',\n",
              " 'mock': 'kórú',\n",
              " 'write': 'kọ',\n",
              " 'learn': 'kọ́chẹ̄',\n",
              " 'place': 'kọ̀fídá',\n",
              " 'stiff': 'kọ́kwúú',\n",
              " 'who': 'kù',\n",
              " 'kill': 'kpa',\n",
              " 'ripe': 'kpá',\n",
              " 'grind': 'kpajá',\n",
              " 'grip': 'kpákányú',\n",
              " 'jump': 'kpákóló',\n",
              " 'exactly': 'kpàkpà',\n",
              " 'quickly': 'kpákpálá',\n",
              " 'hard': 'kpakpalakpaa',\n",
              " 'tidy': 'kpamá',\n",
              " 'quench': 'lu',\n",
              " 'tear': 'kpanà',\n",
              " 'gather': 'ñọ́',\n",
              " 'share': 'kpẹ́',\n",
              " 'smallish': 'kpẹ́chíí',\n",
              " 'cruel': 'kpẹ́dọ̀',\n",
              " 'always': 'kpẹ́lẹ́kẹ́',\n",
              " 'smear': 'kpìyá',\n",
              " 'smoky': 'kpódudu',\n",
              " 'conclude': 'kpojí',\n",
              " 'sedate': 'kpolu',\n",
              " 'loudly': 'kwàá',\n",
              " 'rule': \"ej'ọfẹ\",\n",
              " 'reign': 'Ejónù',\n",
              " 'cheap': 'kpọ̀',\n",
              " 'heavy': 'kpọhiọọ',\n",
              " 'much': 'kpọ̀ọ̀',\n",
              " 'thick': 'kpọ́tii',\n",
              " 'short': 'kpùkẹ̀ẹ̀',\n",
              " 'hot': 'kpúná',\n",
              " 'warm': 'ógwu',\n",
              " 'cry': 'kwà',\n",
              " 'deduct': 'kwóò',\n",
              " 'die': 'kwú',\n",
              " 'slaughter': 'kwu',\n",
              " 'stammer': 'kwúlọ̄',\n",
              " 'buy': 'là',\n",
              " 'astray': 'lá',\n",
              " 'pass': 'làáléè',\n",
              " 'grumble': 'láñwúù',\n",
              " 'paste': 'lamọ́',\n",
              " 'overtake': 'lè gwúdu',\n",
              " 'somehow': 'le',\n",
              " 'will die': 'lèkwú',\n",
              " 'come': 'lìá',\n",
              " 'is': 'lẹ',\n",
              " 'clean': 'li',\n",
              " 'punch': 'lì',\n",
              " 'pull': 'lìààà',\n",
              " 'muscular': 'lìchà-lìchà',\n",
              " 'crush': 'liẹ',\n",
              " 'envious': 'líẹ́na',\n",
              " 'fully': 'lìkìlìkì',\n",
              " 'big': 'lòtòò',\n",
              " 'enormous': 'lotoo',\n",
              " 'chew': 'lọ́',\n",
              " 'raining': 'Ómi álọ̀',\n",
              " 'water': 'òmì',\n",
              " 'them': 'má',\n",
              " 'never': 'má',\n",
              " 'their': 'ma',\n",
              " 'hide': 'májáà',\n",
              " 'to end': 'mẹmù',\n",
              " 'my': 'mi',\n",
              " 'swallow': 'mì',\n",
              " 'suck': 'miẹ',\n",
              " 'round': 'mòmòlò',\n",
              " 'kind': 'mọ̀là',\n",
              " 'stop': 'mú',\n",
              " 'myself': 'nà',\n",
              " 'rant': 'na',\n",
              " 'continue': 'náa',\n",
              " 'ban': 'nábáà',\n",
              " 'unfold': 'nàdàlà',\n",
              " 'hurry': 'najú',\n",
              " 'increase': 'nawo',\n",
              " 'believe': 'néjú',\n",
              " 'can': 'neke',\n",
              " 'able': 'neke',\n",
              " 'listen': 'nétí',\n",
              " 'carry': 'nẹ́',\n",
              " 'break': 'nẹ̀',\n",
              " 'to ask after': 'nítēlē',\n",
              " 'expel': 'nó',\n",
              " 'play': 'nù',\n",
              " 'beautiful': 'nyọ̀',\n",
              " 'progress': 'nyọ́gbá',\n",
              " 'deform': 'nyọ́lọ́',\n",
              " 'into': 'nyú',\n",
              " 'inside': 'nyú',\n",
              " 'catch': 'ọ̀bàlà',\n",
              " 'firmly': 'ñàà',\n",
              " 'fiercely': 'ñòóñō',\n",
              " 'settle': 'ñọ́rú',\n",
              " 'particle': 'ñmé',\n",
              " 'breathe': 'ñmíñmi',\n",
              " 'fall': 'ñwá',\n",
              " 'measure': 'ñwà',\n",
              " 'itch': 'ñwọ́',\n",
              " 'slippery': 'ñwọ̀',\n",
              " 'business': 'òbé',\n",
              " 'speed': 'òbébè',\n",
              " 'ostrich': 'òbìjimu',\n",
              " 'soup': 'óbó',\n",
              " 'stupid': 'òbògo',\n",
              " 'doctor': 'òbóchí ẹnẹfu',\n",
              " 'he-goat': 'òbúkọ',\n",
              " 'rice': 'òchìkapa',\n",
              " 'witch': 'óchú',\n",
              " 'wizard': 'óchú',\n",
              " 'dizzy': 'òchúchù',\n",
              " 'moon': 'óchúù',\n",
              " 'salary': 'ọ́kọ́ ochù',\n",
              " 'vulture': 'òdènè',\n",
              " 'flower': 'òdòdó',\n",
              " 'morning': 'òdùdu',\n",
              " 'green': 'òdùfa',\n",
              " 'soon after': 'òféfē',\n",
              " 'recently': 'òfeje-í',\n",
              " 'zero': 'òfòfo',\n",
              " 'destruction': 'òfù',\n",
              " 'loss': 'òfù',\n",
              " 'eternally': 'ògbégbéílẹ̀',\n",
              " 'lizard': 'ògbèlè',\n",
              " 'remarkable': 'ògbémè',\n",
              " 'old age': 'ógbó',\n",
              " 'neatness': 'ògémi',\n",
              " 'elegance': 'ògénéba',\n",
              " 'elder': 'ògijo',\n",
              " 'senior': 'ògijo',\n",
              " 'expert': 'ògwòni',\n",
              " 'medicine': 'ógwù',\n",
              " 'inheritance': 'ógwú',\n",
              " 'illiterate': 'ògwùchẹ́kwọ̀',\n",
              " 'owl': 'ògwùgwù',\n",
              " 'reply': 'òhì',\n",
              " 'trash': 'ójétà',\n",
              " 'shoulder': 'ójíká',\n",
              " 'statue': 'òjìbó',\n",
              " 'good luck': 'ójíle',\n",
              " 'respect': 'òjima',\n",
              " 'honour': 'òjima',\n",
              " 'grave': 'ójínójíì',\n",
              " 'gift': 'ójóò',\n",
              " 'hill': 'ójúwó',\n",
              " 'glass': 'òjúgò',\n",
              " 'secret': 'òjùjù',\n",
              " 'bush': 'óko',\n",
              " 'boy': 'òkólóbíáà',\n",
              " 'ram': 'òkólo',\n",
              " 'parrot': 'ókóò',\n",
              " 'fear': 'ràìlò',\n",
              " 'afraid': \"ch'òkpò\",\n",
              " 'friend': 'ókwu',\n",
              " 'cow': 'ókwunọ',\n",
              " 'trap': 'ókwúù',\n",
              " 'flute': 'òlílí',\n",
              " 'needle': 'òlíye',\n",
              " 'sleep': 'ólu',\n",
              " 'sun': 'ólù',\n",
              " 'shade': 'òlùbọ́',\n",
              " 'thirst': 'òlùgbẹ',\n",
              " 'dialogue': 'òlùka',\n",
              " 'uncle': 'òményī',\n",
              " 'salt': 'ómu',\n",
              " 'person': 'ónẹ̀',\n",
              " 'woman': 'ónobùlẹ',\n",
              " 'king': 'ónú',\n",
              " 'message': 'ónúchẹ́',\n",
              " 'him': 'òñwu',\n",
              " 'her': 'òñwu',\n",
              " 'finally': 'òtítálá',\n",
              " 'last': 'òtítálá',\n",
              " 'suffer': 'ọ̀bàta',\n",
              " 'knife': 'ọ̀bẹ',\n",
              " 'law': 'ọ̀daala',\n",
              " 'wall': 'ọ̀dọ̀',\n",
              " 'out': 'ọ́dọ́da',\n",
              " 'tall': 'ọ́ga',\n",
              " 'winner': 'ọ̀gà',\n",
              " 'truth': 'ọ̀gẹ̀cha',\n",
              " 'husband': 'ọ́kọ',\n",
              " 'dream': 'Ọ́na',\n",
              " 'path': 'ọ̀ọ́nà',\n",
              " 'road': 'ọ̀ọ́nà',\n",
              " 'book': 'ọ̀tákáda',\n",
              " 'brilliant': 'm’ọ̀tákáda',\n",
              " 'currency': 'ọ́kọ́-ọ́tākāda',\n",
              " 'broom': 'ọ́wọ́ọ̀',\n",
              " 'wife': 'ọ́yáà',\n",
              " 'widow': 'ọ́yá ukwú ọkọ',\n",
              " 'queen': 'ọ́yonū',\n",
              " 'surely': 'píọ́ọ́',\n",
              " 'wide': 'pótóó',\n",
              " 'hate': 'ráīlọ',\n",
              " 'shut': 'ré',\n",
              " 'close': 'ré'}"
            ]
          },
          "metadata": {},
          "execution_count": 150
        }
      ]
    },
    {
      "cell_type": "markdown",
      "source": [
        "Diacritic Marks"
      ],
      "metadata": {
        "id": "atu7rH8PI11W"
      }
    },
    {
      "cell_type": "code",
      "source": [
        "accent_grave_left_a = 'à'\n",
        "accent_grave_left_e = 'è'\n",
        "accent_grave_left_i = 'ì'\n",
        "accent_grave_left_o = 'ò'\n",
        "accent_grave_left_u = 'ù'\n",
        "\n",
        "accent_grave_right_a = 'á'\n",
        "accent_grave_right_e = 'é'\n",
        "accent_grave_right_i = 'í'\n",
        "accent_grave_right_o = 'ó'\n",
        "accent_grave_right_u = 'ú'"
      ],
      "metadata": {
        "id": "iOuf6JfdI1Av"
      },
      "execution_count": null,
      "outputs": []
    },
    {
      "cell_type": "code",
      "source": [
        "# english_to_igala = {\n",
        "#     'stone': 'òkwúta',\n",
        "#     'young': 'òkólóbíáà',\n",
        "#     'you': 'ùwẹ',\n",
        "#     'man': 'ọ́nẹkẹ̀lẹ',\n",
        "#     'men': 'àbókẹ́lẹ',\n",
        "#     'give': 'gbà',\n",
        "#     'devil': 'ébíjè',\n",
        "#     'we': 'àwa',\n",
        "#     'house': 'únyí',\n",
        "#     'fold': 'chẹ́',\n",
        "#     'woman': 'ónobule',\n",
        "#     'women': 'àbóbúlẹ',\n",
        "#     'he': 'òñwu,',\n",
        "#     'she': 'òñwu,',\n",
        "#     'it': 'òñwu,',\n",
        "#     'goat': 'éwó',\n",
        "#     'goats': 'àmewó',\n",
        "#     'brother': 'ọ́maye',\n",
        "#     'brothers': 'àmọmaye',\n",
        "#     'sister': 'ọ́maye',\n",
        "#     'sisters': 'àmọmaye',\n",
        "#     'visitor': 'ónonojò',\n",
        "#     'visitors': 'àmononojò',\n",
        "#     'stranger': 'ónonojò',\n",
        "#     'strangers': 'àmononojò',\n",
        "#     'i': 'òmi',\n",
        "#     'steal': 'j’ójí',\n",
        "#     'our': 'wa',\n",
        "#     'father': 'Àtá',\n",
        "#     'young men': 'àbókōlōbīāà',\n",
        "#     'one': f'{accent_grave_left_o}{accent_grave_right_o}k{accent_grave_left_a}',\n",
        "#     'two': f'{accent_grave_left_e}ji',\n",
        "#     'three': f'{accent_grave_left_e}ta',\n",
        "#     'four': f'{accent_grave_left_e}l{accent_grave_left_e}',\n",
        "#     'five': f'{accent_grave_left_e}lu',\n",
        "#     'six': f'{accent_grave_left_e}f{accent_grave_left_a}',\n",
        "#     'seven': 'ebye',\n",
        "#     'eight': f'{accent_grave_left_e}jo',\n",
        "#     'nine': f'{accent_grave_left_e}l{accent_grave_right_a}',\n",
        "#     'ten': f'{accent_grave_left_e}gw{accent_grave_right_a}',\n",
        "#     'father': f'at{accent_grave_right_a}',\n",
        "#     'mother': 'iye',\n",
        "#     'child': f'{accent_grave_right_o}ma',\n",
        "#     'son': f'{accent_grave_right_o}mami',\n",
        "#     'daughter': f'{accent_grave_right_o}mami',\n",
        "#     'daughters': f'{accent_grave_right_o}mami',\n",
        "#     'grandfather': f'{accent_grave_left_o}kw{accent_grave_right_o}mi',\n",
        "#     'grandmother': f'{accent_grave_left_o}kw{accent_grave_right_o}mi',\n",
        "#     'son-in-law': 'ana',\n",
        "#     'soninlaw': 'ana',\n",
        "#     'face': f'{accent_grave_right_e}j{accent_grave_right_u}',\n",
        "#     'skull': f'{accent_grave_right_a}kokoloji',\n",
        "#     'brains': f'{accent_grave_right_o}k{accent_grave_left_o}t{accent_grave_left_o}',\n",
        "#     'head': f'{accent_grave_right_o}ji',\n",
        "#     'hair': 'iloji',\n",
        "#     'nose': f'im{accent_grave_right_o}',\n",
        "#     'ear': f'{accent_grave_right_e}ti',\n",
        "#     'eye': f'{accent_grave_right_e}j{accent_grave_right_u}',\n",
        "#     'cheek': 'iti',\n",
        "#     'beard': f'{accent_grave_right_i}lagb{accent_grave_left_a}',\n",
        "#     'chin': f'{accent_grave_left_a}gb{accent_grave_left_a}',\n",
        "#     'jaw': f'{accent_grave_left_a}gb{accent_grave_left_a}',\n",
        "#     'mouth': f'{accent_grave_right_a}lu',\n",
        "#     'lip': f'ukp{accent_grave_right_a}lu',\n",
        "#     'tongue': f'{accent_grave_right_i}m{accent_grave_right_a}lu',\n",
        "#     'tooth': f'{accent_grave_right_e}ny{accent_grave_right_i}',\n",
        "#     'neck': f'{accent_grave_right_o}fa',\n",
        "#     'nape': f'{accent_grave_left_u}b{accent_grave_left_i}{accent_grave_left_o}fa',\n",
        "#     'throat': f'{accent_grave_right_o}m{accent_grave_left_u}',\n",
        "#     'chest': f'{accent_grave_left_e}d{accent_grave_left_o}',\n",
        "#     'breast': f'{accent_grave_left_e}ny{accent_grave_left_a}',\n",
        "#     'hand': f'{accent_grave_right_o}w{accent_grave_right_o}',\n",
        "#     'arm': f'{accent_grave_right_o}l{accent_grave_right_i} {accent_grave_right_o}w{accent_grave_right_o}',\n",
        "#     'finger nail': f'{accent_grave_left_a}ny{accent_grave_right_i}g{accent_grave_right_a}',\n",
        "#     'nail': 'ale',\n",
        "#     'elbow': '',\n",
        "#     'shoulder': '',\n",
        "#     'armpit': '',\n",
        "#     'finger': '',\n",
        "#     'back': '',\n",
        "#     'heart': '',\n",
        "#     'belly': '',\n",
        "#     'liver': '',\n",
        "#     'kidney': '',\n",
        "#     'guts': '',\n",
        "#     'leg': '',\n",
        "#     'heel': '',\n",
        "#     'knee': '',\n",
        "#     'toes': '',\n",
        "#     'foot': '',\n",
        "#     'ribs': '',\n",
        "#     'lungs': '',\n",
        "#     'buttocks': '',\n",
        "#     'anus': '',\n",
        "#     'penis': '',\n",
        "#     'vagina': '',\n",
        "#     'testicles': '',\n",
        "#     'thigh': '',\n",
        "#     'hips': '',\n",
        "#     'navel': '',\n",
        "#     'body': '',\n",
        "#     'skin': '',\n",
        "#     'hair': '',\n",
        "#     'blood': ''\n",
        "# }\n",
        "\n",
        "igala_to_english = { v : k for k, v in english_to_igala.items() }"
      ],
      "metadata": {
        "id": "hrKGkwE90l_y"
      },
      "execution_count": null,
      "outputs": []
    },
    {
      "cell_type": "code",
      "source": [
        "# 1. Finish the 100 dictionary words - i'm here\n",
        "# 2. Loop through the dictionary and create two different lists - english words and igala translate_igala_to_english - done\n",
        "# 3. Put these two lists in a Pandas Dataframe - done\n",
        "# 4. Save the Pandas Dataframe as a .csv - also done\n",
        "# 5. Use the .csv moving forward\n",
        "\n",
        "\n",
        "# Solution to above\n",
        "\n",
        "# english_words = [(key) for key, value in english_to_igala.items()]\n",
        "# igala_words = [(value) for key, value in english_to_igala.items()]\n",
        "\n",
        "# igala_translation = {\n",
        "#     'english words': english_words,\n",
        "#     'igala translation': igala_words\n",
        "# }\n",
        "\n",
        "# igala_translation_df = pd.DataFrame(igala_translation)"
      ],
      "metadata": {
        "id": "8cjwlqdkVNIF"
      },
      "execution_count": null,
      "outputs": []
    },
    {
      "cell_type": "code",
      "source": [
        "# igala_csv = igala_translation_df.to_csv('igala_csv_1.csv')"
      ],
      "metadata": {
        "id": "gA3n9PBOwiXO"
      },
      "execution_count": null,
      "outputs": []
    },
    {
      "cell_type": "code",
      "source": [
        "len(english_to_igala)"
      ],
      "metadata": {
        "colab": {
          "base_uri": "https://localhost:8080/"
        },
        "id": "KYtmvN0CGg2p",
        "outputId": "059165d2-5d00-4618-d2c8-99f23e0137f3"
      },
      "execution_count": null,
      "outputs": [
        {
          "output_type": "execute_result",
          "data": {
            "text/plain": [
              "360"
            ]
          },
          "metadata": {},
          "execution_count": 155
        }
      ]
    },
    {
      "cell_type": "code",
      "source": [
        "def translate(text, dictionary):\n",
        "    words = text.lower().split()\n",
        "    print(words)\n",
        "    translated_words = [dictionary.get(word, word) for word in words]\n",
        "    return ' '.join(translated_words)\n",
        "\n",
        "def translate_english_to_igala(text):\n",
        "    return translate(text, english_to_igala)\n",
        "\n",
        "def translate_igala_to_english(text):\n",
        "    return translate(text, igala_to_english)\n"
      ],
      "metadata": {
        "id": "QNsZEVnStBdv"
      },
      "execution_count": null,
      "outputs": []
    },
    {
      "cell_type": "code",
      "source": [
        "# def translate(text, dictionary):\n",
        "#     words = text.lower().split()\n",
        "#     print(words)\n",
        "#     translated_words = [dictionary.get(tuple(words[word:]), ' '.join(words[word:])) for word in range(len(words))]\n",
        "#     print(translated_words)\n",
        "#     # if len(words) == 2:\n",
        "#     #   translated_words = translated_words[0]\n",
        "#     #   return ''.join(translated_words)\n",
        "#     return ' '.join(translated_words)\n",
        "\n",
        "# def translate_english_to_igala(text):\n",
        "#     return translate(text, english_to_igala)\n",
        "\n",
        "# def translate_igala_to_english(text):\n",
        "#     return translate(text, igala_to_english)"
      ],
      "metadata": {
        "id": "wYd6jM2r1qq6"
      },
      "execution_count": null,
      "outputs": []
    },
    {
      "cell_type": "code",
      "source": [
        "english_text = \"children played in the yard\"\n",
        "translated_text = translate_english_to_igala(english_text)\n",
        "print(\"English to Igala:\", translated_text)"
      ],
      "metadata": {
        "colab": {
          "base_uri": "https://localhost:8080/"
        },
        "id": "SkDwjlpvBBzo",
        "outputId": "885ccc51-5dee-4cd5-dc7c-ffdf18dd175b"
      },
      "execution_count": null,
      "outputs": [
        {
          "output_type": "stream",
          "name": "stdout",
          "text": [
            "['children', 'played', 'in', 'the', 'yard']\n",
            "English to Igala: children played nyú the yard\n"
          ]
        }
      ]
    },
    {
      "cell_type": "code",
      "source": [
        "igala_text = \"òményī kpákóló over the rock\"\n",
        "translated_text = translate_igala_to_english(igala_text)\n",
        "print(\"Igala to English:\", translated_text)"
      ],
      "metadata": {
        "colab": {
          "base_uri": "https://localhost:8080/"
        },
        "id": "inUq-kI4tjlQ",
        "outputId": "5daab285-f753-4acf-e2d3-fbbcd9979e07"
      },
      "execution_count": null,
      "outputs": [
        {
          "output_type": "stream",
          "name": "stdout",
          "text": [
            "['òményī', 'kpákóló', 'over', 'the', 'rock']\n",
            "Igala to English: uncle jump over the rock\n"
          ]
        }
      ]
    }
  ]
}