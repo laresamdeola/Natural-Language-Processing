{
  "nbformat": 4,
  "nbformat_minor": 0,
  "metadata": {
    "colab": {
      "provenance": [],
      "authorship_tag": "ABX9TyNl02frZ/JmVuJrEOslVs3O",
      "include_colab_link": true
    },
    "kernelspec": {
      "name": "python3",
      "display_name": "Python 3"
    },
    "language_info": {
      "name": "python"
    }
  },
  "cells": [
    {
      "cell_type": "markdown",
      "metadata": {
        "id": "view-in-github",
        "colab_type": "text"
      },
      "source": [
        "<a href=\"https://colab.research.google.com/github/laresamdeola/Natural-Language-Processing/blob/main/NLP_Malware_Research.ipynb\" target=\"_parent\"><img src=\"https://colab.research.google.com/assets/colab-badge.svg\" alt=\"Open In Colab\"/></a>"
      ]
    },
    {
      "cell_type": "code",
      "execution_count": 3,
      "metadata": {
        "id": "cJm0edjPzD_P"
      },
      "outputs": [],
      "source": [
        "import numpy as np\n",
        "import pandas as pd\n",
        "import matplotlib.pyplot as plt\n",
        "import nltk"
      ]
    },
    {
      "cell_type": "code",
      "source": [
        "data = pd.read_csv('malicious_phish.csv')"
      ],
      "metadata": {
        "id": "m51jG5GezPNP"
      },
      "execution_count": 4,
      "outputs": []
    },
    {
      "cell_type": "code",
      "source": [
        "type(data)"
      ],
      "metadata": {
        "colab": {
          "base_uri": "https://localhost:8080/"
        },
        "id": "UsbeiiORGVJn",
        "outputId": "b9603cd6-fdfa-4e71-a831-94abf867cd48"
      },
      "execution_count": 5,
      "outputs": [
        {
          "output_type": "execute_result",
          "data": {
            "text/plain": [
              "pandas.core.frame.DataFrame"
            ]
          },
          "metadata": {},
          "execution_count": 5
        }
      ]
    },
    {
      "cell_type": "code",
      "source": [
        "import re\n",
        "nltk.download('stopwords')\n",
        "from nltk.corpus import stopwords\n",
        "from nltk.stem.porter import PorterStemmer\n",
        "\n",
        "sites = []\n",
        "\n",
        "for i in range(0, len(data[:32500])):\n",
        "  links = re.sub('[^a-zA-Z]', ' ', data['url'][i])\n",
        "  links = links.lower()\n",
        "  links = links.split()\n",
        "  ps = PorterStemmer()\n",
        "  links = [ps.stem(word) for word in links if not word in set(stopwords.words('english'))]\n",
        "  links = ' '.join(links)\n",
        "  sites.append(links)"
      ],
      "metadata": {
        "colab": {
          "base_uri": "https://localhost:8080/"
        },
        "id": "ndpOxQGfzWCK",
        "outputId": "f0c35cf6-6dba-4c06-c625-0baa682b5d4f"
      },
      "execution_count": 6,
      "outputs": [
        {
          "output_type": "stream",
          "name": "stderr",
          "text": [
            "[nltk_data] Downloading package stopwords to /root/nltk_data...\n",
            "[nltk_data]   Unzipping corpora/stopwords.zip.\n"
          ]
        }
      ]
    },
    {
      "cell_type": "code",
      "source": [
        "print(sites[:100])"
      ],
      "metadata": {
        "colab": {
          "base_uri": "https://localhost:8080/"
        },
        "id": "0Dg_tMn--SGa",
        "outputId": "fd09c13c-1ca5-495f-8ed9-f7c9a5a54561"
      },
      "execution_count": 7,
      "outputs": [
        {
          "output_type": "stream",
          "name": "stdout",
          "text": [
            "['br icloud com br', 'mp raid com music krizz kaliko html', 'bopsecret org rexroth cr htm', 'http www garag pirenn index php option com content view articl id vsig', 'http adventur nicaragua net index php option com mailto tmpl compon link ahr cdovl fkdmvudhvyz uawnhcmfndweubmv l luzgv lnbocd vchrpb tx nvbnrlbnqmdmlldz hcnrpi xljmlkptq omfib v jmnhdglkptm omrlbw tyxj awnszxmmsxrlbwlkptu', 'http buzzfil net show art il etaient loin de imagin que le hibou allait fair ceci quand il filmaient html', 'espn go com nba player id brandon rush', 'yourbittorr com q anthoni hamilton soulif', 'http www pashminaonlin com pure pashmina', 'allmus com album crazi heat r', 'corporationwiki com ohio columbu frank benson p aspx', 'http www ikenmijnkunst nl index php expos expos', 'myspac com video vid', 'http www lebensmittel ueberwachung de index php aktuel', 'http www szabadmunkaero hu cimold html start', 'http larcadelcarneval com catalogo palloncini', 'quickfact censu gov qfd map iowa map html', 'nugget ca articledisplay aspx archiv true e', 'uk linkedin com pub steve rubenstein', 'http www vnic co khach hang html', 'basebal refer com player h harrig shtml', 'signin ebi de zukruygxctzmmqi civpro co za', 'com atoz peopl oakley patrick', 'nytim com style cut oh brazen raucou gloriou hibiscu html', 'escholarship org uc item xt c', 'songfact com detail php id', 'casamanana org educ blba', 'http hollywoodlif com rihanna iheartradio music award dress pic', 'http www marketingbyinternet com mo e df f ce c ee fcd ba', 'en wikipedia org wiki north dakota', 'soap sheknow com daysofourl news id day live cast ruta lee', 'perfectpeopl net celebr star gidget gein htm', 'media caltech edu press releas', 'wikiobit com obit tonyproudfoot', 'vanderbilt rival com viewcoach asp coach sport year', 'http peluqueriadeautor com index php option com virtuemart page shop brows categori id itemid', 'movi yahoo com shop hv cf info id', 'cyndislist com us pa counti', 'http www com app member sportopt php uid guest langx gb', 'http www raci compon user reset html', 'http doc googl com spreadsheet viewform formkey dgg z lcuhlsdjlltvnruw tfizsk mq', 'psycholog wikia com wiki phonem', 'info centriq com content fivereason', 'articl baltimoresun com sport jame koehler texa ranger terrel loweri', 'infinitysw com', 'strawberrycreekgarden com', 'http earth sure com industri tech everlast impact resist dumpster enclosur', 'spoke com dir p desanti nick', 'wordsmith org word pignu html', 'http interpark com displaycorn freemarket method itemcatelist free pc free free item disp', 'http www newtec ac uk cours health social care level diploma health social care html', 'http www kingsmillshotel com spring mother day', 'almanac logo com denomin', 'game wikia com wiki backbreak video game', 'ceu hu', 'registri weddingchannel com coupledir c r jare clough tajai ritchi htm', 'linkedin com pub georg cleveland', 'sunshinemil com', 'agoda com north america canada montreal qc attract hotel near mcgill univers centr continu educ html', 'ctv ca gener webspeci sponsorship scandal', 'http www approvi com br ck htm', 'http www shaborooz ir index php view articl catid id tmpl compon print layout default page option com content itemid', 'veoox com tag game html', 'chuckwalkertrio blogspot com', 'aerosolessho org', 'http www juventudelirica com br index html', 'http www myenrg com southwest texa', 'recipelink com msgbrd board dec html', 'http www musimagen com lista socio php letra', 'idea repec org f pma html', 'peopleaz org firstnam fowlk', 'orensamtraktrip wordpress com', 'retajconsult com', 'alexa com whatshot q jame ar', 'jpopasia com group arashi discographi', 'kitsapsun com photo feb', 'local yahoo com info oakland intern airport oakland', 'tripadvisor com restaur review g review yacha yacha miyakojima okinawa prefectur kyushu okinawa html', 'articl eliteft com articl train articl five great exercis build domin defens lineman', 'broadwaystar com classic sourc www playbil com', 'http www pn wuppert de link linkseit httpwwwkrebshilfed', 'forum networkinfrastructur info motorola wireless lan switch', 'youtub com watch v mwpopq spju', 'mccall idchamb org', 'chacha com question said quot say mean c mean say put beat', 'friar com sport baskbl archiv prov baskbl html', 'http asociacionkaribu org index php servicio centro jambo', 'http www martin busker de administr help en gb css factur c ebc e fa dab edb b b eae particuli php', 'pipl com directori name whissel', 'spokeo com john collet', 'http www parafiapiaski pl index php option com user view remind', 'http fanpag gr famili gineka ce b cf cf ce bf ce af ce b ce af ce bd ce b ce b ce bf ce b cf cf ce b ce b cf c cf ce b cf ce bf ce b ce ad ce bb ce bb ce b ce bd ce b cf ce b ce bd', 'faq org copyright handbook individu group cultur free', 'duckduckgo com c roman cathol cathedr canada', 'alexpay beget tech', 'http worldoftank ru ru content guid payment instruct mobil payment rostelekom ural utel', 'http www artedesignsa catalogo html page shop brows categori id', 'en wikipedia org wiki lloyd bacon', 'http serverfault com question squid transpar http certif error ssl error bad cert domain', 'http www viamanau com br index php option com wrapper view wrapper itemid']\n"
          ]
        }
      ]
    },
    {
      "cell_type": "code",
      "source": [
        "sites_half = sites[:32500]"
      ],
      "metadata": {
        "id": "uQc6M4xQ_o-T"
      },
      "execution_count": 8,
      "outputs": []
    },
    {
      "cell_type": "code",
      "source": [
        "len(sites)"
      ],
      "metadata": {
        "colab": {
          "base_uri": "https://localhost:8080/"
        },
        "id": "4VfyDy6B-wfa",
        "outputId": "81840078-ea65-40db-e484-c640bf4387cf"
      },
      "execution_count": 9,
      "outputs": [
        {
          "output_type": "execute_result",
          "data": {
            "text/plain": [
              "32500"
            ]
          },
          "metadata": {},
          "execution_count": 9
        }
      ]
    },
    {
      "cell_type": "code",
      "source": [
        "print(data.type)"
      ],
      "metadata": {
        "colab": {
          "base_uri": "https://localhost:8080/"
        },
        "id": "U1BgFrtDF3rf",
        "outputId": "09cb24ec-6532-4401-ddc3-0810389f6800"
      },
      "execution_count": 10,
      "outputs": [
        {
          "output_type": "stream",
          "name": "stdout",
          "text": [
            "0           phishing\n",
            "1             benign\n",
            "2             benign\n",
            "3         defacement\n",
            "4         defacement\n",
            "             ...    \n",
            "651186      phishing\n",
            "651187      phishing\n",
            "651188      phishing\n",
            "651189      phishing\n",
            "651190      phishing\n",
            "Name: type, Length: 651191, dtype: object\n"
          ]
        }
      ]
    },
    {
      "cell_type": "code",
      "source": [
        "from sklearn.feature_extraction.text import CountVectorizer\n",
        "cv = CountVectorizer()\n",
        "X = cv.fit_transform(sites).toarray()\n",
        "y = data.iloc[:32500, -1].values"
      ],
      "metadata": {
        "id": "pEVKfyud-c1m"
      },
      "execution_count": 11,
      "outputs": []
    },
    {
      "cell_type": "code",
      "source": [
        "from sklearn.model_selection import train_test_split\n",
        "X_train, X_test, y_train, y_test = train_test_split(X, y, test_size=0.2, random_state=0)"
      ],
      "metadata": {
        "id": "do94Rq-v_ExH"
      },
      "execution_count": 12,
      "outputs": []
    },
    {
      "cell_type": "code",
      "source": [
        "from sklearn.naive_bayes import GaussianNB\n",
        "nb_classifier = GaussianNB()\n",
        "nb_classifier.fit(X_train, y_train)"
      ],
      "metadata": {
        "id": "VLz_YlK3HHh9"
      },
      "execution_count": null,
      "outputs": []
    },
    {
      "cell_type": "code",
      "source": [
        "y_pred = nb_classifier.predict(X_test)"
      ],
      "metadata": {
        "id": "ub-YoOZvHTPL"
      },
      "execution_count": null,
      "outputs": []
    },
    {
      "cell_type": "code",
      "source": [
        "from sklearn.metrics import confusion_matrix, accuracy_score\n",
        "cm = confusion_matrix(y_test, y_pred)\n",
        "acc = accuracy_score(y_test, y_pred)"
      ],
      "metadata": {
        "id": "1jJN5u09HqD9"
      },
      "execution_count": null,
      "outputs": []
    },
    {
      "cell_type": "code",
      "source": [
        "print(cm)"
      ],
      "metadata": {
        "id": "6lA_q6tGH50l"
      },
      "execution_count": null,
      "outputs": []
    },
    {
      "cell_type": "code",
      "source": [
        "print(acc)"
      ],
      "metadata": {
        "id": "cojNySHNH7G6"
      },
      "execution_count": null,
      "outputs": []
    }
  ]
}