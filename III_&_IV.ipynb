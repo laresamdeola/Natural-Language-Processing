{
  "nbformat": 4,
  "nbformat_minor": 0,
  "metadata": {
    "colab": {
      "name": "III & IV.ipynb",
      "provenance": [],
      "collapsed_sections": [],
      "authorship_tag": "ABX9TyM5RdmI1RA8RE5ochGNXqXi"
    },
    "kernelspec": {
      "name": "python3",
      "display_name": "Python 3"
    },
    "language_info": {
      "name": "python"
    }
  },
  "cells": [
    {
      "cell_type": "code",
      "execution_count": 120,
      "metadata": {
        "id": "riZsAd0QYC83"
      },
      "outputs": [],
      "source": [
        "import numpy as np\n",
        "import pandas as pd\n",
        "from matplotlib import pyplot as plt"
      ]
    },
    {
      "cell_type": "code",
      "source": [
        "base_data = pd.read_csv('medinform.csv', encoding='cp1252')"
      ],
      "metadata": {
        "id": "PKpov0lKYXki"
      },
      "execution_count": 121,
      "outputs": []
    },
    {
      "cell_type": "markdown",
      "source": [
        "**ANALYSE BASE DATA**"
      ],
      "metadata": {
        "id": "CbghJ4UflBk5"
      }
    },
    {
      "cell_type": "code",
      "source": [
        "base_data.info()"
      ],
      "metadata": {
        "colab": {
          "base_uri": "https://localhost:8080/"
        },
        "id": "foKRwB6IYnjU",
        "outputId": "e64f7daf-beb8-47ad-cc82-62dad779f106"
      },
      "execution_count": 122,
      "outputs": [
        {
          "output_type": "stream",
          "name": "stdout",
          "text": [
            "<class 'pandas.core.frame.DataFrame'>\n",
            "RangeIndex: 195 entries, 0 to 194\n",
            "Data columns (total 14 columns):\n",
            " #   Column        Non-Null Count  Dtype  \n",
            "---  ------        --------------  -----  \n",
            " 0   Unnamed: 0    195 non-null    int64  \n",
            " 1   word          195 non-null    object \n",
            " 2   case_freq     195 non-null    int64  \n",
            " 3   control_freq  195 non-null    float64\n",
            " 4   mwu_u         195 non-null    int64  \n",
            " 5   mwu_p         195 non-null    float64\n",
            " 6   freq_ratio    195 non-null    float64\n",
            " 7   freq_diff     195 non-null    float64\n",
            " 8   afinn         32 non-null     object \n",
            " 9   emolex        41 non-null     object \n",
            " 10  liwc2015      22 non-null     object \n",
            " 11  opinion       25 non-null     object \n",
            " 12  pattern       9 non-null      object \n",
            " 13  swn           86 non-null     object \n",
            "dtypes: float64(4), int64(3), object(7)\n",
            "memory usage: 21.5+ KB\n"
          ]
        }
      ]
    },
    {
      "cell_type": "code",
      "source": [
        "base_data.head()"
      ],
      "metadata": {
        "colab": {
          "base_uri": "https://localhost:8080/",
          "height": 206
        },
        "id": "GcQErlFRjjdy",
        "outputId": "3f349a75-0f5f-4744-a3a5-30fd50c01b2b"
      },
      "execution_count": 123,
      "outputs": [
        {
          "output_type": "execute_result",
          "data": {
            "text/plain": [
              "   Unnamed: 0      word  case_freq  control_freq       mwu_u  mwu_p  \\\n",
              "0           1      self       4279   2217.642490  4038260844    0.0   \n",
              "1           2      harm       2916   1242.740515  4058706079    0.0   \n",
              "2           3      ward       5555   3957.645900  4095271325    0.0   \n",
              "3           4  overdose       1717    324.209649  4191119922    0.0   \n",
              "4           5     staff       5670   4280.643267  4182314937    0.0   \n",
              "\n",
              "   freq_ratio    freq_diff     afinn    emolex  liwc2015   opinion pattern  \\\n",
              "0    1.929302  2060.860661       NaN       NaN       NaN       NaN     NaN   \n",
              "1    2.346568  1673.434190  negative  negative  negative  negative     NaN   \n",
              "2    1.403544  1597.086158       NaN       NaN       NaN       NaN     NaN   \n",
              "3    5.295901  1392.772579       NaN  negative       NaN       NaN     NaN   \n",
              "4    1.324579  1389.404933       NaN       NaN       NaN       NaN     NaN   \n",
              "\n",
              "        swn  \n",
              "0       NaN  \n",
              "1  negative  \n",
              "2  negative  \n",
              "3       NaN  \n",
              "4       NaN  "
            ],
            "text/html": [
              "\n",
              "  <div id=\"df-dde5130a-763d-4e5a-abff-ec8eb1bf3bed\">\n",
              "    <div class=\"colab-df-container\">\n",
              "      <div>\n",
              "<style scoped>\n",
              "    .dataframe tbody tr th:only-of-type {\n",
              "        vertical-align: middle;\n",
              "    }\n",
              "\n",
              "    .dataframe tbody tr th {\n",
              "        vertical-align: top;\n",
              "    }\n",
              "\n",
              "    .dataframe thead th {\n",
              "        text-align: right;\n",
              "    }\n",
              "</style>\n",
              "<table border=\"1\" class=\"dataframe\">\n",
              "  <thead>\n",
              "    <tr style=\"text-align: right;\">\n",
              "      <th></th>\n",
              "      <th>Unnamed: 0</th>\n",
              "      <th>word</th>\n",
              "      <th>case_freq</th>\n",
              "      <th>control_freq</th>\n",
              "      <th>mwu_u</th>\n",
              "      <th>mwu_p</th>\n",
              "      <th>freq_ratio</th>\n",
              "      <th>freq_diff</th>\n",
              "      <th>afinn</th>\n",
              "      <th>emolex</th>\n",
              "      <th>liwc2015</th>\n",
              "      <th>opinion</th>\n",
              "      <th>pattern</th>\n",
              "      <th>swn</th>\n",
              "    </tr>\n",
              "  </thead>\n",
              "  <tbody>\n",
              "    <tr>\n",
              "      <th>0</th>\n",
              "      <td>1</td>\n",
              "      <td>self</td>\n",
              "      <td>4279</td>\n",
              "      <td>2217.642490</td>\n",
              "      <td>4038260844</td>\n",
              "      <td>0.0</td>\n",
              "      <td>1.929302</td>\n",
              "      <td>2060.860661</td>\n",
              "      <td>NaN</td>\n",
              "      <td>NaN</td>\n",
              "      <td>NaN</td>\n",
              "      <td>NaN</td>\n",
              "      <td>NaN</td>\n",
              "      <td>NaN</td>\n",
              "    </tr>\n",
              "    <tr>\n",
              "      <th>1</th>\n",
              "      <td>2</td>\n",
              "      <td>harm</td>\n",
              "      <td>2916</td>\n",
              "      <td>1242.740515</td>\n",
              "      <td>4058706079</td>\n",
              "      <td>0.0</td>\n",
              "      <td>2.346568</td>\n",
              "      <td>1673.434190</td>\n",
              "      <td>negative</td>\n",
              "      <td>negative</td>\n",
              "      <td>negative</td>\n",
              "      <td>negative</td>\n",
              "      <td>NaN</td>\n",
              "      <td>negative</td>\n",
              "    </tr>\n",
              "    <tr>\n",
              "      <th>2</th>\n",
              "      <td>3</td>\n",
              "      <td>ward</td>\n",
              "      <td>5555</td>\n",
              "      <td>3957.645900</td>\n",
              "      <td>4095271325</td>\n",
              "      <td>0.0</td>\n",
              "      <td>1.403544</td>\n",
              "      <td>1597.086158</td>\n",
              "      <td>NaN</td>\n",
              "      <td>NaN</td>\n",
              "      <td>NaN</td>\n",
              "      <td>NaN</td>\n",
              "      <td>NaN</td>\n",
              "      <td>negative</td>\n",
              "    </tr>\n",
              "    <tr>\n",
              "      <th>3</th>\n",
              "      <td>4</td>\n",
              "      <td>overdose</td>\n",
              "      <td>1717</td>\n",
              "      <td>324.209649</td>\n",
              "      <td>4191119922</td>\n",
              "      <td>0.0</td>\n",
              "      <td>5.295901</td>\n",
              "      <td>1392.772579</td>\n",
              "      <td>NaN</td>\n",
              "      <td>negative</td>\n",
              "      <td>NaN</td>\n",
              "      <td>NaN</td>\n",
              "      <td>NaN</td>\n",
              "      <td>NaN</td>\n",
              "    </tr>\n",
              "    <tr>\n",
              "      <th>4</th>\n",
              "      <td>5</td>\n",
              "      <td>staff</td>\n",
              "      <td>5670</td>\n",
              "      <td>4280.643267</td>\n",
              "      <td>4182314937</td>\n",
              "      <td>0.0</td>\n",
              "      <td>1.324579</td>\n",
              "      <td>1389.404933</td>\n",
              "      <td>NaN</td>\n",
              "      <td>NaN</td>\n",
              "      <td>NaN</td>\n",
              "      <td>NaN</td>\n",
              "      <td>NaN</td>\n",
              "      <td>NaN</td>\n",
              "    </tr>\n",
              "  </tbody>\n",
              "</table>\n",
              "</div>\n",
              "      <button class=\"colab-df-convert\" onclick=\"convertToInteractive('df-dde5130a-763d-4e5a-abff-ec8eb1bf3bed')\"\n",
              "              title=\"Convert this dataframe to an interactive table.\"\n",
              "              style=\"display:none;\">\n",
              "        \n",
              "  <svg xmlns=\"http://www.w3.org/2000/svg\" height=\"24px\"viewBox=\"0 0 24 24\"\n",
              "       width=\"24px\">\n",
              "    <path d=\"M0 0h24v24H0V0z\" fill=\"none\"/>\n",
              "    <path d=\"M18.56 5.44l.94 2.06.94-2.06 2.06-.94-2.06-.94-.94-2.06-.94 2.06-2.06.94zm-11 1L8.5 8.5l.94-2.06 2.06-.94-2.06-.94L8.5 2.5l-.94 2.06-2.06.94zm10 10l.94 2.06.94-2.06 2.06-.94-2.06-.94-.94-2.06-.94 2.06-2.06.94z\"/><path d=\"M17.41 7.96l-1.37-1.37c-.4-.4-.92-.59-1.43-.59-.52 0-1.04.2-1.43.59L10.3 9.45l-7.72 7.72c-.78.78-.78 2.05 0 2.83L4 21.41c.39.39.9.59 1.41.59.51 0 1.02-.2 1.41-.59l7.78-7.78 2.81-2.81c.8-.78.8-2.07 0-2.86zM5.41 20L4 18.59l7.72-7.72 1.47 1.35L5.41 20z\"/>\n",
              "  </svg>\n",
              "      </button>\n",
              "      \n",
              "  <style>\n",
              "    .colab-df-container {\n",
              "      display:flex;\n",
              "      flex-wrap:wrap;\n",
              "      gap: 12px;\n",
              "    }\n",
              "\n",
              "    .colab-df-convert {\n",
              "      background-color: #E8F0FE;\n",
              "      border: none;\n",
              "      border-radius: 50%;\n",
              "      cursor: pointer;\n",
              "      display: none;\n",
              "      fill: #1967D2;\n",
              "      height: 32px;\n",
              "      padding: 0 0 0 0;\n",
              "      width: 32px;\n",
              "    }\n",
              "\n",
              "    .colab-df-convert:hover {\n",
              "      background-color: #E2EBFA;\n",
              "      box-shadow: 0px 1px 2px rgba(60, 64, 67, 0.3), 0px 1px 3px 1px rgba(60, 64, 67, 0.15);\n",
              "      fill: #174EA6;\n",
              "    }\n",
              "\n",
              "    [theme=dark] .colab-df-convert {\n",
              "      background-color: #3B4455;\n",
              "      fill: #D2E3FC;\n",
              "    }\n",
              "\n",
              "    [theme=dark] .colab-df-convert:hover {\n",
              "      background-color: #434B5C;\n",
              "      box-shadow: 0px 1px 3px 1px rgba(0, 0, 0, 0.15);\n",
              "      filter: drop-shadow(0px 1px 2px rgba(0, 0, 0, 0.3));\n",
              "      fill: #FFFFFF;\n",
              "    }\n",
              "  </style>\n",
              "\n",
              "      <script>\n",
              "        const buttonEl =\n",
              "          document.querySelector('#df-dde5130a-763d-4e5a-abff-ec8eb1bf3bed button.colab-df-convert');\n",
              "        buttonEl.style.display =\n",
              "          google.colab.kernel.accessAllowed ? 'block' : 'none';\n",
              "\n",
              "        async function convertToInteractive(key) {\n",
              "          const element = document.querySelector('#df-dde5130a-763d-4e5a-abff-ec8eb1bf3bed');\n",
              "          const dataTable =\n",
              "            await google.colab.kernel.invokeFunction('convertToInteractive',\n",
              "                                                     [key], {});\n",
              "          if (!dataTable) return;\n",
              "\n",
              "          const docLinkHtml = 'Like what you see? Visit the ' +\n",
              "            '<a target=\"_blank\" href=https://colab.research.google.com/notebooks/data_table.ipynb>data table notebook</a>'\n",
              "            + ' to learn more about interactive tables.';\n",
              "          element.innerHTML = '';\n",
              "          dataTable['output_type'] = 'display_data';\n",
              "          await google.colab.output.renderOutput(dataTable, element);\n",
              "          const docLink = document.createElement('div');\n",
              "          docLink.innerHTML = docLinkHtml;\n",
              "          element.appendChild(docLink);\n",
              "        }\n",
              "      </script>\n",
              "    </div>\n",
              "  </div>\n",
              "  "
            ]
          },
          "metadata": {},
          "execution_count": 123
        }
      ]
    },
    {
      "cell_type": "code",
      "source": [
        "base_data['word']"
      ],
      "metadata": {
        "colab": {
          "base_uri": "https://localhost:8080/"
        },
        "id": "ocix6j2xj-OO",
        "outputId": "2495dded-77c4-4526-e3cb-31367ed98586"
      },
      "execution_count": 124,
      "outputs": [
        {
          "output_type": "execute_result",
          "data": {
            "text/plain": [
              "0             self\n",
              "1             harm\n",
              "2             ward\n",
              "3         overdose\n",
              "4            staff\n",
              "          ...     \n",
              "190         health\n",
              "191     medication\n",
              "192    appointment\n",
              "193             mr\n",
              "194         mental\n",
              "Name: word, Length: 195, dtype: object"
            ]
          },
          "metadata": {},
          "execution_count": 124
        }
      ]
    },
    {
      "cell_type": "code",
      "source": [
        "frame = {\n",
        "    'word': base_data['word'],\n",
        "    'case_frequency': base_data['case_freq'],\n",
        "    'control_frequency': base_data['control_freq']\n",
        "}"
      ],
      "metadata": {
        "id": "Y8lJIeOCjjz0"
      },
      "execution_count": 125,
      "outputs": []
    },
    {
      "cell_type": "code",
      "source": [
        "df = pd.DataFrame(frame)"
      ],
      "metadata": {
        "id": "oyYCD1-QkiXk"
      },
      "execution_count": 126,
      "outputs": []
    },
    {
      "cell_type": "code",
      "source": [
        "print(df)"
      ],
      "metadata": {
        "colab": {
          "base_uri": "https://localhost:8080/"
        },
        "id": "RZnSlhFHjkGl",
        "outputId": "6754c612-7c3a-4d6a-a92b-eaab67ee0512"
      },
      "execution_count": 127,
      "outputs": [
        {
          "output_type": "stream",
          "name": "stdout",
          "text": [
            "            word  case_frequency  control_frequency\n",
            "0           self            4279        2217.642490\n",
            "1           harm            2916        1242.740515\n",
            "2           ward            5555        3957.645900\n",
            "3       overdose            1717         324.209649\n",
            "4          staff            5670        4280.643267\n",
            "..           ...             ...                ...\n",
            "190       health            2282        3053.283579\n",
            "191   medication            3757        4773.890478\n",
            "192  appointment            1584        2708.010532\n",
            "193           mr            1198        2335.991514\n",
            "194       mental            3093        4335.044419\n",
            "\n",
            "[195 rows x 3 columns]\n"
          ]
        }
      ]
    },
    {
      "cell_type": "markdown",
      "source": [
        "**DATA ENGINEERING FOR VISUAL DISPLAY OF THE DATA**"
      ],
      "metadata": {
        "id": "MTJmj3rkwk9x"
      }
    },
    {
      "cell_type": "code",
      "source": [
        "case_frequency = df['case_frequency']\n",
        "case_frequency.describe()"
      ],
      "metadata": {
        "colab": {
          "base_uri": "https://localhost:8080/"
        },
        "id": "IcHdml0XjkQ4",
        "outputId": "68b541ef-fdf1-4a4d-b5db-f77bf3afdb07"
      },
      "execution_count": 128,
      "outputs": [
        {
          "output_type": "execute_result",
          "data": {
            "text/plain": [
              "count     195.000000\n",
              "mean     1153.743590\n",
              "std      1093.215033\n",
              "min        40.000000\n",
              "25%       379.500000\n",
              "50%       810.000000\n",
              "75%      1563.500000\n",
              "max      5725.000000\n",
              "Name: case_frequency, dtype: float64"
            ]
          },
          "metadata": {},
          "execution_count": 128
        }
      ]
    },
    {
      "cell_type": "code",
      "source": [
        "highest_frequencies = [word for word in df['case_frequency'] if word > 1567]"
      ],
      "metadata": {
        "id": "fPxdpaV2t4eT"
      },
      "execution_count": 129,
      "outputs": []
    },
    {
      "cell_type": "code",
      "source": [
        "print(len(highest_frequencies))"
      ],
      "metadata": {
        "colab": {
          "base_uri": "https://localhost:8080/"
        },
        "id": "rWrhbYs_t-8h",
        "outputId": "8e80eea1-72b5-411f-9030-80575177f3ff"
      },
      "execution_count": 130,
      "outputs": [
        {
          "output_type": "stream",
          "name": "stdout",
          "text": [
            "48\n"
          ]
        }
      ]
    },
    {
      "cell_type": "code",
      "source": [
        "print(highest_frequencies)"
      ],
      "metadata": {
        "colab": {
          "base_uri": "https://localhost:8080/"
        },
        "id": "VeNntTTOwzxp",
        "outputId": "eacbfc03-a9de-4ab0-94f1-94bf1c3f3654"
      },
      "execution_count": 131,
      "outputs": [
        {
          "output_type": "stream",
          "name": "stdout",
          "text": [
            "[4279, 2916, 5555, 1717, 5670, 2072, 5725, 2276, 3081, 2333, 2313, 2356, 1813, 3316, 4347, 3005, 2189, 1915, 1945, 2341, 1821, 1844, 2251, 5725, 1744, 2346, 2282, 1926, 2363, 2827, 3421, 1631, 2448, 1636, 2357, 1577, 1659, 3071, 2425, 1593, 2643, 2863, 1621, 1640, 2282, 3757, 1584, 3093]\n"
          ]
        }
      ]
    },
    {
      "cell_type": "code",
      "source": [
        "highest_words = []\n",
        "\n",
        "for index, each in enumerate(df['word']):\n",
        "  for index2, word in enumerate(df['case_frequency']):\n",
        "    if word > 1567 and index == index2:\n",
        "      highest_words.append(each)\n",
        "      break"
      ],
      "metadata": {
        "id": "fIs04Onxz9wF"
      },
      "execution_count": 132,
      "outputs": []
    },
    {
      "cell_type": "code",
      "source": [
        "print(highest_words)"
      ],
      "metadata": {
        "colab": {
          "base_uri": "https://localhost:8080/"
        },
        "id": "CsW6VISk0PRZ",
        "outputId": "c3e1330f-00c5-4830-8327-f46376bd6821"
      },
      "execution_count": 133,
      "outputs": [
        {
          "output_type": "stream",
          "name": "stdout",
          "text": [
            "['self', 'harm', 'ward', 'overdose', 'staff', 'suicidal', 'said', 'alcohol', 'risk', 'admission', 'thoughts', 'go', 'discharge', 'home', 'plan', 'hospital', 'low', 'call', 'stated', 'asked', 'informed', 'feeling', 'history', 'would', 'felt', 'back', 'agreed', 'feels', 'patient', 'leave', 'mood', 'told', 'could', 'going', 'today', 'morning', 'currently', 'reported', 'night', 'treatment', 'assessment', 'care', 'attended', 'state', 'health', 'medication', 'appointment', 'mental']\n"
          ]
        }
      ]
    },
    {
      "cell_type": "code",
      "source": [
        "print(len(highest_words))"
      ],
      "metadata": {
        "colab": {
          "base_uri": "https://localhost:8080/"
        },
        "id": "Bi5cuu6M0mSm",
        "outputId": "4ede757d-9b01-4539-a088-d2758b3f5d06"
      },
      "execution_count": 134,
      "outputs": [
        {
          "output_type": "stream",
          "name": "stdout",
          "text": [
            "48\n"
          ]
        }
      ]
    },
    {
      "cell_type": "code",
      "source": [
        "top_50 = {\n",
        "    'top words': highest_words,\n",
        "    'top frequencies': highest_frequencies\n",
        "}\n",
        "\n",
        "top_50_frame = pd.DataFrame(top_50)"
      ],
      "metadata": {
        "id": "Yn5_vURuw806"
      },
      "execution_count": 135,
      "outputs": []
    },
    {
      "cell_type": "code",
      "source": [
        "top_50_frame"
      ],
      "metadata": {
        "colab": {
          "base_uri": "https://localhost:8080/",
          "height": 1000
        },
        "id": "qo2q3z8UxdYj",
        "outputId": "5acb4c4a-4799-4ea2-c3e2-d4c0faf3d647"
      },
      "execution_count": 136,
      "outputs": [
        {
          "output_type": "execute_result",
          "data": {
            "text/plain": [
              "      top words  top frequencies\n",
              "0          self             4279\n",
              "1          harm             2916\n",
              "2          ward             5555\n",
              "3      overdose             1717\n",
              "4         staff             5670\n",
              "5      suicidal             2072\n",
              "6          said             5725\n",
              "7       alcohol             2276\n",
              "8          risk             3081\n",
              "9     admission             2333\n",
              "10     thoughts             2313\n",
              "11           go             2356\n",
              "12    discharge             1813\n",
              "13         home             3316\n",
              "14         plan             4347\n",
              "15     hospital             3005\n",
              "16          low             2189\n",
              "17         call             1915\n",
              "18       stated             1945\n",
              "19        asked             2341\n",
              "20     informed             1821\n",
              "21      feeling             1844\n",
              "22      history             2251\n",
              "23        would             5725\n",
              "24         felt             1744\n",
              "25         back             2346\n",
              "26       agreed             2282\n",
              "27        feels             1926\n",
              "28      patient             2363\n",
              "29        leave             2827\n",
              "30         mood             3421\n",
              "31         told             1631\n",
              "32        could             2448\n",
              "33        going             1636\n",
              "34        today             2357\n",
              "35      morning             1577\n",
              "36    currently             1659\n",
              "37     reported             3071\n",
              "38        night             2425\n",
              "39    treatment             1593\n",
              "40   assessment             2643\n",
              "41         care             2863\n",
              "42     attended             1621\n",
              "43        state             1640\n",
              "44       health             2282\n",
              "45   medication             3757\n",
              "46  appointment             1584\n",
              "47       mental             3093"
            ],
            "text/html": [
              "\n",
              "  <div id=\"df-fe5ca830-9a29-4fcf-8c7a-a02b9d8e3531\">\n",
              "    <div class=\"colab-df-container\">\n",
              "      <div>\n",
              "<style scoped>\n",
              "    .dataframe tbody tr th:only-of-type {\n",
              "        vertical-align: middle;\n",
              "    }\n",
              "\n",
              "    .dataframe tbody tr th {\n",
              "        vertical-align: top;\n",
              "    }\n",
              "\n",
              "    .dataframe thead th {\n",
              "        text-align: right;\n",
              "    }\n",
              "</style>\n",
              "<table border=\"1\" class=\"dataframe\">\n",
              "  <thead>\n",
              "    <tr style=\"text-align: right;\">\n",
              "      <th></th>\n",
              "      <th>top words</th>\n",
              "      <th>top frequencies</th>\n",
              "    </tr>\n",
              "  </thead>\n",
              "  <tbody>\n",
              "    <tr>\n",
              "      <th>0</th>\n",
              "      <td>self</td>\n",
              "      <td>4279</td>\n",
              "    </tr>\n",
              "    <tr>\n",
              "      <th>1</th>\n",
              "      <td>harm</td>\n",
              "      <td>2916</td>\n",
              "    </tr>\n",
              "    <tr>\n",
              "      <th>2</th>\n",
              "      <td>ward</td>\n",
              "      <td>5555</td>\n",
              "    </tr>\n",
              "    <tr>\n",
              "      <th>3</th>\n",
              "      <td>overdose</td>\n",
              "      <td>1717</td>\n",
              "    </tr>\n",
              "    <tr>\n",
              "      <th>4</th>\n",
              "      <td>staff</td>\n",
              "      <td>5670</td>\n",
              "    </tr>\n",
              "    <tr>\n",
              "      <th>5</th>\n",
              "      <td>suicidal</td>\n",
              "      <td>2072</td>\n",
              "    </tr>\n",
              "    <tr>\n",
              "      <th>6</th>\n",
              "      <td>said</td>\n",
              "      <td>5725</td>\n",
              "    </tr>\n",
              "    <tr>\n",
              "      <th>7</th>\n",
              "      <td>alcohol</td>\n",
              "      <td>2276</td>\n",
              "    </tr>\n",
              "    <tr>\n",
              "      <th>8</th>\n",
              "      <td>risk</td>\n",
              "      <td>3081</td>\n",
              "    </tr>\n",
              "    <tr>\n",
              "      <th>9</th>\n",
              "      <td>admission</td>\n",
              "      <td>2333</td>\n",
              "    </tr>\n",
              "    <tr>\n",
              "      <th>10</th>\n",
              "      <td>thoughts</td>\n",
              "      <td>2313</td>\n",
              "    </tr>\n",
              "    <tr>\n",
              "      <th>11</th>\n",
              "      <td>go</td>\n",
              "      <td>2356</td>\n",
              "    </tr>\n",
              "    <tr>\n",
              "      <th>12</th>\n",
              "      <td>discharge</td>\n",
              "      <td>1813</td>\n",
              "    </tr>\n",
              "    <tr>\n",
              "      <th>13</th>\n",
              "      <td>home</td>\n",
              "      <td>3316</td>\n",
              "    </tr>\n",
              "    <tr>\n",
              "      <th>14</th>\n",
              "      <td>plan</td>\n",
              "      <td>4347</td>\n",
              "    </tr>\n",
              "    <tr>\n",
              "      <th>15</th>\n",
              "      <td>hospital</td>\n",
              "      <td>3005</td>\n",
              "    </tr>\n",
              "    <tr>\n",
              "      <th>16</th>\n",
              "      <td>low</td>\n",
              "      <td>2189</td>\n",
              "    </tr>\n",
              "    <tr>\n",
              "      <th>17</th>\n",
              "      <td>call</td>\n",
              "      <td>1915</td>\n",
              "    </tr>\n",
              "    <tr>\n",
              "      <th>18</th>\n",
              "      <td>stated</td>\n",
              "      <td>1945</td>\n",
              "    </tr>\n",
              "    <tr>\n",
              "      <th>19</th>\n",
              "      <td>asked</td>\n",
              "      <td>2341</td>\n",
              "    </tr>\n",
              "    <tr>\n",
              "      <th>20</th>\n",
              "      <td>informed</td>\n",
              "      <td>1821</td>\n",
              "    </tr>\n",
              "    <tr>\n",
              "      <th>21</th>\n",
              "      <td>feeling</td>\n",
              "      <td>1844</td>\n",
              "    </tr>\n",
              "    <tr>\n",
              "      <th>22</th>\n",
              "      <td>history</td>\n",
              "      <td>2251</td>\n",
              "    </tr>\n",
              "    <tr>\n",
              "      <th>23</th>\n",
              "      <td>would</td>\n",
              "      <td>5725</td>\n",
              "    </tr>\n",
              "    <tr>\n",
              "      <th>24</th>\n",
              "      <td>felt</td>\n",
              "      <td>1744</td>\n",
              "    </tr>\n",
              "    <tr>\n",
              "      <th>25</th>\n",
              "      <td>back</td>\n",
              "      <td>2346</td>\n",
              "    </tr>\n",
              "    <tr>\n",
              "      <th>26</th>\n",
              "      <td>agreed</td>\n",
              "      <td>2282</td>\n",
              "    </tr>\n",
              "    <tr>\n",
              "      <th>27</th>\n",
              "      <td>feels</td>\n",
              "      <td>1926</td>\n",
              "    </tr>\n",
              "    <tr>\n",
              "      <th>28</th>\n",
              "      <td>patient</td>\n",
              "      <td>2363</td>\n",
              "    </tr>\n",
              "    <tr>\n",
              "      <th>29</th>\n",
              "      <td>leave</td>\n",
              "      <td>2827</td>\n",
              "    </tr>\n",
              "    <tr>\n",
              "      <th>30</th>\n",
              "      <td>mood</td>\n",
              "      <td>3421</td>\n",
              "    </tr>\n",
              "    <tr>\n",
              "      <th>31</th>\n",
              "      <td>told</td>\n",
              "      <td>1631</td>\n",
              "    </tr>\n",
              "    <tr>\n",
              "      <th>32</th>\n",
              "      <td>could</td>\n",
              "      <td>2448</td>\n",
              "    </tr>\n",
              "    <tr>\n",
              "      <th>33</th>\n",
              "      <td>going</td>\n",
              "      <td>1636</td>\n",
              "    </tr>\n",
              "    <tr>\n",
              "      <th>34</th>\n",
              "      <td>today</td>\n",
              "      <td>2357</td>\n",
              "    </tr>\n",
              "    <tr>\n",
              "      <th>35</th>\n",
              "      <td>morning</td>\n",
              "      <td>1577</td>\n",
              "    </tr>\n",
              "    <tr>\n",
              "      <th>36</th>\n",
              "      <td>currently</td>\n",
              "      <td>1659</td>\n",
              "    </tr>\n",
              "    <tr>\n",
              "      <th>37</th>\n",
              "      <td>reported</td>\n",
              "      <td>3071</td>\n",
              "    </tr>\n",
              "    <tr>\n",
              "      <th>38</th>\n",
              "      <td>night</td>\n",
              "      <td>2425</td>\n",
              "    </tr>\n",
              "    <tr>\n",
              "      <th>39</th>\n",
              "      <td>treatment</td>\n",
              "      <td>1593</td>\n",
              "    </tr>\n",
              "    <tr>\n",
              "      <th>40</th>\n",
              "      <td>assessment</td>\n",
              "      <td>2643</td>\n",
              "    </tr>\n",
              "    <tr>\n",
              "      <th>41</th>\n",
              "      <td>care</td>\n",
              "      <td>2863</td>\n",
              "    </tr>\n",
              "    <tr>\n",
              "      <th>42</th>\n",
              "      <td>attended</td>\n",
              "      <td>1621</td>\n",
              "    </tr>\n",
              "    <tr>\n",
              "      <th>43</th>\n",
              "      <td>state</td>\n",
              "      <td>1640</td>\n",
              "    </tr>\n",
              "    <tr>\n",
              "      <th>44</th>\n",
              "      <td>health</td>\n",
              "      <td>2282</td>\n",
              "    </tr>\n",
              "    <tr>\n",
              "      <th>45</th>\n",
              "      <td>medication</td>\n",
              "      <td>3757</td>\n",
              "    </tr>\n",
              "    <tr>\n",
              "      <th>46</th>\n",
              "      <td>appointment</td>\n",
              "      <td>1584</td>\n",
              "    </tr>\n",
              "    <tr>\n",
              "      <th>47</th>\n",
              "      <td>mental</td>\n",
              "      <td>3093</td>\n",
              "    </tr>\n",
              "  </tbody>\n",
              "</table>\n",
              "</div>\n",
              "      <button class=\"colab-df-convert\" onclick=\"convertToInteractive('df-fe5ca830-9a29-4fcf-8c7a-a02b9d8e3531')\"\n",
              "              title=\"Convert this dataframe to an interactive table.\"\n",
              "              style=\"display:none;\">\n",
              "        \n",
              "  <svg xmlns=\"http://www.w3.org/2000/svg\" height=\"24px\"viewBox=\"0 0 24 24\"\n",
              "       width=\"24px\">\n",
              "    <path d=\"M0 0h24v24H0V0z\" fill=\"none\"/>\n",
              "    <path d=\"M18.56 5.44l.94 2.06.94-2.06 2.06-.94-2.06-.94-.94-2.06-.94 2.06-2.06.94zm-11 1L8.5 8.5l.94-2.06 2.06-.94-2.06-.94L8.5 2.5l-.94 2.06-2.06.94zm10 10l.94 2.06.94-2.06 2.06-.94-2.06-.94-.94-2.06-.94 2.06-2.06.94z\"/><path d=\"M17.41 7.96l-1.37-1.37c-.4-.4-.92-.59-1.43-.59-.52 0-1.04.2-1.43.59L10.3 9.45l-7.72 7.72c-.78.78-.78 2.05 0 2.83L4 21.41c.39.39.9.59 1.41.59.51 0 1.02-.2 1.41-.59l7.78-7.78 2.81-2.81c.8-.78.8-2.07 0-2.86zM5.41 20L4 18.59l7.72-7.72 1.47 1.35L5.41 20z\"/>\n",
              "  </svg>\n",
              "      </button>\n",
              "      \n",
              "  <style>\n",
              "    .colab-df-container {\n",
              "      display:flex;\n",
              "      flex-wrap:wrap;\n",
              "      gap: 12px;\n",
              "    }\n",
              "\n",
              "    .colab-df-convert {\n",
              "      background-color: #E8F0FE;\n",
              "      border: none;\n",
              "      border-radius: 50%;\n",
              "      cursor: pointer;\n",
              "      display: none;\n",
              "      fill: #1967D2;\n",
              "      height: 32px;\n",
              "      padding: 0 0 0 0;\n",
              "      width: 32px;\n",
              "    }\n",
              "\n",
              "    .colab-df-convert:hover {\n",
              "      background-color: #E2EBFA;\n",
              "      box-shadow: 0px 1px 2px rgba(60, 64, 67, 0.3), 0px 1px 3px 1px rgba(60, 64, 67, 0.15);\n",
              "      fill: #174EA6;\n",
              "    }\n",
              "\n",
              "    [theme=dark] .colab-df-convert {\n",
              "      background-color: #3B4455;\n",
              "      fill: #D2E3FC;\n",
              "    }\n",
              "\n",
              "    [theme=dark] .colab-df-convert:hover {\n",
              "      background-color: #434B5C;\n",
              "      box-shadow: 0px 1px 3px 1px rgba(0, 0, 0, 0.15);\n",
              "      filter: drop-shadow(0px 1px 2px rgba(0, 0, 0, 0.3));\n",
              "      fill: #FFFFFF;\n",
              "    }\n",
              "  </style>\n",
              "\n",
              "      <script>\n",
              "        const buttonEl =\n",
              "          document.querySelector('#df-fe5ca830-9a29-4fcf-8c7a-a02b9d8e3531 button.colab-df-convert');\n",
              "        buttonEl.style.display =\n",
              "          google.colab.kernel.accessAllowed ? 'block' : 'none';\n",
              "\n",
              "        async function convertToInteractive(key) {\n",
              "          const element = document.querySelector('#df-fe5ca830-9a29-4fcf-8c7a-a02b9d8e3531');\n",
              "          const dataTable =\n",
              "            await google.colab.kernel.invokeFunction('convertToInteractive',\n",
              "                                                     [key], {});\n",
              "          if (!dataTable) return;\n",
              "\n",
              "          const docLinkHtml = 'Like what you see? Visit the ' +\n",
              "            '<a target=\"_blank\" href=https://colab.research.google.com/notebooks/data_table.ipynb>data table notebook</a>'\n",
              "            + ' to learn more about interactive tables.';\n",
              "          element.innerHTML = '';\n",
              "          dataTable['output_type'] = 'display_data';\n",
              "          await google.colab.output.renderOutput(dataTable, element);\n",
              "          const docLink = document.createElement('div');\n",
              "          docLink.innerHTML = docLinkHtml;\n",
              "          element.appendChild(docLink);\n",
              "        }\n",
              "      </script>\n",
              "    </div>\n",
              "  </div>\n",
              "  "
            ]
          },
          "metadata": {},
          "execution_count": 136
        }
      ]
    },
    {
      "cell_type": "code",
      "source": [
        "plt.plot(top_50_frame['top words'][:20], top_50_frame['top frequencies'][:20], color='violet')\n",
        "plt.xlabel('Top Words')\n",
        "plt.ylabel('Top Words Frequencies')\n",
        "plt.xticks(top_50_frame['top words'][:20], rotation=65)\n",
        "#plt.margins(0.001)\n",
        "plt.show()"
      ],
      "metadata": {
        "colab": {
          "base_uri": "https://localhost:8080/",
          "height": 320
        },
        "id": "mH_cTHs-xdir",
        "outputId": "f37ee3af-882b-466e-dac4-17a6f77076c5"
      },
      "execution_count": 137,
      "outputs": [
        {
          "output_type": "display_data",
          "data": {
            "text/plain": [
              "<Figure size 432x288 with 1 Axes>"
            ],
            "image/png": "[encoded data removed]"
          },
          "metadata": {
            "needs_background": "light"
          }
        }
      ]
    },
    {
      "cell_type": "code",
      "source": [
        "plt.bar(top_50_frame['top words'][:20], top_50_frame['top frequencies'][:20], color='violet')\n",
        "plt.xlabel('Top Words')\n",
        "plt.ylabel('Top Words Frequencies')\n",
        "plt.xticks(top_50_frame['top words'][:20], rotation=65)\n",
        "#plt.margins(0.001)\n",
        "plt.show()"
      ],
      "metadata": {
        "colab": {
          "base_uri": "https://localhost:8080/",
          "height": 323
        },
        "id": "J8-Vg6L2xdrs",
        "outputId": "9620b5db-0854-48a4-8d5f-0858adaa8657"
      },
      "execution_count": 138,
      "outputs": [
        {
          "output_type": "display_data",
          "data": {
            "text/plain": [
              "<Figure size 432x288 with 1 Axes>"
            ],
            "image/png": "[encoded data removed]"
          },
          "metadata": {
            "needs_background": "light"
          }
        }
      ]
    },
    {
      "cell_type": "code",
      "source": [
        "plt.barh(top_50_frame['top words'][:20], top_50_frame['top frequencies'][:20], color='violet')\n",
        "plt.xlabel('Top Words')\n",
        "plt.ylabel('Top Words Frequencies')\n",
        "#plt.xticks(top_50_frame['top words'][:20], rotation=65)\n",
        "#plt.margins(0.001)\n",
        "plt.show()"
      ],
      "metadata": {
        "colab": {
          "base_uri": "https://localhost:8080/",
          "height": 279
        },
        "id": "2Zr9BW9j-LUi",
        "outputId": "1a9656b9-6c97-4d97-9b88-14574d3fb1ed"
      },
      "execution_count": 139,
      "outputs": [
        {
          "output_type": "display_data",
          "data": {
            "text/plain": [
              "<Figure size 432x288 with 1 Axes>"
            ],
            "image/png": "[encoded data removed]"
          },
          "metadata": {
            "needs_background": "light"
          }
        }
      ]
    },
    {
      "cell_type": "code",
      "source": [
        "from wordcloud import WordCloud, STOPWORDS"
      ],
      "metadata": {
        "id": "NbGfGxBA-qkk"
      },
      "execution_count": 140,
      "outputs": []
    },
    {
      "cell_type": "code",
      "source": [
        "#convert dataframe to a string to input into the WordCloud Class"
      ],
      "metadata": {
        "id": "lOoQs1Sn-qvx"
      },
      "execution_count": 141,
      "outputs": []
    },
    {
      "cell_type": "code",
      "source": [
        "words_strings = ' '.join(highest_words)\n",
        "stopwords = set(STOPWORDS)"
      ],
      "metadata": {
        "id": "J8hFsU-3-28G"
      },
      "execution_count": 142,
      "outputs": []
    },
    {
      "cell_type": "code",
      "source": [
        "print(words_strings)"
      ],
      "metadata": {
        "colab": {
          "base_uri": "https://localhost:8080/"
        },
        "id": "XxU2QBMM_Dd3",
        "outputId": "d0838fb2-c698-47cf-83c5-de3ae95d9f49"
      },
      "execution_count": 143,
      "outputs": [
        {
          "output_type": "stream",
          "name": "stdout",
          "text": [
            "self harm ward overdose staff suicidal said alcohol risk admission thoughts go discharge home plan hospital low call stated asked informed feeling history would felt back agreed feels patient leave mood told could going today morning currently reported night treatment assessment care attended state health medication appointment mental\n"
          ]
        }
      ]
    },
    {
      "cell_type": "code",
      "source": [
        "wordcloud = WordCloud(width = 1400, height = 800, stopwords = stopwords, min_font_size = 10).generate(words_strings)"
      ],
      "metadata": {
        "id": "3NUaOlSH-xF-"
      },
      "execution_count": 144,
      "outputs": []
    },
    {
      "cell_type": "code",
      "source": [
        "plt.figure(figsize = (12, 8), facecolor = None)\n",
        "plt.imshow(wordcloud)\n",
        "plt.show()"
      ],
      "metadata": {
        "colab": {
          "base_uri": "https://localhost:8080/",
          "height": 434
        },
        "id": "hw9w-IZP-q6x",
        "outputId": "fab32d4a-5d5d-4b58-e0e9-0f891fc0cedd"
      },
      "execution_count": 145,
      "outputs": [
        {
          "output_type": "display_data",
          "data": {
            "text/plain": [
              "<Figure size 864x576 with 1 Axes>"
            ],
            "image/png": "[encoded data removed]"
          },
          "metadata": {
            "needs_background": "light"
          }
        }
      ]
    },
    {
      "cell_type": "markdown",
      "source": [
        "**PREPROCESSING TWITTER DATA SAMPLE**"
      ],
      "metadata": {
        "id": "AzMBfOy0lWr4"
      }
    },
    {
      "cell_type": "code",
      "source": [
        ""
      ],
      "metadata": {
        "id": "9S4e3yiskt6p"
      },
      "execution_count": 145,
      "outputs": []
    },
    {
      "cell_type": "code",
      "source": [
        ""
      ],
      "metadata": {
        "id": "bXJ9iUJUkuGB"
      },
      "execution_count": 145,
      "outputs": []
    },
    {
      "cell_type": "code",
      "source": [
        ""
      ],
      "metadata": {
        "id": "1PL-lJ5pkuSD"
      },
      "execution_count": 145,
      "outputs": []
    },
    {
      "cell_type": "markdown",
      "source": [
        "**TOKENIZATION AND ANALYSIS OF THE TOKENS**"
      ],
      "metadata": {
        "id": "QqrxMC5Tlvkr"
      }
    },
    {
      "cell_type": "code",
      "source": [
        ""
      ],
      "metadata": {
        "id": "a7YeJf14lnvU"
      },
      "execution_count": 145,
      "outputs": []
    },
    {
      "cell_type": "code",
      "source": [
        ""
      ],
      "metadata": {
        "id": "l04MWZcKl4td"
      },
      "execution_count": 145,
      "outputs": []
    },
    {
      "cell_type": "code",
      "source": [
        ""
      ],
      "metadata": {
        "id": "OnfD76-5l42g"
      },
      "execution_count": 145,
      "outputs": []
    },
    {
      "cell_type": "markdown",
      "source": [
        "**DISTANCE COMPUTATION 1 - JACCARD**"
      ],
      "metadata": {
        "id": "wulr23eul6X0"
      }
    },
    {
      "cell_type": "code",
      "source": [
        ""
      ],
      "metadata": {
        "id": "uUyTUAWMl5A4"
      },
      "execution_count": 145,
      "outputs": []
    },
    {
      "cell_type": "code",
      "source": [
        ""
      ],
      "metadata": {
        "id": "is_McAl5l_dG"
      },
      "execution_count": 145,
      "outputs": []
    },
    {
      "cell_type": "markdown",
      "source": [
        "**DISTANCE COMPUTATION 2 - EUCLIDEAN**"
      ],
      "metadata": {
        "id": "eUgtkG27mRW8"
      }
    },
    {
      "cell_type": "code",
      "source": [
        ""
      ],
      "metadata": {
        "id": "dlxxVyVal_mo"
      },
      "execution_count": 145,
      "outputs": []
    },
    {
      "cell_type": "code",
      "source": [
        ""
      ],
      "metadata": {
        "id": "0mxyN4Xbl_xn"
      },
      "execution_count": 145,
      "outputs": []
    },
    {
      "cell_type": "code",
      "source": [
        ""
      ],
      "metadata": {
        "id": "xGKXLPEDmQCx"
      },
      "execution_count": 145,
      "outputs": []
    },
    {
      "cell_type": "markdown",
      "source": [
        "**DISTANCE COMPUTATION 3 - TF-IDF**"
      ],
      "metadata": {
        "id": "wQem_P26mZDr"
      }
    },
    {
      "cell_type": "code",
      "source": [
        ""
      ],
      "metadata": {
        "id": "103uQBeTmQMg"
      },
      "execution_count": 145,
      "outputs": []
    },
    {
      "cell_type": "code",
      "source": [
        ""
      ],
      "metadata": {
        "id": "ExPgEquomQWg"
      },
      "execution_count": 145,
      "outputs": []
    },
    {
      "cell_type": "markdown",
      "source": [
        "**DISTANCE COMPUTATION 4 - BERT**"
      ],
      "metadata": {
        "id": "XE8aE2Q5mgCf"
      }
    },
    {
      "cell_type": "code",
      "source": [
        ""
      ],
      "metadata": {
        "id": "hdK5rc1XmeZt"
      },
      "execution_count": 145,
      "outputs": []
    },
    {
      "cell_type": "code",
      "source": [
        ""
      ],
      "metadata": {
        "id": "LmtgAq0dmetQ"
      },
      "execution_count": 145,
      "outputs": []
    },
    {
      "cell_type": "code",
      "source": [
        ""
      ],
      "metadata": {
        "id": "M2ac9I3Nme8_"
      },
      "execution_count": 145,
      "outputs": []
    },
    {
      "cell_type": "markdown",
      "source": [
        "**DISTANCE COMPUTATION 5 - CUSTOM ALGORITHM**"
      ],
      "metadata": {
        "id": "bzFC3_9QmnsL"
      }
    },
    {
      "cell_type": "code",
      "source": [
        ""
      ],
      "metadata": {
        "id": "aPr1YBr5mfKP"
      },
      "execution_count": 145,
      "outputs": []
    },
    {
      "cell_type": "code",
      "source": [
        ""
      ],
      "metadata": {
        "id": "1wIQtH-9mmVN"
      },
      "execution_count": 145,
      "outputs": []
    },
    {
      "cell_type": "code",
      "source": [
        ""
      ],
      "metadata": {
        "id": "dnf1UUhammk-"
      },
      "execution_count": 145,
      "outputs": []
    },
    {
      "cell_type": "markdown",
      "source": [
        "**ACCURACY METRICS OF THE VARIOUS DOCUMENT SIMILARITY ALGORITHMS**"
      ],
      "metadata": {
        "id": "L95VQh4mmuXK"
      }
    },
    {
      "cell_type": "code",
      "source": [
        ""
      ],
      "metadata": {
        "id": "giK-gp7lmmzs"
      },
      "execution_count": 145,
      "outputs": []
    },
    {
      "cell_type": "code",
      "source": [
        ""
      ],
      "metadata": {
        "id": "Ka9JYIAdmtVv"
      },
      "execution_count": 145,
      "outputs": []
    },
    {
      "cell_type": "code",
      "source": [
        ""
      ],
      "metadata": {
        "id": "DY0J8YxomtfW"
      },
      "execution_count": 145,
      "outputs": []
    },
    {
      "cell_type": "markdown",
      "source": [
        "**INTERPRETATION OF RESULTS**"
      ],
      "metadata": {
        "id": "q_9nka7jm7AE"
      }
    },
    {
      "cell_type": "code",
      "source": [
        ""
      ],
      "metadata": {
        "id": "ilQgJPDBmto5"
      },
      "execution_count": 145,
      "outputs": []
    },
    {
      "cell_type": "code",
      "source": [
        ""
      ],
      "metadata": {
        "id": "gJ88yzsmm5qU"
      },
      "execution_count": 145,
      "outputs": []
    },
    {
      "cell_type": "code",
      "source": [
        ""
      ],
      "metadata": {
        "id": "PsBj4IeEm5zY"
      },
      "execution_count": 145,
      "outputs": []
    },
    {
      "cell_type": "code",
      "source": [
        ""
      ],
      "metadata": {
        "id": "NeRCK6Uam59I"
      },
      "execution_count": 145,
      "outputs": []
    }
  ]
}